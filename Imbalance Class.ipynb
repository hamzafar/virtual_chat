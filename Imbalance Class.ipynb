{
 "cells": [
  {
   "cell_type": "code",
   "execution_count": 1,
   "metadata": {
    "collapsed": true
   },
   "outputs": [],
   "source": [
    "import pandas as pd\n",
    "import nltk\n",
    "import string\n",
    "import re\n",
    "import h2o\n",
    "import matplotlib.pyplot as plt\n",
    "%matplotlib inline\n",
    "import numpy as np"
   ]
  },
  {
   "cell_type": "code",
   "execution_count": 2,
   "metadata": {
    "collapsed": false
   },
   "outputs": [
    {
     "data": {
      "text/html": [
       "<div>\n",
       "<table border=\"1\" class=\"dataframe\">\n",
       "  <thead>\n",
       "    <tr style=\"text-align: right;\">\n",
       "      <th></th>\n",
       "      <th>passages</th>\n",
       "      <th>query</th>\n",
       "      <th>query_id</th>\n",
       "      <th>query_type</th>\n",
       "      <th>answers_yn</th>\n",
       "    </tr>\n",
       "  </thead>\n",
       "  <tbody>\n",
       "    <tr>\n",
       "      <th>0</th>\n",
       "      <td>[Row(is_selected=0, passage_text=u'In his youn...</td>\n",
       "      <td>was ronald reagan a democrat</td>\n",
       "      <td>19700</td>\n",
       "      <td>description</td>\n",
       "      <td>Yes</td>\n",
       "    </tr>\n",
       "    <tr>\n",
       "      <th>1</th>\n",
       "      <td>[Row(is_selected=0, passage_text=u'So, in the ...</td>\n",
       "      <td>do game shows pay their contestants</td>\n",
       "      <td>19749</td>\n",
       "      <td>description</td>\n",
       "      <td>Yes</td>\n",
       "    </tr>\n",
       "    <tr>\n",
       "      <th>2</th>\n",
       "      <td>[Row(is_selected=0, passage_text=u'Even though...</td>\n",
       "      <td>does peanut butter contain cholesterol</td>\n",
       "      <td>19761</td>\n",
       "      <td>description</td>\n",
       "      <td>No</td>\n",
       "    </tr>\n",
       "    <tr>\n",
       "      <th>3</th>\n",
       "      <td>[Row(is_selected=0, passage_text=u'When turnin...</td>\n",
       "      <td>can you take left hand lane to turn right on a...</td>\n",
       "      <td>19762</td>\n",
       "      <td>description</td>\n",
       "      <td>No</td>\n",
       "    </tr>\n",
       "    <tr>\n",
       "      <th>4</th>\n",
       "      <td>[Row(is_selected=0, passage_text=u'Assault on ...</td>\n",
       "      <td>is armed assault a felony</td>\n",
       "      <td>19774</td>\n",
       "      <td>description</td>\n",
       "      <td>Yes</td>\n",
       "    </tr>\n",
       "  </tbody>\n",
       "</table>\n",
       "</div>"
      ],
      "text/plain": [
       "                                            passages  \\\n",
       "0  [Row(is_selected=0, passage_text=u'In his youn...   \n",
       "1  [Row(is_selected=0, passage_text=u'So, in the ...   \n",
       "2  [Row(is_selected=0, passage_text=u'Even though...   \n",
       "3  [Row(is_selected=0, passage_text=u'When turnin...   \n",
       "4  [Row(is_selected=0, passage_text=u'Assault on ...   \n",
       "\n",
       "                                               query  query_id   query_type  \\\n",
       "0                       was ronald reagan a democrat     19700  description   \n",
       "1                do game shows pay their contestants     19749  description   \n",
       "2             does peanut butter contain cholesterol     19761  description   \n",
       "3  can you take left hand lane to turn right on a...     19762  description   \n",
       "4                          is armed assault a felony     19774  description   \n",
       "\n",
       "  answers_yn  \n",
       "0        Yes  \n",
       "1        Yes  \n",
       "2         No  \n",
       "3         No  \n",
       "4        Yes  "
      ]
     },
     "execution_count": 2,
     "metadata": {},
     "output_type": "execute_result"
    }
   ],
   "source": [
    "tmp_df = pd.read_csv('D:/marco/vr_chat-master/Marco/train_yn.csv')\n",
    "tmp_df = tmp_df.replace(['yes', 'no'], ['Yes', 'No'])\n",
    "tmp_df.head()"
   ]
  },
  {
   "cell_type": "code",
   "execution_count": 3,
   "metadata": {
    "collapsed": false
   },
   "outputs": [],
   "source": [
    "def print_dataDis(df=tmp_df):\n",
    "    print df['answers_yn'].unique()\n",
    "    print len(df[df['answers_yn'] == 'Yes']), '|', len(df[tmp_df['answers_yn'] == 'No'])\n",
    "    print 'fraction of No: ', len(df[df['answers_yn'] == 'No'])/ float(len(df[df['answers_yn'] == 'No']) + \n",
    "                                                                  float(len(df[df['answers_yn'] == 'Yes'])))"
   ]
  },
  {
   "cell_type": "code",
   "execution_count": 4,
   "metadata": {
    "collapsed": false
   },
   "outputs": [
    {
     "name": "stdout",
     "output_type": "stream",
     "text": [
      "['Yes' 'No']\n",
      "4877 | 1564\n",
      "fraction of No:  0.242819437975\n"
     ]
    }
   ],
   "source": [
    "print_dataDis()"
   ]
  },
  {
   "cell_type": "code",
   "execution_count": 5,
   "metadata": {
    "collapsed": false
   },
   "outputs": [],
   "source": [
    "def plt_bar(df =tmp_df):\n",
    "    yes=len(df[df['answers_yn'] == 'Yes'])\n",
    "    no=len(df[df['answers_yn'] == 'No'])\n",
    "    plt.bar([10,11], [yes, no] )\n",
    "    plt.xticks([10.5,11.5],['Yes','No'])\n",
    "    plt.show()"
   ]
  },
  {
   "cell_type": "code",
   "execution_count": 6,
   "metadata": {
    "collapsed": false
   },
   "outputs": [
    {
     "data": {
      "image/png": "[encoded data removed]",
      "text/plain": [
       "<matplotlib.figure.Figure at 0xb2d46a0>"
      ]
     },
     "metadata": {},
     "output_type": "display_data"
    }
   ],
   "source": [
    "plt_bar()"
   ]
  },
  {
   "cell_type": "code",
   "execution_count": 7,
   "metadata": {
    "collapsed": false
   },
   "outputs": [],
   "source": [
    "def over_samp_fra(df=tmp_df, fraction =0.7):\n",
    "    over_samp = df[df['answers_yn'] == 'No'].sample(frac=fraction, replace=True)\n",
    "#     print len(over_samp)\n",
    "    return df.append(over_samp)"
   ]
  },
  {
   "cell_type": "code",
   "execution_count": 8,
   "metadata": {
    "collapsed": false
   },
   "outputs": [
    {
     "name": "stdout",
     "output_type": "stream",
     "text": [
      "['Yes' 'No']\n",
      "4877 |"
     ]
    },
    {
     "name": "stderr",
     "output_type": "stream",
     "text": [
      "D:\\DATO\\Anaconda2\\envs\\gl-env\\lib\\site-packages\\ipykernel\\__main__.py:3: UserWarning: Boolean Series key will be reindexed to match DataFrame index.\n",
      "  app.launch_new_instance()\n"
     ]
    },
    {
     "name": "stdout",
     "output_type": "stream",
     "text": [
      " 2659\n",
      "fraction of No:  0.35283970276\n"
     ]
    }
   ],
   "source": [
    "over_samp_df= over_samp_fra()\n",
    "print_dataDis(over_samp_df)"
   ]
  },
  {
   "cell_type": "code",
   "execution_count": 9,
   "metadata": {
    "collapsed": false
   },
   "outputs": [
    {
     "data": {
      "image/png": "[encoded data removed]",
      "text/plain": [
       "<matplotlib.figure.Figure at 0xdba63c8>"
      ]
     },
     "metadata": {},
     "output_type": "display_data"
    }
   ],
   "source": [
    "plt_bar(over_samp_df)"
   ]
  },
  {
   "cell_type": "markdown",
   "metadata": {},
   "source": []
  },
  {
   "cell_type": "code",
   "execution_count": 10,
   "metadata": {
    "collapsed": true
   },
   "outputs": [],
   "source": [
    "from nltk.corpus import stopwords \n",
    "\n",
    "stop_words = set(stopwords.words('english'))\n",
    "\n",
    "from sklearn.feature_extraction.text import TfidfVectorizer\n",
    "from sklearn.feature_extraction.text import TfidfTransformer\n",
    "from nltk.stem.porter import PorterStemmer\n",
    "\n",
    "from nltk.stem.porter import *"
   ]
  },
  {
   "cell_type": "markdown",
   "metadata": {},
   "source": [
    "# tf-idf "
   ]
  },
  {
   "cell_type": "code",
   "execution_count": 44,
   "metadata": {
    "collapsed": true
   },
   "outputs": [],
   "source": [
    "def tf_cln(sent = tmp_df.iloc[0][0],cln=True):\n",
    "\n",
    "    lowers= sent.lower()\n",
    "    no_punctuation = lowers.translate(None, string.punctuation)\n",
    "    slt_sent = re.findall(r'passagetext(.*?)url',no_punctuation)\n",
    "    \n",
    "    if(cln==True):\n",
    "        slt_sent = re.findall(r'passage_text(.*?)url',sent)\n",
    "    else:\n",
    "        slt_sent = sent\n",
    "        \n",
    "    token = nltk.word_tokenize(str(slt_sent))\n",
    "    filtered_sentence = [w for w in token if not w in stop_words]\n",
    "\n",
    "    for i in filtered_sentence:\n",
    "        if re.findall(r'^\\W.*',str(i)):\n",
    "            stop_words.add(i)\n",
    "    stop_words.add('``')\n",
    "    filtered_sentence = [w for w in token if not w in stop_words]\n",
    "\n",
    "    tf = nltk.FreqDist(filtered_sentence)\n",
    "    \n",
    "    return dict(tf)"
   ]
  },
  {
   "cell_type": "code",
   "execution_count": 45,
   "metadata": {
    "collapsed": true
   },
   "outputs": [],
   "source": [
    "def get_tf_idf(dic):\n",
    "    transformer = TfidfTransformer(smooth_idf=False)\n",
    "    tf_idf=transformer.fit_transform(dic.values())\n",
    "    return tf_idf.toarray()"
   ]
  },
  {
   "cell_type": "code",
   "execution_count": 46,
   "metadata": {
    "collapsed": true
   },
   "outputs": [],
   "source": [
    "def convt_lst(arr):\n",
    "    return (pd.DataFrame(arr).iloc[0,:])"
   ]
  },
  {
   "cell_type": "code",
   "execution_count": 50,
   "metadata": {
    "collapsed": true
   },
   "outputs": [],
   "source": [
    "#########save over_samp_df to tmp_df to upcoming var assign#########\n",
    "tmp_df = over_samp_df"
   ]
  },
  {
   "cell_type": "code",
   "execution_count": 52,
   "metadata": {
    "collapsed": true
   },
   "outputs": [],
   "source": [
    "lst_tfidf_psg=[]\n",
    "for i in tmp_df.iloc[:,0]:\n",
    "    lst_tfidf_psg.append(list(convt_lst(get_tf_idf(tf_cln(i)))))"
   ]
  },
  {
   "cell_type": "code",
   "execution_count": 53,
   "metadata": {
    "collapsed": true
   },
   "outputs": [],
   "source": [
    "lst_tfidf_qry = []\n",
    "for i in tmp_df.iloc[:,1]:\n",
    "    lst_tfidf_qry.append(list(convt_lst(get_tf_idf(tf_cln(i,False)))))"
   ]
  },
  {
   "cell_type": "code",
   "execution_count": 54,
   "metadata": {
    "collapsed": true
   },
   "outputs": [],
   "source": [
    "tmp_df = tmp_df.replace(tmp_df['query_type'].unique(),range(0,len(tmp_df['query_type'].unique())))\n",
    "tmp_df['passages'] = lst_tfidf_psg\n",
    "tmp_df['query'] = lst_tfidf_qry\n",
    "tmp_df = tmp_df.replace(['yes', 'no'], ['Yes', 'No'])\n",
    "tmp_df = tmp_df.replace(['Yes', 'No'], ['1', '0'])"
   ]
  },
  {
   "cell_type": "code",
   "execution_count": 56,
   "metadata": {
    "collapsed": false
   },
   "outputs": [
    {
     "data": {
      "text/html": [
       "<div>\n",
       "<table border=\"1\" class=\"dataframe\">\n",
       "  <thead>\n",
       "    <tr style=\"text-align: right;\">\n",
       "      <th></th>\n",
       "      <th>passages</th>\n",
       "      <th>query</th>\n",
       "      <th>query_id</th>\n",
       "      <th>query_type</th>\n",
       "      <th>answers_yn</th>\n",
       "    </tr>\n",
       "  </thead>\n",
       "  <tbody>\n",
       "    <tr>\n",
       "      <th>0</th>\n",
       "      <td>[0.034523833988, 0.069047667976, 0.03452383398...</td>\n",
       "      <td>[0.57735026919, 0.57735026919, 0.57735026919]</td>\n",
       "      <td>19700</td>\n",
       "      <td>0</td>\n",
       "      <td>1</td>\n",
       "    </tr>\n",
       "    <tr>\n",
       "      <th>1</th>\n",
       "      <td>[0.0283410100633, 0.510138181139, 0.1700460603...</td>\n",
       "      <td>[0.5, 0.5, 0.5, 0.5]</td>\n",
       "      <td>19749</td>\n",
       "      <td>0</td>\n",
       "      <td>1</td>\n",
       "    </tr>\n",
       "    <tr>\n",
       "      <th>2</th>\n",
       "      <td>[0.0436020720197, 0.0872041440394, 0.087204144...</td>\n",
       "      <td>[0.5, 0.5, 0.5, 0.5]</td>\n",
       "      <td>19761</td>\n",
       "      <td>0</td>\n",
       "      <td>0</td>\n",
       "    </tr>\n",
       "    <tr>\n",
       "      <th>3</th>\n",
       "      <td>[0.025515518154, 0.025515518154, 0.06378879538...</td>\n",
       "      <td>[0.333333333333, 0.333333333333, 0.33333333333...</td>\n",
       "      <td>19762</td>\n",
       "      <td>0</td>\n",
       "      <td>0</td>\n",
       "    </tr>\n",
       "    <tr>\n",
       "      <th>4</th>\n",
       "      <td>[0.0286534127531, 0.0286534127531, 0.028653412...</td>\n",
       "      <td>[0.57735026919, 0.57735026919, 0.57735026919]</td>\n",
       "      <td>19774</td>\n",
       "      <td>0</td>\n",
       "      <td>1</td>\n",
       "    </tr>\n",
       "    <tr>\n",
       "      <th>5</th>\n",
       "      <td>[0.0229900244936, 0.0459800489872, 0.022990024...</td>\n",
       "      <td>[0.707106781187, 0.707106781187]</td>\n",
       "      <td>19784</td>\n",
       "      <td>0</td>\n",
       "      <td>1</td>\n",
       "    </tr>\n",
       "    <tr>\n",
       "      <th>6</th>\n",
       "      <td>[0.023131050103, 0.0462621002059, 0.0231310501...</td>\n",
       "      <td>[0.707106781187, 0.707106781187]</td>\n",
       "      <td>19813</td>\n",
       "      <td>0</td>\n",
       "      <td>0</td>\n",
       "    </tr>\n",
       "    <tr>\n",
       "      <th>7</th>\n",
       "      <td>[0.0209151935046, 0.0209151935046, 0.020915193...</td>\n",
       "      <td>[0.5, 0.5, 0.5, 0.5]</td>\n",
       "      <td>19829</td>\n",
       "      <td>0</td>\n",
       "      <td>1</td>\n",
       "    </tr>\n",
       "    <tr>\n",
       "      <th>8</th>\n",
       "      <td>[0.0209151935046, 0.0209151935046, 0.020915193...</td>\n",
       "      <td>[0.5, 0.5, 0.5, 0.5]</td>\n",
       "      <td>19829</td>\n",
       "      <td>0</td>\n",
       "      <td>0</td>\n",
       "    </tr>\n",
       "    <tr>\n",
       "      <th>9</th>\n",
       "      <td>[0.0506369683542, 0.0506369683542, 0.050636968...</td>\n",
       "      <td>[0.5, 0.5, 0.5, 0.5]</td>\n",
       "      <td>19830</td>\n",
       "      <td>0</td>\n",
       "      <td>1</td>\n",
       "    </tr>\n",
       "  </tbody>\n",
       "</table>\n",
       "</div>"
      ],
      "text/plain": [
       "                                            passages  \\\n",
       "0  [0.034523833988, 0.069047667976, 0.03452383398...   \n",
       "1  [0.0283410100633, 0.510138181139, 0.1700460603...   \n",
       "2  [0.0436020720197, 0.0872041440394, 0.087204144...   \n",
       "3  [0.025515518154, 0.025515518154, 0.06378879538...   \n",
       "4  [0.0286534127531, 0.0286534127531, 0.028653412...   \n",
       "5  [0.0229900244936, 0.0459800489872, 0.022990024...   \n",
       "6  [0.023131050103, 0.0462621002059, 0.0231310501...   \n",
       "7  [0.0209151935046, 0.0209151935046, 0.020915193...   \n",
       "8  [0.0209151935046, 0.0209151935046, 0.020915193...   \n",
       "9  [0.0506369683542, 0.0506369683542, 0.050636968...   \n",
       "\n",
       "                                               query  query_id  query_type  \\\n",
       "0      [0.57735026919, 0.57735026919, 0.57735026919]     19700           0   \n",
       "1                               [0.5, 0.5, 0.5, 0.5]     19749           0   \n",
       "2                               [0.5, 0.5, 0.5, 0.5]     19761           0   \n",
       "3  [0.333333333333, 0.333333333333, 0.33333333333...     19762           0   \n",
       "4      [0.57735026919, 0.57735026919, 0.57735026919]     19774           0   \n",
       "5                   [0.707106781187, 0.707106781187]     19784           0   \n",
       "6                   [0.707106781187, 0.707106781187]     19813           0   \n",
       "7                               [0.5, 0.5, 0.5, 0.5]     19829           0   \n",
       "8                               [0.5, 0.5, 0.5, 0.5]     19829           0   \n",
       "9                               [0.5, 0.5, 0.5, 0.5]     19830           0   \n",
       "\n",
       "  answers_yn  \n",
       "0          1  \n",
       "1          1  \n",
       "2          0  \n",
       "3          0  \n",
       "4          1  \n",
       "5          1  \n",
       "6          0  \n",
       "7          1  \n",
       "8          0  \n",
       "9          1  "
      ]
     },
     "execution_count": 56,
     "metadata": {},
     "output_type": "execute_result"
    }
   ],
   "source": [
    "tmp_df.head(10)"
   ]
  },
  {
   "cell_type": "code",
   "execution_count": 58,
   "metadata": {
    "collapsed": false
   },
   "outputs": [
    {
     "name": "stdout",
     "output_type": "stream",
     "text": [
      "Checking whether there is an H2O instance running at http://localhost:54321. connected.\n"
     ]
    },
    {
     "data": {
      "text/html": [
       "<div style=\"overflow:auto\"><table style=\"width:50%\"><tr><td>H2O cluster uptime:</td>\n",
       "<td>07 secs</td></tr>\n",
       "<tr><td>H2O cluster version:</td>\n",
       "<td>3.10.0.10</td></tr>\n",
       "<tr><td>H2O cluster version age:</td>\n",
       "<td>2 months and 15 days </td></tr>\n",
       "<tr><td>H2O cluster name:</td>\n",
       "<td>H2O_from_python_user_mt10a9</td></tr>\n",
       "<tr><td>H2O cluster total nodes:</td>\n",
       "<td>1</td></tr>\n",
       "<tr><td>H2O cluster free memory:</td>\n",
       "<td>896 Mb</td></tr>\n",
       "<tr><td>H2O cluster total cores:</td>\n",
       "<td>2</td></tr>\n",
       "<tr><td>H2O cluster allowed cores:</td>\n",
       "<td>2</td></tr>\n",
       "<tr><td>H2O cluster status:</td>\n",
       "<td>accepting new members, healthy</td></tr>\n",
       "<tr><td>H2O connection url:</td>\n",
       "<td>http://localhost:54321</td></tr>\n",
       "<tr><td>H2O connection proxy:</td>\n",
       "<td>None</td></tr>\n",
       "<tr><td>Python version:</td>\n",
       "<td>2.7.11 final</td></tr></table></div>"
      ],
      "text/plain": [
       "--------------------------  ------------------------------\n",
       "H2O cluster uptime:         07 secs\n",
       "H2O cluster version:        3.10.0.10\n",
       "H2O cluster version age:    2 months and 15 days\n",
       "H2O cluster name:           H2O_from_python_user_mt10a9\n",
       "H2O cluster total nodes:    1\n",
       "H2O cluster free memory:    896 Mb\n",
       "H2O cluster total cores:    2\n",
       "H2O cluster allowed cores:  2\n",
       "H2O cluster status:         accepting new members, healthy\n",
       "H2O connection url:         http://localhost:54321\n",
       "H2O connection proxy:\n",
       "Python version:             2.7.11 final\n",
       "--------------------------  ------------------------------"
      ]
     },
     "metadata": {},
     "output_type": "display_data"
    }
   ],
   "source": [
    "h2o.init()"
   ]
  },
  {
   "cell_type": "code",
   "execution_count": 59,
   "metadata": {
    "collapsed": false
   },
   "outputs": [
    {
     "name": "stdout",
     "output_type": "stream",
     "text": [
      "Parse progress: |█████████████████████████████████████████████████████████| 100%\n",
      "Parse progress: |█████████████████████████████████████████████████████████| 100%\n",
      "Parse progress: |█████████████████████████████████████████████████████████| 100%\n"
     ]
    }
   ],
   "source": [
    "hdf_tfidf_psg = h2o.H2OFrame(lst_tfidf_psg)\n",
    "hdf_tfidf_qry = h2o.H2OFrame(lst_tfidf_qry)\n",
    "\n",
    "hdf_tfidf = hdf_tfidf_psg.cbind(hdf_tfidf_qry)\n",
    "hdf_tfidf = hdf_tfidf.cbind(h2o.H2OFrame(tmp_df[tmp_df.columns[2:3]]))\n"
   ]
  },
  {
   "cell_type": "code",
   "execution_count": 60,
   "metadata": {
    "collapsed": false
   },
   "outputs": [
    {
     "name": "stdout",
     "output_type": "stream",
     "text": [
      "Parse progress: |█████████████████████████████████████████████████████████| 100%\n"
     ]
    }
   ],
   "source": [
    "hdf_target = h2o.H2OFrame(pd.DataFrame(tmp_df.answers_yn))\n",
    "hdf = h2o.H2OFrame.cbind(hdf_tfidf,h2o.H2OFrame.asfactor(hdf_target))"
   ]
  },
  {
   "cell_type": "code",
   "execution_count": 61,
   "metadata": {
    "collapsed": false
   },
   "outputs": [
    {
     "data": {
      "text/html": [
       "<table>\n",
       "<thead>\n",
       "<tr><th style=\"text-align: right;\">       C1</th><th style=\"text-align: right;\">       C2</th><th style=\"text-align: right;\">       C3</th><th style=\"text-align: right;\">       C4</th><th style=\"text-align: right;\">       C5</th><th style=\"text-align: right;\">       C6</th><th style=\"text-align: right;\">       C7</th><th style=\"text-align: right;\">       C8</th><th style=\"text-align: right;\">       C9</th><th style=\"text-align: right;\">      C10</th><th style=\"text-align: right;\">      C11</th><th style=\"text-align: right;\">      C12</th><th style=\"text-align: right;\">     C13</th><th style=\"text-align: right;\">     C14</th><th style=\"text-align: right;\">     C15</th><th style=\"text-align: right;\">      C16</th><th style=\"text-align: right;\">      C17</th><th style=\"text-align: right;\">      C18</th><th style=\"text-align: right;\">      C19</th><th style=\"text-align: right;\">      C20</th><th style=\"text-align: right;\">      C21</th><th style=\"text-align: right;\">      C22</th><th style=\"text-align: right;\">      C23</th><th style=\"text-align: right;\">     C24</th><th style=\"text-align: right;\">      C25</th><th style=\"text-align: right;\">      C26</th><th style=\"text-align: right;\">      C27</th><th style=\"text-align: right;\">      C28</th><th style=\"text-align: right;\">      C29</th><th style=\"text-align: right;\">     C30</th><th style=\"text-align: right;\">      C31</th><th style=\"text-align: right;\">      C32</th><th style=\"text-align: right;\">      C33</th><th style=\"text-align: right;\">      C34</th><th style=\"text-align: right;\">      C35</th><th style=\"text-align: right;\">      C36</th><th style=\"text-align: right;\">      C37</th><th style=\"text-align: right;\">      C38</th><th style=\"text-align: right;\">      C39</th><th style=\"text-align: right;\">      C40</th><th style=\"text-align: right;\">      C41</th><th style=\"text-align: right;\">      C42</th><th style=\"text-align: right;\">      C43</th><th style=\"text-align: right;\">      C44</th><th style=\"text-align: right;\">      C45</th><th style=\"text-align: right;\">      C46</th><th style=\"text-align: right;\">      C47</th><th style=\"text-align: right;\">      C48</th><th style=\"text-align: right;\">      C49</th><th style=\"text-align: right;\">      C50</th><th style=\"text-align: right;\">      C51</th><th style=\"text-align: right;\">      C52</th><th style=\"text-align: right;\">      C53</th><th style=\"text-align: right;\">      C54</th><th style=\"text-align: right;\">      C55</th><th style=\"text-align: right;\">      C56</th><th style=\"text-align: right;\">      C57</th><th style=\"text-align: right;\">      C58</th><th style=\"text-align: right;\">      C59</th><th style=\"text-align: right;\">     C60</th><th style=\"text-align: right;\">      C61</th><th style=\"text-align: right;\">     C62</th><th style=\"text-align: right;\">      C63</th><th style=\"text-align: right;\">      C64</th><th style=\"text-align: right;\">      C65</th><th style=\"text-align: right;\">     C66</th><th style=\"text-align: right;\">      C67</th><th style=\"text-align: right;\">      C68</th><th style=\"text-align: right;\">     C69</th><th style=\"text-align: right;\">      C70</th><th style=\"text-align: right;\">      C71</th><th style=\"text-align: right;\">      C72</th><th style=\"text-align: right;\">      C73</th><th style=\"text-align: right;\">      C74</th><th style=\"text-align: right;\">      C75</th><th style=\"text-align: right;\">      C76</th><th style=\"text-align: right;\">      C77</th><th style=\"text-align: right;\">      C78</th><th style=\"text-align: right;\">      C79</th><th style=\"text-align: right;\">     C80</th><th style=\"text-align: right;\">      C81</th><th style=\"text-align: right;\">      C82</th><th style=\"text-align: right;\">      C83</th><th style=\"text-align: right;\">      C84</th><th style=\"text-align: right;\">      C85</th><th style=\"text-align: right;\">      C86</th><th style=\"text-align: right;\">     C87</th><th style=\"text-align: right;\">      C88</th><th style=\"text-align: right;\">      C89</th><th style=\"text-align: right;\">      C90</th><th style=\"text-align: right;\">      C91</th><th style=\"text-align: right;\">      C92</th><th style=\"text-align: right;\">      C93</th><th style=\"text-align: right;\">      C94</th><th style=\"text-align: right;\">     C95</th><th style=\"text-align: right;\">      C96</th><th style=\"text-align: right;\">      C97</th><th style=\"text-align: right;\">      C98</th><th style=\"text-align: right;\">      C99</th><th style=\"text-align: right;\">     C100</th><th style=\"text-align: right;\">     C101</th><th style=\"text-align: right;\">    C102</th><th style=\"text-align: right;\">     C103</th><th style=\"text-align: right;\">     C104</th><th style=\"text-align: right;\">     C105</th><th style=\"text-align: right;\">     C106</th><th style=\"text-align: right;\">     C107</th><th style=\"text-align: right;\">     C108</th><th style=\"text-align: right;\">     C109</th><th style=\"text-align: right;\">     C110</th><th style=\"text-align: right;\">     C111</th><th style=\"text-align: right;\">     C112</th><th style=\"text-align: right;\">     C113</th><th style=\"text-align: right;\">    C114</th><th style=\"text-align: right;\">    C115</th><th style=\"text-align: right;\">     C116</th><th style=\"text-align: right;\">     C117</th><th style=\"text-align: right;\">     C118</th><th style=\"text-align: right;\">     C119</th><th style=\"text-align: right;\">     C120</th><th style=\"text-align: right;\">    C121</th><th style=\"text-align: right;\">     C122</th><th style=\"text-align: right;\">    C123</th><th style=\"text-align: right;\">     C124</th><th style=\"text-align: right;\">     C125</th><th style=\"text-align: right;\">    C126</th><th style=\"text-align: right;\">     C127</th><th style=\"text-align: right;\">     C128</th><th style=\"text-align: right;\">     C129</th><th style=\"text-align: right;\">     C130</th><th style=\"text-align: right;\">     C131</th><th style=\"text-align: right;\">     C132</th><th style=\"text-align: right;\">    C133</th><th style=\"text-align: right;\">     C134</th><th style=\"text-align: right;\">    C135</th><th style=\"text-align: right;\">     C136</th><th style=\"text-align: right;\">     C137</th><th style=\"text-align: right;\">     C138</th><th style=\"text-align: right;\">     C139</th><th style=\"text-align: right;\">     C140</th><th style=\"text-align: right;\">     C141</th><th style=\"text-align: right;\">     C142</th><th style=\"text-align: right;\">     C143</th><th style=\"text-align: right;\">    C144</th><th style=\"text-align: right;\">     C145</th><th style=\"text-align: right;\">     C146</th><th style=\"text-align: right;\">     C147</th><th style=\"text-align: right;\">     C148</th><th style=\"text-align: right;\">     C149</th><th style=\"text-align: right;\">     C150</th><th style=\"text-align: right;\">     C151</th><th style=\"text-align: right;\">     C152</th><th style=\"text-align: right;\">     C153</th><th style=\"text-align: right;\">     C154</th><th style=\"text-align: right;\">     C155</th><th style=\"text-align: right;\">     C156</th><th style=\"text-align: right;\">     C157</th><th style=\"text-align: right;\">     C158</th><th style=\"text-align: right;\">     C159</th><th style=\"text-align: right;\">     C160</th><th style=\"text-align: right;\">     C161</th><th style=\"text-align: right;\">     C162</th><th style=\"text-align: right;\">    C163</th><th style=\"text-align: right;\">     C164</th><th style=\"text-align: right;\">     C165</th><th style=\"text-align: right;\">     C166</th><th style=\"text-align: right;\">     C167</th><th style=\"text-align: right;\">    C168</th><th style=\"text-align: right;\">     C169</th><th style=\"text-align: right;\">     C170</th><th style=\"text-align: right;\">     C171</th><th style=\"text-align: right;\">  C172</th><th style=\"text-align: right;\">  C173</th><th style=\"text-align: right;\">  C174</th><th style=\"text-align: right;\">  C175</th><th style=\"text-align: right;\">  C176</th><th style=\"text-align: right;\">  C177</th><th style=\"text-align: right;\">  C178</th><th style=\"text-align: right;\">  C179</th><th style=\"text-align: right;\">  C180</th><th style=\"text-align: right;\">  C181</th><th style=\"text-align: right;\">  C182</th><th style=\"text-align: right;\">  C183</th><th style=\"text-align: right;\">  C184</th><th style=\"text-align: right;\">  C185</th><th style=\"text-align: right;\">  C186</th><th style=\"text-align: right;\">  C187</th><th style=\"text-align: right;\">  C188</th><th style=\"text-align: right;\">  C189</th><th style=\"text-align: right;\">  C190</th><th style=\"text-align: right;\">  C191</th><th style=\"text-align: right;\">  C192</th><th style=\"text-align: right;\">  C193</th><th style=\"text-align: right;\">  C194</th><th style=\"text-align: right;\">  C195</th><th style=\"text-align: right;\">  C196</th><th style=\"text-align: right;\">  C197</th><th style=\"text-align: right;\">  C198</th><th style=\"text-align: right;\">  C199</th><th style=\"text-align: right;\">  C200</th></tr>\n",
       "</thead>\n",
       "<tbody>\n",
       "<tr><td style=\"text-align: right;\">0.0345238</td><td style=\"text-align: right;\">0.0690477</td><td style=\"text-align: right;\">0.0345238</td><td style=\"text-align: right;\">0.0345238</td><td style=\"text-align: right;\">0.0345238</td><td style=\"text-align: right;\">0.0690477</td><td style=\"text-align: right;\">0.0345238</td><td style=\"text-align: right;\">0.0345238</td><td style=\"text-align: right;\">0.0690477</td><td style=\"text-align: right;\">0.0345238</td><td style=\"text-align: right;\">0.0345238</td><td style=\"text-align: right;\">0.0345238</td><td style=\"text-align: right;\">0.103572</td><td style=\"text-align: right;\">0.103572</td><td style=\"text-align: right;\">0.310715</td><td style=\"text-align: right;\">0.0345238</td><td style=\"text-align: right;\">0.0345238</td><td style=\"text-align: right;\">0.0345238</td><td style=\"text-align: right;\">0.0345238</td><td style=\"text-align: right;\">0.0690477</td><td style=\"text-align: right;\">0.0345238</td><td style=\"text-align: right;\">0.0345238</td><td style=\"text-align: right;\">0.0690477</td><td style=\"text-align: right;\">0.103572</td><td style=\"text-align: right;\">0.0345238</td><td style=\"text-align: right;\">0.0345238</td><td style=\"text-align: right;\">0.0345238</td><td style=\"text-align: right;\">0.0345238</td><td style=\"text-align: right;\">0.0345238</td><td style=\"text-align: right;\">0.207143</td><td style=\"text-align: right;\">0.0345238</td><td style=\"text-align: right;\">0.0345238</td><td style=\"text-align: right;\">0.0345238</td><td style=\"text-align: right;\">0.0345238</td><td style=\"text-align: right;\">0.0345238</td><td style=\"text-align: right;\">0.0345238</td><td style=\"text-align: right;\">0.0345238</td><td style=\"text-align: right;\">0.0345238</td><td style=\"text-align: right;\">0.0345238</td><td style=\"text-align: right;\">0.0345238</td><td style=\"text-align: right;\">0.0345238</td><td style=\"text-align: right;\">0.0345238</td><td style=\"text-align: right;\">0.0345238</td><td style=\"text-align: right;\">0.0690477</td><td style=\"text-align: right;\">0.0345238</td><td style=\"text-align: right;\">0.0345238</td><td style=\"text-align: right;\">0.0690477</td><td style=\"text-align: right;\">0.0345238</td><td style=\"text-align: right;\">0.0345238</td><td style=\"text-align: right;\">0.0345238</td><td style=\"text-align: right;\">0.0345238</td><td style=\"text-align: right;\">0.0345238</td><td style=\"text-align: right;\">0.0345238</td><td style=\"text-align: right;\">0.0690477</td><td style=\"text-align: right;\">0.0345238</td><td style=\"text-align: right;\">0.0690477</td><td style=\"text-align: right;\">0.0345238</td><td style=\"text-align: right;\">0.0345238</td><td style=\"text-align: right;\">0.0345238</td><td style=\"text-align: right;\">0.103572</td><td style=\"text-align: right;\">0.0690477</td><td style=\"text-align: right;\">0.172619</td><td style=\"text-align: right;\">0.0345238</td><td style=\"text-align: right;\">0.0345238</td><td style=\"text-align: right;\">0.0345238</td><td style=\"text-align: right;\">0.103572</td><td style=\"text-align: right;\">0.0690477</td><td style=\"text-align: right;\">0.0345238</td><td style=\"text-align: right;\">0.103572</td><td style=\"text-align: right;\">0.0345238</td><td style=\"text-align: right;\">0.0345238</td><td style=\"text-align: right;\">0.0690477</td><td style=\"text-align: right;\">0.0345238</td><td style=\"text-align: right;\">0.0345238</td><td style=\"text-align: right;\">0.0345238</td><td style=\"text-align: right;\">0.0345238</td><td style=\"text-align: right;\">0.0345238</td><td style=\"text-align: right;\">0.0345238</td><td style=\"text-align: right;\">0.0690477</td><td style=\"text-align: right;\">0.103572</td><td style=\"text-align: right;\">0.0345238</td><td style=\"text-align: right;\">0.0690477</td><td style=\"text-align: right;\">0.0345238</td><td style=\"text-align: right;\">0.0690477</td><td style=\"text-align: right;\">0.0690477</td><td style=\"text-align: right;\">0.0345238</td><td style=\"text-align: right;\">0.103572</td><td style=\"text-align: right;\">0.0345238</td><td style=\"text-align: right;\">0.0690477</td><td style=\"text-align: right;\">0.0345238</td><td style=\"text-align: right;\">0.0690477</td><td style=\"text-align: right;\">0.0345238</td><td style=\"text-align: right;\">0.0345238</td><td style=\"text-align: right;\">0.0345238</td><td style=\"text-align: right;\">0.138095</td><td style=\"text-align: right;\">0.0690477</td><td style=\"text-align: right;\">0.0690477</td><td style=\"text-align: right;\">0.0345238</td><td style=\"text-align: right;\">0.0345238</td><td style=\"text-align: right;\">0.0345238</td><td style=\"text-align: right;\">0.0690477</td><td style=\"text-align: right;\">0.103572</td><td style=\"text-align: right;\">0.0690477</td><td style=\"text-align: right;\">0.0690477</td><td style=\"text-align: right;\">0.0345238</td><td style=\"text-align: right;\">0.0690477</td><td style=\"text-align: right;\">0.0345238</td><td style=\"text-align: right;\">0.0345238</td><td style=\"text-align: right;\">0.0345238</td><td style=\"text-align: right;\">0.0690477</td><td style=\"text-align: right;\">0.0345238</td><td style=\"text-align: right;\">0.0345238</td><td style=\"text-align: right;\">0.0345238</td><td style=\"text-align: right;\">0.207143</td><td style=\"text-align: right;\">0.103572</td><td style=\"text-align: right;\">0.0345238</td><td style=\"text-align: right;\">0.0345238</td><td style=\"text-align: right;\">0.0345238</td><td style=\"text-align: right;\">0.0345238</td><td style=\"text-align: right;\">0.0690477</td><td style=\"text-align: right;\">0.517858</td><td style=\"text-align: right;\">0.0345238</td><td style=\"text-align: right;\">0.103572</td><td style=\"text-align: right;\">0.0345238</td><td style=\"text-align: right;\">0.0345238</td><td style=\"text-align: right;\">0.103572</td><td style=\"text-align: right;\">0.0345238</td><td style=\"text-align: right;\">0.0345238</td><td style=\"text-align: right;\">0.0345238</td><td style=\"text-align: right;\">0.0345238</td><td style=\"text-align: right;\">0.0345238</td><td style=\"text-align: right;\">0.0345238</td><td style=\"text-align: right;\">0.172619</td><td style=\"text-align: right;\">0.0345238</td><td style=\"text-align: right;\">0.103572</td><td style=\"text-align: right;\">0.0690477</td><td style=\"text-align: right;\">0.0690477</td><td style=\"text-align: right;\">0.0345238</td><td style=\"text-align: right;\">0.0345238</td><td style=\"text-align: right;\">0.0345238</td><td style=\"text-align: right;\">0.0345238</td><td style=\"text-align: right;\">0.0345238</td><td style=\"text-align: right;\">0.0345238</td><td style=\"text-align: right;\">0.103572</td><td style=\"text-align: right;\">0.0690477</td><td style=\"text-align: right;\">0.0345238</td><td style=\"text-align: right;\">0.0345238</td><td style=\"text-align: right;\">0.0690477</td><td style=\"text-align: right;\">0.0345238</td><td style=\"text-align: right;\">0.0345238</td><td style=\"text-align: right;\">0.0345238</td><td style=\"text-align: right;\">0.0690477</td><td style=\"text-align: right;\">0.0345238</td><td style=\"text-align: right;\">0.0690477</td><td style=\"text-align: right;\">0.0345238</td><td style=\"text-align: right;\">0.0345238</td><td style=\"text-align: right;\">0.0345238</td><td style=\"text-align: right;\">0.0345238</td><td style=\"text-align: right;\">0.0345238</td><td style=\"text-align: right;\">0.0345238</td><td style=\"text-align: right;\">0.0345238</td><td style=\"text-align: right;\">0.0345238</td><td style=\"text-align: right;\">0.103572</td><td style=\"text-align: right;\">0.0345238</td><td style=\"text-align: right;\">0.0345238</td><td style=\"text-align: right;\">0.0345238</td><td style=\"text-align: right;\">0.0345238</td><td style=\"text-align: right;\">0.138095</td><td style=\"text-align: right;\">0.0345238</td><td style=\"text-align: right;\">0.0345238</td><td style=\"text-align: right;\">0.0345238</td><td style=\"text-align: right;\">   nan</td><td style=\"text-align: right;\">   nan</td><td style=\"text-align: right;\">   nan</td><td style=\"text-align: right;\">   nan</td><td style=\"text-align: right;\">   nan</td><td style=\"text-align: right;\">   nan</td><td style=\"text-align: right;\">   nan</td><td style=\"text-align: right;\">   nan</td><td style=\"text-align: right;\">   nan</td><td style=\"text-align: right;\">   nan</td><td style=\"text-align: right;\">   nan</td><td style=\"text-align: right;\">   nan</td><td style=\"text-align: right;\">   nan</td><td style=\"text-align: right;\">   nan</td><td style=\"text-align: right;\">   nan</td><td style=\"text-align: right;\">   nan</td><td style=\"text-align: right;\">   nan</td><td style=\"text-align: right;\">   nan</td><td style=\"text-align: right;\">   nan</td><td style=\"text-align: right;\">   nan</td><td style=\"text-align: right;\">   nan</td><td style=\"text-align: right;\">   nan</td><td style=\"text-align: right;\">   nan</td><td style=\"text-align: right;\">   nan</td><td style=\"text-align: right;\">   nan</td><td style=\"text-align: right;\">   nan</td><td style=\"text-align: right;\">   nan</td><td style=\"text-align: right;\">   nan</td><td style=\"text-align: right;\">   nan</td></tr>\n",
       "</tbody>\n",
       "</table>"
      ]
     },
     "metadata": {},
     "output_type": "display_data"
    },
    {
     "data": {
      "text/plain": []
     },
     "execution_count": 61,
     "metadata": {},
     "output_type": "execute_result"
    }
   ],
   "source": [
    "hdf.head(1)"
   ]
  },
  {
   "cell_type": "code",
   "execution_count": 62,
   "metadata": {
    "collapsed": true
   },
   "outputs": [],
   "source": [
    "hdf_train, hdf_validate=hdf.split_frame(ratios=[0.75], seed =5010)"
   ]
  },
  {
   "cell_type": "code",
   "execution_count": 64,
   "metadata": {
    "collapsed": false
   },
   "outputs": [],
   "source": [
    "from h2o.estimators.naive_bayes import H2ONaiveBayesEstimator\n",
    "from h2o.estimators.gbm import H2OGradientBoostingEstimator\n",
    "from h2o.estimators.deeplearning import H2ODeepLearningEstimator"
   ]
  },
  {
   "cell_type": "code",
   "execution_count": 65,
   "metadata": {
    "collapsed": false
   },
   "outputs": [
    {
     "name": "stdout",
     "output_type": "stream",
     "text": [
      "naivebayes Model Build progress: |████████████████████████████████████████| 100%\n"
     ]
    }
   ],
   "source": [
    "nb =H2ONaiveBayesEstimator(seed =1)\n",
    "nb.train(x = hdf.columns[0:len(hdf.col_names)-1], y = 'answers_yn', training_frame=hdf_train, validation_frame=hdf_validate)"
   ]
  },
  {
   "cell_type": "code",
   "execution_count": 66,
   "metadata": {
    "collapsed": false
   },
   "outputs": [
    {
     "data": {
      "text/plain": [
       "0.0"
      ]
     },
     "execution_count": 66,
     "metadata": {},
     "output_type": "execute_result"
    }
   ],
   "source": [
    "nb.auc()"
   ]
  },
  {
   "cell_type": "code",
   "execution_count": 71,
   "metadata": {
    "collapsed": false
   },
   "outputs": [
    {
     "name": "stdout",
     "output_type": "stream",
     "text": [
      "gbm Model Build progress: |███████████████████████████████████████████████| 100%\n"
     ]
    }
   ],
   "source": [
    "gbm_model = H2OGradientBoostingEstimator(seed =1,  ntrees = 500, learn_rate = .05)\n",
    "gbm_model.train(x = hdf.columns[0:len(hdf.col_names)-1], y = 'answers_yn', training_frame=hdf_train, validation_frame=hdf_validate)"
   ]
  },
  {
   "cell_type": "code",
   "execution_count": 72,
   "metadata": {
    "collapsed": false
   },
   "outputs": [
    {
     "data": {
      "image/png": "[encoded data removed]",
      "text/plain": [
       "<matplotlib.figure.Figure at 0x150c42b0>"
      ]
     },
     "metadata": {},
     "output_type": "display_data"
    }
   ],
   "source": [
    "gbm_model.plot()"
   ]
  },
  {
   "cell_type": "code",
   "execution_count": 73,
   "metadata": {
    "collapsed": false
   },
   "outputs": [
    {
     "data": {
      "text/plain": [
       "[<matplotlib.lines.Line2D at 0x155844e0>]"
      ]
     },
     "execution_count": 73,
     "metadata": {},
     "output_type": "execute_result"
    },
    {
     "data": {
      "image/png": "[encoded data removed]",
      "text/plain": [
       "<matplotlib.figure.Figure at 0xb77b9b0>"
      ]
     },
     "metadata": {},
     "output_type": "display_data"
    }
   ],
   "source": [
    "roc_valid = gbm_model.roc(valid=True)\n",
    "roc_train= gbm_model.roc()\n",
    "\n",
    "plt.plot(roc_valid[0],roc_valid[1])\n",
    "plt.plot(roc_train[0],roc_train[1])\n",
    "plt.plot(np.arange(0.0,1.1,0.1),np.arange(0.0,1.1,0.1))"
   ]
  },
  {
   "cell_type": "code",
   "execution_count": 83,
   "metadata": {
    "collapsed": false
   },
   "outputs": [
    {
     "name": "stdout",
     "output_type": "stream",
     "text": [
      "deeplearning Model Build progress: |██████████████████████████████████████| 100%\n"
     ]
    }
   ],
   "source": [
    "dl = H2ODeepLearningEstimator(seed =1,epochs =700,hidden=[50,50], model_id='dl1')\n",
    "dl.train(x = hdf.columns[0:len(hdf.col_names)-1], y = 'answers_yn', training_frame=hdf_train, validation_frame=hdf_validate)"
   ]
  },
  {
   "cell_type": "code",
   "execution_count": 85,
   "metadata": {
    "collapsed": false
   },
   "outputs": [
    {
     "data": {
      "image/png": "[encoded data removed]",
      "text/plain": [
       "<matplotlib.figure.Figure at 0x15ac2240>"
      ]
     },
     "metadata": {},
     "output_type": "display_data"
    }
   ],
   "source": [
    "dl.plot()"
   ]
  },
  {
   "cell_type": "code",
   "execution_count": 86,
   "metadata": {
    "collapsed": false
   },
   "outputs": [
    {
     "data": {
      "text/plain": [
       "[<matplotlib.lines.Line2D at 0x14ee6390>]"
      ]
     },
     "execution_count": 86,
     "metadata": {},
     "output_type": "execute_result"
    },
    {
     "data": {
      "image/png": "[encoded data removed]",
      "text/plain": [
       "<matplotlib.figure.Figure at 0x153210b8>"
      ]
     },
     "metadata": {},
     "output_type": "display_data"
    }
   ],
   "source": [
    "roc_valid = dl.roc(valid=True)\n",
    "roc_train= dl.roc()\n",
    "\n",
    "plt.plot(roc_valid[0],roc_valid[1])\n",
    "plt.plot(roc_train[0],roc_train[1])\n",
    "plt.plot(np.arange(0.0,1.1,0.1),np.arange(0.0,1.1,0.1))"
   ]
  },
  {
   "cell_type": "code",
   "execution_count": 88,
   "metadata": {
    "collapsed": false
   },
   "outputs": [
    {
     "name": "stdout",
     "output_type": "stream",
     "text": [
      "Gradient Boosting Machine Results\n",
      "==================================================================\n",
      "Training AUC: 0.998309651253 | Validation AUC:  0.77203932615\n",
      "\n",
      "Deep Learning Results\n",
      "==================================================================\n",
      "Training AUC: 0.763406841554 | Validation AUC:  0.61442471276\n"
     ]
    }
   ],
   "source": [
    "print \"Gradient Boosting Machine Results\"\n",
    "print '=================================================================='\n",
    "print 'Training AUC:', gbm_model.auc(train=True), '| Validation AUC: ', gbm_model.auc(valid=True)\n",
    "\n",
    "print \"\\nDeep Learning Results\"\n",
    "print '=================================================================='\n",
    "print 'Training AUC:', dl.auc(train=True), '| Validation AUC: ', dl.auc(valid=True)"
   ]
  },
  {
   "cell_type": "markdown",
   "metadata": {},
   "source": [
    "# Bag of Words"
   ]
  },
  {
   "cell_type": "code",
   "execution_count": 11,
   "metadata": {
    "collapsed": true
   },
   "outputs": [],
   "source": [
    "from nltk.corpus import stopwords \n",
    "stop_words = set(stopwords.words('english'))\n"
   ]
  },
  {
   "cell_type": "code",
   "execution_count": 12,
   "metadata": {
    "collapsed": true
   },
   "outputs": [],
   "source": [
    "def tf_cln(sent = tmp_df.iloc[0][0],cln=True):\n",
    "\n",
    "    lowers= sent.lower()\n",
    "    no_punctuation = lowers.translate(None, string.punctuation)\n",
    "    slt_sent = re.findall(r'passagetext(.*?)url',no_punctuation)\n",
    "    \n",
    "    if(cln==True):\n",
    "        slt_sent = re.findall(r'passage_text(.*?)url',sent)\n",
    "    else:\n",
    "        slt_sent = sent\n",
    "        \n",
    "    token = nltk.word_tokenize(str(slt_sent))\n",
    "    filtered_sentence = [w for w in token if not w in stop_words]\n",
    "\n",
    "    for i in filtered_sentence:\n",
    "        if re.findall(r'^\\W.*',str(i)):\n",
    "            stop_words.add(i)\n",
    "        \n",
    "    stop_words.add('``')\n",
    "    filtered_sentence = [w for w in token if not w in stop_words]\n",
    "\n",
    "    tf = nltk.FreqDist(filtered_sentence)\n",
    "    \n",
    "    return dict(tf)"
   ]
  },
  {
   "cell_type": "code",
   "execution_count": 13,
   "metadata": {
    "collapsed": true
   },
   "outputs": [],
   "source": [
    "#########save over_samp_df to tmp_df to upcoming var assign#########\n",
    "tmp_df = over_samp_df"
   ]
  },
  {
   "cell_type": "code",
   "execution_count": 14,
   "metadata": {
    "collapsed": true
   },
   "outputs": [],
   "source": [
    "lst_tf_psg=[]\n",
    "for i in tmp_df.iloc[:,0]:\n",
    "    lst_tf_psg.append(tf_cln(i))"
   ]
  },
  {
   "cell_type": "code",
   "execution_count": 15,
   "metadata": {
    "collapsed": true
   },
   "outputs": [],
   "source": [
    "lst_tf_qry = []\n",
    "for i in tmp_df.iloc[:,1]:\n",
    "    lst_tf_qry.append(tf_cln(i,False))"
   ]
  },
  {
   "cell_type": "code",
   "execution_count": 16,
   "metadata": {
    "collapsed": true
   },
   "outputs": [],
   "source": [
    "tmp_df = tmp_df.replace(tmp_df['query_type'].unique(),range(0,len(tmp_df['query_type'].unique())))\n",
    "tmp_df['passages'] = lst_tf_psg\n",
    "tmp_df['query'] = lst_tf_qry\n",
    "tmp_df = tmp_df.replace(['yes', 'no'], ['Yes', 'No'])\n",
    "tmp_df = tmp_df.replace(['Yes', 'No'], ['1', '0'])"
   ]
  },
  {
   "cell_type": "code",
   "execution_count": 17,
   "metadata": {
    "collapsed": true
   },
   "outputs": [],
   "source": [
    "del(tmp_df['query_id'])"
   ]
  },
  {
   "cell_type": "code",
   "execution_count": 18,
   "metadata": {
    "collapsed": false
   },
   "outputs": [
    {
     "data": {
      "text/html": [
       "<div>\n",
       "<table border=\"1\" class=\"dataframe\">\n",
       "  <thead>\n",
       "    <tr style=\"text-align: right;\">\n",
       "      <th></th>\n",
       "      <th>passages</th>\n",
       "      <th>query</th>\n",
       "      <th>query_type</th>\n",
       "      <th>answers_yn</th>\n",
       "    </tr>\n",
       "  </thead>\n",
       "  <tbody>\n",
       "    <tr>\n",
       "      <th>0</th>\n",
       "      <td>{u'Wilson': 1, u'United': 2, u'switched': 1, u...</td>\n",
       "      <td>{u'ronald': 1, u'reagan': 1, u'democrat': 1}</td>\n",
       "      <td>0</td>\n",
       "      <td>1</td>\n",
       "    </tr>\n",
       "    <tr>\n",
       "      <th>1</th>\n",
       "      <td>{u'United': 1, u'show': 18, u'money': 6, u'Jeo...</td>\n",
       "      <td>{u'pay': 1, u'game': 1, u'shows': 1, u'contest...</td>\n",
       "      <td>0</td>\n",
       "      <td>1</td>\n",
       "    </tr>\n",
       "    <tr>\n",
       "      <th>2</th>\n",
       "      <td>{u'serving': 1, u'saturated': 2, u'unhealthy':...</td>\n",
       "      <td>{u'butter': 1, u'peanut': 1, u'contain': 1, u'...</td>\n",
       "      <td>0</td>\n",
       "      <td>0</td>\n",
       "    </tr>\n",
       "    <tr>\n",
       "      <th>3</th>\n",
       "      <td>{u'already': 2, u'show': 2, u'When': 5, u'mark...</td>\n",
       "      <td>{u'lane': 1, u'right': 1, u'carriageway': 1, u...</td>\n",
       "      <td>0</td>\n",
       "      <td>0</td>\n",
       "    </tr>\n",
       "    <tr>\n",
       "      <th>4</th>\n",
       "      <td>{u'sentence': 1, u'Deadly': 1, u'rob': 1, u'mi...</td>\n",
       "      <td>{u'felony': 1, u'assault': 1, u'armed': 1}</td>\n",
       "      <td>0</td>\n",
       "      <td>1</td>\n",
       "    </tr>\n",
       "  </tbody>\n",
       "</table>\n",
       "</div>"
      ],
      "text/plain": [
       "                                            passages  \\\n",
       "0  {u'Wilson': 1, u'United': 2, u'switched': 1, u...   \n",
       "1  {u'United': 1, u'show': 18, u'money': 6, u'Jeo...   \n",
       "2  {u'serving': 1, u'saturated': 2, u'unhealthy':...   \n",
       "3  {u'already': 2, u'show': 2, u'When': 5, u'mark...   \n",
       "4  {u'sentence': 1, u'Deadly': 1, u'rob': 1, u'mi...   \n",
       "\n",
       "                                               query  query_type answers_yn  \n",
       "0       {u'ronald': 1, u'reagan': 1, u'democrat': 1}           0          1  \n",
       "1  {u'pay': 1, u'game': 1, u'shows': 1, u'contest...           0          1  \n",
       "2  {u'butter': 1, u'peanut': 1, u'contain': 1, u'...           0          0  \n",
       "3  {u'lane': 1, u'right': 1, u'carriageway': 1, u...           0          0  \n",
       "4         {u'felony': 1, u'assault': 1, u'armed': 1}           0          1  "
      ]
     },
     "execution_count": 18,
     "metadata": {},
     "output_type": "execute_result"
    }
   ],
   "source": [
    "tmp_df.head()"
   ]
  },
  {
   "cell_type": "code",
   "execution_count": 19,
   "metadata": {
    "collapsed": false
   },
   "outputs": [
    {
     "name": "stdout",
     "output_type": "stream",
     "text": [
      "Checking whether there is an H2O instance running at http://localhost:54321. connected.\n"
     ]
    },
    {
     "data": {
      "text/html": [
       "<div style=\"overflow:auto\"><table style=\"width:50%\"><tr><td>H2O cluster uptime:</td>\n",
       "<td>22 mins 31 secs</td></tr>\n",
       "<tr><td>H2O cluster version:</td>\n",
       "<td>3.10.0.10</td></tr>\n",
       "<tr><td>H2O cluster version age:</td>\n",
       "<td>2 months and 15 days </td></tr>\n",
       "<tr><td>H2O cluster name:</td>\n",
       "<td>H2O_from_python_user_mt10a9</td></tr>\n",
       "<tr><td>H2O cluster total nodes:</td>\n",
       "<td>1</td></tr>\n",
       "<tr><td>H2O cluster free memory:</td>\n",
       "<td>848 Mb</td></tr>\n",
       "<tr><td>H2O cluster total cores:</td>\n",
       "<td>2</td></tr>\n",
       "<tr><td>H2O cluster allowed cores:</td>\n",
       "<td>2</td></tr>\n",
       "<tr><td>H2O cluster status:</td>\n",
       "<td>locked, healthy</td></tr>\n",
       "<tr><td>H2O connection url:</td>\n",
       "<td>http://localhost:54321</td></tr>\n",
       "<tr><td>H2O connection proxy:</td>\n",
       "<td>None</td></tr>\n",
       "<tr><td>Python version:</td>\n",
       "<td>2.7.11 final</td></tr></table></div>"
      ],
      "text/plain": [
       "--------------------------  ---------------------------\n",
       "H2O cluster uptime:         22 mins 31 secs\n",
       "H2O cluster version:        3.10.0.10\n",
       "H2O cluster version age:    2 months and 15 days\n",
       "H2O cluster name:           H2O_from_python_user_mt10a9\n",
       "H2O cluster total nodes:    1\n",
       "H2O cluster free memory:    848 Mb\n",
       "H2O cluster total cores:    2\n",
       "H2O cluster allowed cores:  2\n",
       "H2O cluster status:         locked, healthy\n",
       "H2O connection url:         http://localhost:54321\n",
       "H2O connection proxy:\n",
       "Python version:             2.7.11 final\n",
       "--------------------------  ---------------------------"
      ]
     },
     "metadata": {},
     "output_type": "display_data"
    }
   ],
   "source": [
    "h2o.init()"
   ]
  },
  {
   "cell_type": "code",
   "execution_count": 20,
   "metadata": {
    "collapsed": false
   },
   "outputs": [
    {
     "name": "stdout",
     "output_type": "stream",
     "text": [
      "Parse progress: |█████████████████████████████████████████████████████████| 100%\n",
      "Parse progress: |█████████████████████████████████████████████████████████| 100%\n"
     ]
    }
   ],
   "source": [
    "hdf_tf=h2o.H2OFrame(tmp_df[tmp_df.columns[0:3]])\n",
    "hdf_target = h2o.H2OFrame(pd.DataFrame(tmp_df.answers_yn))\n",
    "hdf = h2o.H2OFrame.cbind(hdf_tf,h2o.H2OFrame.asfactor(hdf_target))"
   ]
  },
  {
   "cell_type": "code",
   "execution_count": 21,
   "metadata": {
    "collapsed": false
   },
   "outputs": [
    {
     "data": {
      "text/html": [
       "<table>\n",
       "<thead>\n",
       "<tr><th>passages                                                                                                                                                                                                                                                                                                                                                                                                                                                                                                                                                                                                                                                                                                                                                                                                                                                                                                                                                                                                                                                                                                                                                                                                                                                                                                                                                                                                                                                                                                                                                                                                                                                                                                                                                                                                                                                                                                                                                                                                                                                                                                                                                                                                                                                                                                                                                                                                                   </th><th>query                                    </th><th style=\"text-align: right;\">  query_type</th><th style=\"text-align: right;\">  answers_yn</th></tr>\n",
       "</thead>\n",
       "<tbody>\n",
       "<tr><td>{'Wilson': 1, 'United': 2, 'switched': 1, 'votes\\\\\\\\u2014the': 1, 'supported': 1, 'years': 2, 'four': 1, 'radio': 1, '1962': 2, 'Ford': 1, '1948': 1, 'voter': 1, 'candidate': 3, 'former': 3, 'Ronald': 9, 'video.duration.momentjs': 1, 'candidates': 1, 'small-town': 1, '8': 1, 'campaigned': 2, 'views': 1, 'Re-Election': 1, 'early': 2, 'party': 3, 'Illinois': 1, 'presidential': 1, 'defected': 1, 'witched': 1, 'Raised': 1, 'Republican': 6, 'Liberal': 1, 'commentator': 1, '51': 1, '50': 1, 'disillusioned': 1, 'either': 1, 'found': 1, '538': 1, 'working-class': 1, 'From': 1, 'people': 1, 'Gerald': 1, 'Wikipedia': 1, '1960s': 2, 'challenger': 1, 'economic': 1, 'election': 2, 'Listen': 1, 'even': 1, 'ultimately': 1, 'said': 1, 'fundamentally': 1, 'electoral': 1, 'conservative': 2, '525': 1, 'mate': 2, 'During': 1, 'America': 1, 'ever': 1, 'Mondale': 3, 'He': 2, 'U.S.': 5, 'Bill': 1, 'however': 1, 'free': 1, 'Democrat': 3, 'Ferraro': 2, 'Northerner': 1, 'served': 3, 'put': 1, 'path': 1, '1935-': 2, 'Nixon': 1, 'received': 1, 'Jimmy': 1, 'Clinton': 1, 'carried': 1, 'country': 1, 'changed': 2, 'became': 3, '1970s': 1, 'Yes': 2, 'think': 1, 'first': 2, 'major': 2, 'useful': 1, 'political': 3, 'When': 1, 'number': 2, 'officially': 1, 'female': 2, 'parties': 1, 'old': 1, 'Hollywood': 1, '1984': 4, '1980': 2, '1981': 2, 'trajectory': 1, 'support': 1, 'June': 1, '1989': 2, 'California': 3, 'way': 2, 'vice-presidential': 2, 'white': 1, '40th': 2, 'life': 1, 're-elected': 1, '6': 1, 'American': 2, 'dramatic': 1, 'Harry': 1, '1911': 1, 'Democratic': 6, 'November': 3, 'Carter': 1, 'grew': 1, 'politician': 1, 'presidency': 1, 'reelected': 2, 'Reagan': 15, 'elections': 1, 'governor': 3, 'recording': 1, 'time': 1, 'landslide': 3, 'age': 1, '20s': 1, 'Richard': 1, 'voters': 1, 'states': 1, 'ready': 1, 'Party': 5, 'sounding': 1, 'Walter': 3, 'States': 2, 'different': 2, 'traditionally': 1, 'us': 1, '49': 1, 'rather': 1, 'began': 1, '1967': 1, 'actor': 3, 'member': 2, '5': 1, 'largest': 1, 'President': 2, 'A': 1, 'February': 1, 'I': 1, 'Geraldine': 2, 'earlier': 1, 'running': 2, 'president': 1, 'Democrat\\\\': 1, 'desert': 1, 'younger': 1, 'Truman': 1, 'especially': 1, '1975': 1, 'later': 1, 'defeating': 3, 'deserted': 1, 'encyclopedia': 1, 'Democrats': 1, '2004': 1, 'In': 4, 'Duration': 1, 'audio': 1, '1911-2004': 1}</td><td>{'ronald': 1, 'reagan': 1, 'democrat': 1}</td><td style=\"text-align: right;\">           0</td><td style=\"text-align: right;\">           1</td></tr>\n",
       "</tbody>\n",
       "</table>"
      ]
     },
     "metadata": {},
     "output_type": "display_data"
    },
    {
     "data": {
      "text/plain": []
     },
     "execution_count": 21,
     "metadata": {},
     "output_type": "execute_result"
    }
   ],
   "source": [
    "hdf.head(1)"
   ]
  },
  {
   "cell_type": "code",
   "execution_count": 22,
   "metadata": {
    "collapsed": true
   },
   "outputs": [],
   "source": [
    "hdf_train, hdf_validate=hdf.split_frame(ratios=[0.75], seed =5010)"
   ]
  },
  {
   "cell_type": "code",
   "execution_count": 23,
   "metadata": {
    "collapsed": true
   },
   "outputs": [],
   "source": [
    "from h2o.estimators.naive_bayes import H2ONaiveBayesEstimator\n",
    "from h2o.estimators.gbm import H2OGradientBoostingEstimator\n",
    "from h2o.estimators.deeplearning import H2ODeepLearningEstimator"
   ]
  },
  {
   "cell_type": "code",
   "execution_count": 24,
   "metadata": {
    "collapsed": false
   },
   "outputs": [
    {
     "name": "stdout",
     "output_type": "stream",
     "text": [
      "naivebayes Model Build progress: |████████████████████████████████████████| 100%\n"
     ]
    }
   ],
   "source": [
    "nb =H2ONaiveBayesEstimator(seed =1)\n",
    "nb.train(x = ['query','query_type','passages'], y = 'answers_yn', training_frame=hdf_train, validation_frame=hdf_validate)"
   ]
  },
  {
   "cell_type": "code",
   "execution_count": 25,
   "metadata": {
    "collapsed": false
   },
   "outputs": [
    {
     "data": {
      "text/plain": [
       "0.04080739473947178"
      ]
     },
     "execution_count": 25,
     "metadata": {},
     "output_type": "execute_result"
    }
   ],
   "source": [
    "nb.auc()"
   ]
  },
  {
   "cell_type": "code",
   "execution_count": 47,
   "metadata": {
    "collapsed": false
   },
   "outputs": [
    {
     "name": "stdout",
     "output_type": "stream",
     "text": [
      "gbm Model Build progress: |███████████████████████████████████████████████| 100%\n"
     ]
    }
   ],
   "source": [
    "gbm_model = H2OGradientBoostingEstimator(seed =1,  ntrees = 2500, learn_rate = .05)\n",
    "gbm_model.train(x = ['query','query_type','passages'], y = 'answers_yn', training_frame=hdf_train, validation_frame=hdf_validate)"
   ]
  },
  {
   "cell_type": "code",
   "execution_count": 48,
   "metadata": {
    "collapsed": false
   },
   "outputs": [
    {
     "data": {
      "image/png": "[encoded data removed]",
      "text/plain": [
       "<matplotlib.figure.Figure at 0x318c0668>"
      ]
     },
     "metadata": {},
     "output_type": "display_data"
    }
   ],
   "source": [
    "gbm_model.plot()"
   ]
  },
  {
   "cell_type": "code",
   "execution_count": 49,
   "metadata": {
    "collapsed": false
   },
   "outputs": [
    {
     "data": {
      "text/plain": [
       "[<matplotlib.lines.Line2D at 0x218aa908>]"
      ]
     },
     "execution_count": 49,
     "metadata": {},
     "output_type": "execute_result"
    },
    {
     "data": {
      "image/png": "[encoded data removed]",
      "text/plain": [
       "<matplotlib.figure.Figure at 0x349dc160>"
      ]
     },
     "metadata": {},
     "output_type": "display_data"
    }
   ],
   "source": [
    "roc_valid = gbm_model.roc(valid=True)\n",
    "roc_train= gbm_model.roc()\n",
    "\n",
    "plt.plot(roc_valid[0],roc_valid[1])\n",
    "plt.plot(roc_train[0],roc_train[1])\n",
    "plt.plot(np.arange(0.0,1.1,0.1),np.arange(0.0,1.1,0.1))"
   ]
  },
  {
   "cell_type": "code",
   "execution_count": 68,
   "metadata": {
    "collapsed": false
   },
   "outputs": [
    {
     "name": "stdout",
     "output_type": "stream",
     "text": [
      "deeplearning Model Build progress: |██████████████████████████████████████| 100%\n"
     ]
    }
   ],
   "source": [
    "dl = H2ODeepLearningEstimator(seed =1,epochs =50,hidden=[20,20,20], model_id='dl1')\n",
    "dl.train(x = ['query','query_type','passages'], y = 'answers_yn', training_frame=hdf_train, validation_frame=hdf_validate)"
   ]
  },
  {
   "cell_type": "code",
   "execution_count": 69,
   "metadata": {
    "collapsed": false
   },
   "outputs": [
    {
     "data": {
      "image/png": "[encoded data removed]",
      "text/plain": [
       "<matplotlib.figure.Figure at 0x2c0eb160>"
      ]
     },
     "metadata": {},
     "output_type": "display_data"
    }
   ],
   "source": [
    "dl.plot()"
   ]
  },
  {
   "cell_type": "code",
   "execution_count": 70,
   "metadata": {
    "collapsed": false
   },
   "outputs": [
    {
     "data": {
      "text/plain": [
       "[<matplotlib.lines.Line2D at 0x3271e898>]"
      ]
     },
     "execution_count": 70,
     "metadata": {},
     "output_type": "execute_result"
    },
    {
     "data": {
      "image/png": "[encoded data removed]",
      "text/plain": [
       "<matplotlib.figure.Figure at 0x2c1de978>"
      ]
     },
     "metadata": {},
     "output_type": "display_data"
    }
   ],
   "source": [
    "roc_valid = dl.roc(valid=True)\n",
    "roc_train= dl.roc()\n",
    "\n",
    "plt.plot(roc_valid[0],roc_valid[1])\n",
    "plt.plot(roc_train[0],roc_train[1])\n",
    "plt.plot(np.arange(0.0,1.1,0.1),np.arange(0.0,1.1,0.1))"
   ]
  },
  {
   "cell_type": "code",
   "execution_count": 71,
   "metadata": {
    "collapsed": false
   },
   "outputs": [
    {
     "name": "stdout",
     "output_type": "stream",
     "text": [
      "Gradient Boosting Machine Results\n",
      "==================================================================\n",
      "Training AUC: 0.954606465088 | Validation AUC:  0.742288062267\n",
      "\n",
      "Deep Learning Results\n",
      "==================================================================\n",
      "Training AUC: 0.998617715615 | Validation AUC:  0.802913758689\n"
     ]
    }
   ],
   "source": [
    "print \"Gradient Boosting Machine Results\"\n",
    "print '=================================================================='\n",
    "print 'Training AUC:', gbm_model.auc(train=True), '| Validation AUC: ', gbm_model.auc(valid=True)\n",
    "\n",
    "print \"\\nDeep Learning Results\"\n",
    "print '=================================================================='\n",
    "print 'Training AUC:', dl.auc(train=True), '| Validation AUC: ', dl.auc(valid=True)"
   ]
  },
  {
   "cell_type": "code",
   "execution_count": null,
   "metadata": {
    "collapsed": true
   },
   "outputs": [],
   "source": []
  }
 ],
 "metadata": {
  "kernelspec": {
   "display_name": "Python 2",
   "language": "python",
   "name": "python2"
  },
  "language_info": {
   "codemirror_mode": {
    "name": "ipython",
    "version": 2
   },
   "file_extension": ".py",
   "mimetype": "text/x-python",
   "name": "python",
   "nbconvert_exporter": "python",
   "pygments_lexer": "ipython2",
   "version": "2.7.11"
  }
 },
 "nbformat": 4,
 "nbformat_minor": 0
}
