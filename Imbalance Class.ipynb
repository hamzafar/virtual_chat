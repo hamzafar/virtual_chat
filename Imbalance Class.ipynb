{
 "cells": [
  {
   "cell_type": "code",
   "execution_count": 1,
   "metadata": {
    "collapsed": true
   },
   "outputs": [],
   "source": [
    "import pandas as pd\n",
    "import nltk\n",
    "import string\n",
    "import re\n",
    "import h2o\n",
    "import matplotlib.pyplot as plt\n",
    "%matplotlib inline\n",
    "import numpy as np"
   ]
  },
  {
   "cell_type": "code",
   "execution_count": 4,
   "metadata": {
    "collapsed": false
   },
   "outputs": [
    {
     "data": {
      "text/html": [
       "<div>\n",
       "<table border=\"1\" class=\"dataframe\">\n",
       "  <thead>\n",
       "    <tr style=\"text-align: right;\">\n",
       "      <th></th>\n",
       "      <th>passages</th>\n",
       "      <th>query</th>\n",
       "      <th>query_id</th>\n",
       "      <th>query_type</th>\n",
       "      <th>answers_yn</th>\n",
       "    </tr>\n",
       "  </thead>\n",
       "  <tbody>\n",
       "    <tr>\n",
       "      <th>0</th>\n",
       "      <td>[Row(is_selected=0, passage_text=u'In his youn...</td>\n",
       "      <td>was ronald reagan a democrat</td>\n",
       "      <td>19700</td>\n",
       "      <td>description</td>\n",
       "      <td>Yes</td>\n",
       "    </tr>\n",
       "    <tr>\n",
       "      <th>1</th>\n",
       "      <td>[Row(is_selected=0, passage_text=u'So, in the ...</td>\n",
       "      <td>do game shows pay their contestants</td>\n",
       "      <td>19749</td>\n",
       "      <td>description</td>\n",
       "      <td>Yes</td>\n",
       "    </tr>\n",
       "    <tr>\n",
       "      <th>2</th>\n",
       "      <td>[Row(is_selected=0, passage_text=u'Even though...</td>\n",
       "      <td>does peanut butter contain cholesterol</td>\n",
       "      <td>19761</td>\n",
       "      <td>description</td>\n",
       "      <td>No</td>\n",
       "    </tr>\n",
       "    <tr>\n",
       "      <th>3</th>\n",
       "      <td>[Row(is_selected=0, passage_text=u'When turnin...</td>\n",
       "      <td>can you take left hand lane to turn right on a...</td>\n",
       "      <td>19762</td>\n",
       "      <td>description</td>\n",
       "      <td>No</td>\n",
       "    </tr>\n",
       "    <tr>\n",
       "      <th>4</th>\n",
       "      <td>[Row(is_selected=0, passage_text=u'Assault on ...</td>\n",
       "      <td>is armed assault a felony</td>\n",
       "      <td>19774</td>\n",
       "      <td>description</td>\n",
       "      <td>Yes</td>\n",
       "    </tr>\n",
       "  </tbody>\n",
       "</table>\n",
       "</div>"
      ],
      "text/plain": [
       "                                            passages  \\\n",
       "0  [Row(is_selected=0, passage_text=u'In his youn...   \n",
       "1  [Row(is_selected=0, passage_text=u'So, in the ...   \n",
       "2  [Row(is_selected=0, passage_text=u'Even though...   \n",
       "3  [Row(is_selected=0, passage_text=u'When turnin...   \n",
       "4  [Row(is_selected=0, passage_text=u'Assault on ...   \n",
       "\n",
       "                                               query  query_id   query_type  \\\n",
       "0                       was ronald reagan a democrat     19700  description   \n",
       "1                do game shows pay their contestants     19749  description   \n",
       "2             does peanut butter contain cholesterol     19761  description   \n",
       "3  can you take left hand lane to turn right on a...     19762  description   \n",
       "4                          is armed assault a felony     19774  description   \n",
       "\n",
       "  answers_yn  \n",
       "0        Yes  \n",
       "1        Yes  \n",
       "2         No  \n",
       "3         No  \n",
       "4        Yes  "
      ]
     },
     "execution_count": 4,
     "metadata": {},
     "output_type": "execute_result"
    }
   ],
   "source": [
    "tmp_df = pd.read_csv('D:/marco/vr_chat-master/Marco/train_yn.csv')\n",
    "tmp_df = tmp_df.replace(['yes', 'no'], ['Yes', 'No'])\n",
    "tmp_df.head()"
   ]
  },
  {
   "cell_type": "code",
   "execution_count": 42,
   "metadata": {
    "collapsed": false
   },
   "outputs": [
    {
     "name": "stdout",
     "output_type": "stream",
     "text": [
      "['Yes' 'No']\n",
      "4877 | 1564\n",
      "fraction of No:  0.242819437975\n"
     ]
    }
   ],
   "source": [
    "print tmp_df['answers_yn'].unique()\n",
    "print len(tmp_df[tmp_df['answers_yn'] == 'Yes']), '|', len(tmp_df[tmp_df['answers_yn'] == 'No'])\n",
    "print 'fraction of No: ', len(tmp_df[tmp_df['answers_yn'] == 'No'])/ float(len(tmp_df[tmp_df['answers_yn'] == 'No']) + \n",
    "                                                                  float(len(tmp_df[tmp_df['answers_yn'] == 'Yes'])))"
   ]
  },
  {
   "cell_type": "code",
   "execution_count": 36,
   "metadata": {
    "collapsed": false
   },
   "outputs": [],
   "source": [
    "def plt_bar(yes=len(tmp_df[tmp_df['answers_yn'] == 'Yes']), no=len(tmp_df[tmp_df['answers_yn'] == 'No'])):\n",
    "    plt.bar([10,11], [yes, no] )\n",
    "    plt.xticks([10.5,11.5],['Yes','No'])\n",
    "    plt.show()"
   ]
  },
  {
   "cell_type": "code",
   "execution_count": 37,
   "metadata": {
    "collapsed": false
   },
   "outputs": [
    {
     "data": {
      "image/png": "[encoded data removed]",
      "text/plain": [
       "<matplotlib.figure.Figure at 0x118ac320>"
      ]
     },
     "metadata": {},
     "output_type": "display_data"
    }
   ],
   "source": [
    "plt_bar()"
   ]
  },
  {
   "cell_type": "code",
   "execution_count": 56,
   "metadata": {
    "collapsed": false
   },
   "outputs": [
    {
     "data": {
      "text/plain": [
       "1095"
      ]
     },
     "execution_count": 56,
     "metadata": {},
     "output_type": "execute_result"
    }
   ],
   "source": [
    "len(tmp_df.sample(frac=0.1, replace=True))\n",
    "len(tmp_df[tmp_df['answers_yn'] == 'No'].sample(frac=0.70, replace=True))"
   ]
  },
  {
   "cell_type": "code",
   "execution_count": 57,
   "metadata": {
    "collapsed": true
   },
   "outputs": [],
   "source": []
  }
 ],
 "metadata": {
  "kernelspec": {
   "display_name": "Python 2",
   "language": "python",
   "name": "python2"
  },
  "language_info": {
   "codemirror_mode": {
    "name": "ipython",
    "version": 2
   },
   "file_extension": ".py",
   "mimetype": "text/x-python",
   "name": "python",
   "nbconvert_exporter": "python",
   "pygments_lexer": "ipython2",
   "version": "2.7.11"
  }
 },
 "nbformat": 4,
 "nbformat_minor": 0
}
