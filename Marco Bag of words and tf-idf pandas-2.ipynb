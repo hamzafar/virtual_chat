{
 "cells": [
  {
   "cell_type": "code",
   "execution_count": 1,
   "metadata": {
    "collapsed": true
   },
   "outputs": [],
   "source": [
    "import pandas as pd\n",
    "import nltk\n",
    "import re\n",
    "import h2o\n",
    "import matplotlib.pyplot as plt\n",
    "%matplotlib inline\n",
    "import numpy as np"
   ]
  },
  {
   "cell_type": "code",
   "execution_count": 2,
   "metadata": {
    "collapsed": true
   },
   "outputs": [],
   "source": [
    "tmp_df = pd.read_csv('D:/marco/vr_chat-master/Marco/train_yn.csv')"
   ]
  },
  {
   "cell_type": "code",
   "execution_count": 3,
   "metadata": {
    "collapsed": false
   },
   "outputs": [
    {
     "data": {
      "text/html": [
       "<div>\n",
       "<table border=\"1\" class=\"dataframe\">\n",
       "  <thead>\n",
       "    <tr style=\"text-align: right;\">\n",
       "      <th></th>\n",
       "      <th>passages</th>\n",
       "      <th>query</th>\n",
       "      <th>query_id</th>\n",
       "      <th>query_type</th>\n",
       "      <th>answers_yn</th>\n",
       "    </tr>\n",
       "  </thead>\n",
       "  <tbody>\n",
       "    <tr>\n",
       "      <th>0</th>\n",
       "      <td>[Row(is_selected=0, passage_text=u'In his youn...</td>\n",
       "      <td>was ronald reagan a democrat</td>\n",
       "      <td>19700</td>\n",
       "      <td>description</td>\n",
       "      <td>Yes</td>\n",
       "    </tr>\n",
       "    <tr>\n",
       "      <th>1</th>\n",
       "      <td>[Row(is_selected=0, passage_text=u'So, in the ...</td>\n",
       "      <td>do game shows pay their contestants</td>\n",
       "      <td>19749</td>\n",
       "      <td>description</td>\n",
       "      <td>Yes</td>\n",
       "    </tr>\n",
       "    <tr>\n",
       "      <th>2</th>\n",
       "      <td>[Row(is_selected=0, passage_text=u'Even though...</td>\n",
       "      <td>does peanut butter contain cholesterol</td>\n",
       "      <td>19761</td>\n",
       "      <td>description</td>\n",
       "      <td>No</td>\n",
       "    </tr>\n",
       "    <tr>\n",
       "      <th>3</th>\n",
       "      <td>[Row(is_selected=0, passage_text=u'When turnin...</td>\n",
       "      <td>can you take left hand lane to turn right on a...</td>\n",
       "      <td>19762</td>\n",
       "      <td>description</td>\n",
       "      <td>No</td>\n",
       "    </tr>\n",
       "    <tr>\n",
       "      <th>4</th>\n",
       "      <td>[Row(is_selected=0, passage_text=u'Assault on ...</td>\n",
       "      <td>is armed assault a felony</td>\n",
       "      <td>19774</td>\n",
       "      <td>description</td>\n",
       "      <td>Yes</td>\n",
       "    </tr>\n",
       "  </tbody>\n",
       "</table>\n",
       "</div>"
      ],
      "text/plain": [
       "                                            passages  \\\n",
       "0  [Row(is_selected=0, passage_text=u'In his youn...   \n",
       "1  [Row(is_selected=0, passage_text=u'So, in the ...   \n",
       "2  [Row(is_selected=0, passage_text=u'Even though...   \n",
       "3  [Row(is_selected=0, passage_text=u'When turnin...   \n",
       "4  [Row(is_selected=0, passage_text=u'Assault on ...   \n",
       "\n",
       "                                               query  query_id   query_type  \\\n",
       "0                       was ronald reagan a democrat     19700  description   \n",
       "1                do game shows pay their contestants     19749  description   \n",
       "2             does peanut butter contain cholesterol     19761  description   \n",
       "3  can you take left hand lane to turn right on a...     19762  description   \n",
       "4                          is armed assault a felony     19774  description   \n",
       "\n",
       "  answers_yn  \n",
       "0        Yes  \n",
       "1        Yes  \n",
       "2         No  \n",
       "3         No  \n",
       "4        Yes  "
      ]
     },
     "execution_count": 3,
     "metadata": {},
     "output_type": "execute_result"
    }
   ],
   "source": [
    "tmp_df.head()"
   ]
  },
  {
   "cell_type": "code",
   "execution_count": 4,
   "metadata": {
    "collapsed": false
   },
   "outputs": [],
   "source": [
    "from nltk.corpus import stopwords \n",
    "stop_words = set(stopwords.words('english'))\n"
   ]
  },
  {
   "cell_type": "code",
   "execution_count": 5,
   "metadata": {
    "collapsed": false
   },
   "outputs": [],
   "source": [
    "def tf_cln(sent = tmp_df.iloc[0][0],cln=True):\n",
    "\n",
    "    # sent = tmp_df.iloc[0][0]\n",
    "    if(cln==True):\n",
    "        slt_sent = re.findall(r'passage_text(.*?)url',sent)\n",
    "#         print slt_sent\n",
    "    else:\n",
    "        slt_sent = sent\n",
    "        \n",
    "    token = nltk.word_tokenize(str(slt_sent))\n",
    "    filtered_sentence = [w for w in token if not w in stop_words]\n",
    "#     print filtered_sentence\n",
    "\n",
    "    for i in filtered_sentence:\n",
    "        if re.findall(r'^\\W.*',str(i)):\n",
    "    #         print re.findall(r'^\\W',i)\n",
    "            stop_words.add(i)\n",
    "        \n",
    "#     for i in re.findall(r'\\W',str(filtered_sentence)):\n",
    "#         stop_words.add(i)\n",
    "#         print i\n",
    "\n",
    "    stop_words.add('``')\n",
    "    filtered_sentence = [w for w in token if not w in stop_words]\n",
    "\n",
    "    tf = nltk.FreqDist(filtered_sentence)\n",
    "    \n",
    "    return dict(tf)"
   ]
  },
  {
   "cell_type": "code",
   "execution_count": 6,
   "metadata": {
    "collapsed": false
   },
   "outputs": [],
   "source": [
    "lst_tf_cln=[]\n",
    "for i in tmp_df.iloc[:,0]:\n",
    "    lst_tf_cln.append(tf_cln(i))"
   ]
  },
  {
   "cell_type": "code",
   "execution_count": 7,
   "metadata": {
    "collapsed": false
   },
   "outputs": [],
   "source": [
    "lst_tf_qry = []\n",
    "for i in tmp_df.iloc[:,1]:\n",
    "    lst_tf_qry.append(tf_cln(i,False))"
   ]
  },
  {
   "cell_type": "code",
   "execution_count": 8,
   "metadata": {
    "collapsed": false
   },
   "outputs": [],
   "source": [
    "tmp_df = tmp_df.replace(tmp_df['query_type'].unique(),range(0,len(tmp_df['query_type'].unique())))\n",
    "tmp_df['passages'] = lst_tf_cln\n",
    "tmp_df['query'] = lst_tf_qry\n",
    "tmp_df = tmp_df.replace(['yes', 'no'], ['Yes', 'No'])\n",
    "tmp_df = tmp_df.replace(['Yes', 'No'], ['1', '0'])"
   ]
  },
  {
   "cell_type": "code",
   "execution_count": 9,
   "metadata": {
    "collapsed": false
   },
   "outputs": [],
   "source": [
    "del(tmp_df['query_id'])"
   ]
  },
  {
   "cell_type": "code",
   "execution_count": 10,
   "metadata": {
    "collapsed": false
   },
   "outputs": [
    {
     "data": {
      "text/html": [
       "<div>\n",
       "<table border=\"1\" class=\"dataframe\">\n",
       "  <thead>\n",
       "    <tr style=\"text-align: right;\">\n",
       "      <th></th>\n",
       "      <th>passages</th>\n",
       "      <th>query</th>\n",
       "      <th>query_type</th>\n",
       "      <th>answers_yn</th>\n",
       "    </tr>\n",
       "  </thead>\n",
       "  <tbody>\n",
       "    <tr>\n",
       "      <th>0</th>\n",
       "      <td>{u'Wilson': 1, u'United': 2, u'switched': 1, u...</td>\n",
       "      <td>{u'ronald': 1, u'reagan': 1, u'democrat': 1}</td>\n",
       "      <td>0</td>\n",
       "      <td>1</td>\n",
       "    </tr>\n",
       "    <tr>\n",
       "      <th>1</th>\n",
       "      <td>{u'United': 1, u'show': 18, u'money': 6, u'Jeo...</td>\n",
       "      <td>{u'pay': 1, u'game': 1, u'shows': 1, u'contest...</td>\n",
       "      <td>0</td>\n",
       "      <td>1</td>\n",
       "    </tr>\n",
       "    <tr>\n",
       "      <th>2</th>\n",
       "      <td>{u'serving': 1, u'saturated': 2, u'unhealthy':...</td>\n",
       "      <td>{u'butter': 1, u'peanut': 1, u'contain': 1, u'...</td>\n",
       "      <td>0</td>\n",
       "      <td>0</td>\n",
       "    </tr>\n",
       "    <tr>\n",
       "      <th>3</th>\n",
       "      <td>{u'already': 2, u'show': 2, u'When': 5, u'mark...</td>\n",
       "      <td>{u'lane': 1, u'right': 1, u'carriageway': 1, u...</td>\n",
       "      <td>0</td>\n",
       "      <td>0</td>\n",
       "    </tr>\n",
       "    <tr>\n",
       "      <th>4</th>\n",
       "      <td>{u'sentence': 1, u'Deadly': 1, u'rob': 1, u'mi...</td>\n",
       "      <td>{u'felony': 1, u'assault': 1, u'armed': 1}</td>\n",
       "      <td>0</td>\n",
       "      <td>1</td>\n",
       "    </tr>\n",
       "  </tbody>\n",
       "</table>\n",
       "</div>"
      ],
      "text/plain": [
       "                                            passages  \\\n",
       "0  {u'Wilson': 1, u'United': 2, u'switched': 1, u...   \n",
       "1  {u'United': 1, u'show': 18, u'money': 6, u'Jeo...   \n",
       "2  {u'serving': 1, u'saturated': 2, u'unhealthy':...   \n",
       "3  {u'already': 2, u'show': 2, u'When': 5, u'mark...   \n",
       "4  {u'sentence': 1, u'Deadly': 1, u'rob': 1, u'mi...   \n",
       "\n",
       "                                               query  query_type answers_yn  \n",
       "0       {u'ronald': 1, u'reagan': 1, u'democrat': 1}           0          1  \n",
       "1  {u'pay': 1, u'game': 1, u'shows': 1, u'contest...           0          1  \n",
       "2  {u'butter': 1, u'peanut': 1, u'contain': 1, u'...           0          0  \n",
       "3  {u'lane': 1, u'right': 1, u'carriageway': 1, u...           0          0  \n",
       "4         {u'felony': 1, u'assault': 1, u'armed': 1}           0          1  "
      ]
     },
     "execution_count": 10,
     "metadata": {},
     "output_type": "execute_result"
    }
   ],
   "source": [
    "tmp_df.head()"
   ]
  },
  {
   "cell_type": "code",
   "execution_count": 97,
   "metadata": {
    "collapsed": false
   },
   "outputs": [
    {
     "name": "stdout",
     "output_type": "stream",
     "text": [
      "Checking whether there is an H2O instance running at http://localhost:54321. connected.\n"
     ]
    },
    {
     "data": {
      "text/html": [
       "<div style=\"overflow:auto\"><table style=\"width:50%\"><tr><td>H2O cluster uptime:</td>\n",
       "<td>36 secs</td></tr>\n",
       "<tr><td>H2O cluster version:</td>\n",
       "<td>3.10.0.10</td></tr>\n",
       "<tr><td>H2O cluster version age:</td>\n",
       "<td>2 months and 4 days </td></tr>\n",
       "<tr><td>H2O cluster name:</td>\n",
       "<td>H2O_from_python_user_ggfe0u</td></tr>\n",
       "<tr><td>H2O cluster total nodes:</td>\n",
       "<td>1</td></tr>\n",
       "<tr><td>H2O cluster free memory:</td>\n",
       "<td>896 Mb</td></tr>\n",
       "<tr><td>H2O cluster total cores:</td>\n",
       "<td>2</td></tr>\n",
       "<tr><td>H2O cluster allowed cores:</td>\n",
       "<td>2</td></tr>\n",
       "<tr><td>H2O cluster status:</td>\n",
       "<td>accepting new members, healthy</td></tr>\n",
       "<tr><td>H2O connection url:</td>\n",
       "<td>http://localhost:54321</td></tr>\n",
       "<tr><td>H2O connection proxy:</td>\n",
       "<td>None</td></tr>\n",
       "<tr><td>Python version:</td>\n",
       "<td>2.7.11 final</td></tr></table></div>"
      ],
      "text/plain": [
       "--------------------------  ------------------------------\n",
       "H2O cluster uptime:         36 secs\n",
       "H2O cluster version:        3.10.0.10\n",
       "H2O cluster version age:    2 months and 4 days\n",
       "H2O cluster name:           H2O_from_python_user_ggfe0u\n",
       "H2O cluster total nodes:    1\n",
       "H2O cluster free memory:    896 Mb\n",
       "H2O cluster total cores:    2\n",
       "H2O cluster allowed cores:  2\n",
       "H2O cluster status:         accepting new members, healthy\n",
       "H2O connection url:         http://localhost:54321\n",
       "H2O connection proxy:\n",
       "Python version:             2.7.11 final\n",
       "--------------------------  ------------------------------"
      ]
     },
     "metadata": {},
     "output_type": "display_data"
    }
   ],
   "source": [
    "h2o.init()"
   ]
  },
  {
   "cell_type": "code",
   "execution_count": 99,
   "metadata": {
    "collapsed": false
   },
   "outputs": [
    {
     "name": "stdout",
     "output_type": "stream",
     "text": [
      "Parse progress: |█████████████████████████████████████████████████████████| 100%\n",
      "Parse progress: |█████████████████████████████████████████████████████████| 100%\n"
     ]
    }
   ],
   "source": [
    "# hdf=h2o.H2OFrame(tmp_df)\n",
    "\n",
    "hdf_tf=h2o.H2OFrame(tmp_df[tmp_df.columns[0:3]])\n",
    "hdf_target = h2o.H2OFrame(pd.DataFrame(tmp_df.answers_yn))\n",
    "hdf = h2o.H2OFrame.cbind(hdf_tf,h2o.H2OFrame.asfactor(hdf_target))\n"
   ]
  },
  {
   "cell_type": "code",
   "execution_count": 100,
   "metadata": {
    "collapsed": false
   },
   "outputs": [],
   "source": [
    "# h2o.shutdown()"
   ]
  },
  {
   "cell_type": "code",
   "execution_count": 101,
   "metadata": {
    "collapsed": false
   },
   "outputs": [
    {
     "data": {
      "text/html": [
       "<table>\n",
       "<thead>\n",
       "<tr><th>passages                                                                                                                                                                                                                                                                                                                                                                                                                                                                                                                                                                                                                                                                                                                                                                                                                                                                                                                                                                                                                                                                                                                                                                                                                                                                                                                                                                                                                                                                                                                                                                                                                                                                                                                                                                                                                                                                                                                                                                                                                                                                                                                                                                                                                                                                                                                                                                                                                   </th><th>query                                    </th><th style=\"text-align: right;\">  query_type</th><th style=\"text-align: right;\">  answers_yn</th></tr>\n",
       "</thead>\n",
       "<tbody>\n",
       "<tr><td>{'Wilson': 1, 'United': 2, 'switched': 1, 'votes\\\\\\\\u2014the': 1, 'supported': 1, 'years': 2, 'four': 1, 'radio': 1, '1962': 2, 'Ford': 1, '1948': 1, 'voter': 1, 'candidate': 3, 'former': 3, 'Ronald': 9, 'video.duration.momentjs': 1, 'candidates': 1, 'small-town': 1, '8': 1, 'campaigned': 2, 'views': 1, 'Re-Election': 1, 'early': 2, 'party': 3, 'Illinois': 1, 'presidential': 1, 'defected': 1, 'witched': 1, 'Raised': 1, 'Republican': 6, 'Liberal': 1, 'commentator': 1, '51': 1, '50': 1, 'disillusioned': 1, 'either': 1, 'found': 1, '538': 1, 'working-class': 1, 'From': 1, 'people': 1, 'Gerald': 1, 'Wikipedia': 1, '1960s': 2, 'challenger': 1, 'economic': 1, 'election': 2, 'Listen': 1, 'even': 1, 'ultimately': 1, 'said': 1, 'fundamentally': 1, 'electoral': 1, 'conservative': 2, '525': 1, 'mate': 2, 'During': 1, 'America': 1, 'ever': 1, 'Mondale': 3, 'He': 2, 'U.S.': 5, 'Bill': 1, 'however': 1, 'free': 1, 'Democrat': 3, 'Ferraro': 2, 'Northerner': 1, 'served': 3, 'put': 1, 'path': 1, '1935-': 2, 'Nixon': 1, 'received': 1, 'Jimmy': 1, 'Clinton': 1, 'carried': 1, 'country': 1, 'changed': 2, 'became': 3, '1970s': 1, 'Yes': 2, 'think': 1, 'first': 2, 'major': 2, 'useful': 1, 'political': 3, 'When': 1, 'number': 2, 'officially': 1, 'female': 2, 'parties': 1, 'old': 1, 'Hollywood': 1, '1984': 4, '1980': 2, '1981': 2, 'trajectory': 1, 'support': 1, 'June': 1, '1989': 2, 'California': 3, 'way': 2, 'vice-presidential': 2, 'white': 1, '40th': 2, 'life': 1, 're-elected': 1, '6': 1, 'American': 2, 'dramatic': 1, 'Harry': 1, '1911': 1, 'Democratic': 6, 'November': 3, 'Carter': 1, 'grew': 1, 'politician': 1, 'presidency': 1, 'reelected': 2, 'Reagan': 15, 'elections': 1, 'governor': 3, 'recording': 1, 'time': 1, 'landslide': 3, 'age': 1, '20s': 1, 'Richard': 1, 'voters': 1, 'states': 1, 'ready': 1, 'Party': 5, 'sounding': 1, 'Walter': 3, 'States': 2, 'different': 2, 'traditionally': 1, 'us': 1, '49': 1, 'rather': 1, 'began': 1, '1967': 1, 'actor': 3, 'member': 2, '5': 1, 'largest': 1, 'President': 2, 'A': 1, 'February': 1, 'I': 1, 'Geraldine': 2, 'earlier': 1, 'running': 2, 'president': 1, 'Democrat\\\\': 1, 'desert': 1, 'younger': 1, 'Truman': 1, 'especially': 1, '1975': 1, 'later': 1, 'defeating': 3, 'deserted': 1, 'encyclopedia': 1, 'Democrats': 1, '2004': 1, 'In': 4, 'Duration': 1, 'audio': 1, '1911-2004': 1}</td><td>{'ronald': 1, 'reagan': 1, 'democrat': 1}</td><td style=\"text-align: right;\">           0</td><td style=\"text-align: right;\">           1</td></tr>\n",
       "</tbody>\n",
       "</table>"
      ]
     },
     "metadata": {},
     "output_type": "display_data"
    },
    {
     "data": {
      "text/plain": []
     },
     "execution_count": 101,
     "metadata": {},
     "output_type": "execute_result"
    }
   ],
   "source": [
    "hdf.head(1)"
   ]
  },
  {
   "cell_type": "code",
   "execution_count": 102,
   "metadata": {
    "collapsed": true
   },
   "outputs": [],
   "source": [
    "hdf_train, hdf_validate=hdf.split_frame(ratios=[0.75], seed =5010)"
   ]
  },
  {
   "cell_type": "code",
   "execution_count": 103,
   "metadata": {
    "collapsed": true
   },
   "outputs": [],
   "source": [
    "from h2o.estimators.naive_bayes import H2ONaiveBayesEstimator\n",
    "from h2o.estimators.gbm import H2OGradientBoostingEstimator\n",
    "from h2o.estimators.deeplearning import H2ODeepLearningEstimator"
   ]
  },
  {
   "cell_type": "code",
   "execution_count": null,
   "metadata": {
    "collapsed": false
   },
   "outputs": [],
   "source": [
    "nb =H2ONaiveBayesEstimator(seed =1)\n",
    "nb.train(x = ['query','query_type','passages'], y = 'answers_yn', training_frame=hdf_train, validation_frame=hdf_validate)"
   ]
  },
  {
   "cell_type": "code",
   "execution_count": null,
   "metadata": {
    "collapsed": false
   },
   "outputs": [],
   "source": [
    "nb.auc()"
   ]
  },
  {
   "cell_type": "code",
   "execution_count": 116,
   "metadata": {
    "collapsed": false
   },
   "outputs": [
    {
     "name": "stdout",
     "output_type": "stream",
     "text": [
      "gbm Model Build progress: |███████████████████████████████████████████████| 100%\n"
     ]
    }
   ],
   "source": [
    "gbm_model = H2OGradientBoostingEstimator(seed =1,  ntrees = 170, learn_rate = .05)\n",
    "gbm_model.train(x = ['query','query_type','passages'], y = 'answers_yn', training_frame=hdf_train, validation_frame=hdf_validate)"
   ]
  },
  {
   "cell_type": "code",
   "execution_count": 117,
   "metadata": {
    "collapsed": false
   },
   "outputs": [
    {
     "data": {
      "image/png": "[encoded data removed]",
      "text/plain": [
       "<matplotlib.figure.Figure at 0x342072e8>"
      ]
     },
     "metadata": {},
     "output_type": "display_data"
    }
   ],
   "source": [
    "gbm_model.plot()"
   ]
  },
  {
   "cell_type": "code",
   "execution_count": 118,
   "metadata": {
    "collapsed": false
   },
   "outputs": [
    {
     "data": {
      "text/plain": [
       "[<matplotlib.lines.Line2D at 0x2e88ad68>]"
      ]
     },
     "execution_count": 118,
     "metadata": {},
     "output_type": "execute_result"
    },
    {
     "data": {
      "image/png": "[encoded data removed]",
      "text/plain": [
       "<matplotlib.figure.Figure at 0x2e9e0e48>"
      ]
     },
     "metadata": {},
     "output_type": "display_data"
    }
   ],
   "source": [
    "roc_valid = gbm_model.roc(valid=True)\n",
    "roc_train= gbm_model.roc()\n",
    "\n",
    "plt.plot(roc_valid[0],roc_valid[1])\n",
    "plt.plot(roc_train[0],roc_train[1])\n",
    "plt.plot(np.arange(0.0,1.1,0.1),np.arange(0.0,1.1,0.1))"
   ]
  },
  {
   "cell_type": "code",
   "execution_count": 136,
   "metadata": {
    "collapsed": false
   },
   "outputs": [
    {
     "name": "stdout",
     "output_type": "stream",
     "text": [
      "deeplearning Model Build progress: |██████████████████████████████████████| 100%\n"
     ]
    }
   ],
   "source": [
    "dl = H2ODeepLearningEstimator(seed =1,epochs =15,hidden=[20,20], model_id='dl1')\n",
    "dl.train(x = ['query','query_type','passages'], y = 'answers_yn', training_frame=hdf_train, validation_frame=hdf_validate)"
   ]
  },
  {
   "cell_type": "code",
   "execution_count": 137,
   "metadata": {
    "collapsed": false
   },
   "outputs": [
    {
     "data": {
      "image/png": "[encoded data removed]",
      "text/plain": [
       "<matplotlib.figure.Figure at 0x2e62c080>"
      ]
     },
     "metadata": {},
     "output_type": "display_data"
    }
   ],
   "source": [
    "dl.plot()"
   ]
  },
  {
   "cell_type": "code",
   "execution_count": 138,
   "metadata": {
    "collapsed": false
   },
   "outputs": [
    {
     "data": {
      "text/plain": [
       "[<matplotlib.lines.Line2D at 0x467f5550>]"
      ]
     },
     "execution_count": 138,
     "metadata": {},
     "output_type": "execute_result"
    },
    {
     "data": {
      "image/png": "[encoded data removed]",
      "text/plain": [
       "<matplotlib.figure.Figure at 0x228a3b38>"
      ]
     },
     "metadata": {},
     "output_type": "display_data"
    }
   ],
   "source": [
    "roc_valid = dl.roc(valid=True)\n",
    "roc_train= dl.roc()\n",
    "\n",
    "plt.plot(roc_valid[0],roc_valid[1])\n",
    "plt.plot(roc_train[0],roc_train[1])\n",
    "plt.plot(np.arange(0.0,1.1,0.1),np.arange(0.0,1.1,0.1))"
   ]
  },
  {
   "cell_type": "markdown",
   "metadata": {
    "collapsed": true
   },
   "source": [
    "Reterieve best result\n",
    "\n",
    "dl = H2ODeepLearningEstimator(seed =1,epochs =10,hidden=[20,20], model_id='dl1')"
   ]
  },
  {
   "cell_type": "code",
   "execution_count": 132,
   "metadata": {
    "collapsed": false
   },
   "outputs": [
    {
     "ename": "H2OResponseError",
     "evalue": "Server error water.exceptions.H2OKeyNotFoundArgumentException:\n  Error: Object 'dl1' not found in function: predict for argument: model\n  Request: POST /4/Predictions/models/dl1/frames/py_23_sid_9d1e\n",
     "output_type": "error",
     "traceback": [
      "\u001b[1;31m---------------------------------------------------------------------------\u001b[0m",
      "\u001b[1;31mH2OResponseError\u001b[0m                          Traceback (most recent call last)",
      "\u001b[1;32m<ipython-input-132-643cef721f0c>\u001b[0m in \u001b[0;36m<module>\u001b[1;34m()\u001b[0m\n\u001b[1;32m----> 1\u001b[1;33m \u001b[0mprediction\u001b[0m \u001b[1;33m=\u001b[0m \u001b[0mdl\u001b[0m\u001b[1;33m.\u001b[0m\u001b[0mpredict\u001b[0m\u001b[1;33m(\u001b[0m \u001b[0mhdf_validate\u001b[0m\u001b[1;33m[\u001b[0m\u001b[1;33m[\u001b[0m\u001b[1;34m'query'\u001b[0m\u001b[1;33m,\u001b[0m\u001b[1;34m'query_type'\u001b[0m\u001b[1;33m,\u001b[0m\u001b[1;34m'passages'\u001b[0m\u001b[1;33m]\u001b[0m\u001b[1;33m]\u001b[0m\u001b[1;33m)\u001b[0m\u001b[1;33m\u001b[0m\u001b[0m\n\u001b[0m\u001b[0;32m      2\u001b[0m \u001b[0mpdf_pred\u001b[0m\u001b[1;33m=\u001b[0m\u001b[0mprediction\u001b[0m\u001b[1;33m.\u001b[0m\u001b[0mas_data_frame\u001b[0m\u001b[1;33m(\u001b[0m\u001b[1;33m)\u001b[0m\u001b[1;33m\u001b[0m\u001b[0m\n",
      "\u001b[1;32mD:\\DATO\\Anaconda2\\envs\\gl-env\\lib\\site-packages\\h2o\\model\\model_base.pyc\u001b[0m in \u001b[0;36mpredict\u001b[1;34m(self, test_data)\u001b[0m\n\u001b[0;32m    146\u001b[0m         \"\"\"\n\u001b[0;32m    147\u001b[0m         \u001b[1;32mif\u001b[0m \u001b[1;32mnot\u001b[0m \u001b[0misinstance\u001b[0m\u001b[1;33m(\u001b[0m\u001b[0mtest_data\u001b[0m\u001b[1;33m,\u001b[0m \u001b[0mh2o\u001b[0m\u001b[1;33m.\u001b[0m\u001b[0mH2OFrame\u001b[0m\u001b[1;33m)\u001b[0m\u001b[1;33m:\u001b[0m \u001b[1;32mraise\u001b[0m \u001b[0mValueError\u001b[0m\u001b[1;33m(\u001b[0m\u001b[1;34m\"test_data must be an instance of H2OFrame\"\u001b[0m\u001b[1;33m)\u001b[0m\u001b[1;33m\u001b[0m\u001b[0m\n\u001b[1;32m--> 148\u001b[1;33m         j = H2OJob(h2o.api(\"POST /4/Predictions/models/%s/frames/%s\" % (self.model_id, test_data.frame_id)),\n\u001b[0m\u001b[0;32m    149\u001b[0m                    self._model_json['algo'] + \" prediction\")\n\u001b[0;32m    150\u001b[0m         \u001b[0mj\u001b[0m\u001b[1;33m.\u001b[0m\u001b[0mpoll\u001b[0m\u001b[1;33m(\u001b[0m\u001b[1;33m)\u001b[0m\u001b[1;33m\u001b[0m\u001b[0m\n",
      "\u001b[1;32mD:\\DATO\\Anaconda2\\envs\\gl-env\\lib\\site-packages\\h2o\\h2o.pyc\u001b[0m in \u001b[0;36mapi\u001b[1;34m(endpoint, data, json, filename, save_to)\u001b[0m\n\u001b[0;32m     82\u001b[0m     \u001b[1;31m# type checks are performed in H2OConnection class\u001b[0m\u001b[1;33m\u001b[0m\u001b[1;33m\u001b[0m\u001b[0m\n\u001b[0;32m     83\u001b[0m     \u001b[0m_check_connection\u001b[0m\u001b[1;33m(\u001b[0m\u001b[1;33m)\u001b[0m\u001b[1;33m\u001b[0m\u001b[0m\n\u001b[1;32m---> 84\u001b[1;33m     \u001b[1;32mreturn\u001b[0m \u001b[0mh2oconn\u001b[0m\u001b[1;33m.\u001b[0m\u001b[0mrequest\u001b[0m\u001b[1;33m(\u001b[0m\u001b[0mendpoint\u001b[0m\u001b[1;33m,\u001b[0m \u001b[0mdata\u001b[0m\u001b[1;33m=\u001b[0m\u001b[0mdata\u001b[0m\u001b[1;33m,\u001b[0m \u001b[0mjson\u001b[0m\u001b[1;33m=\u001b[0m\u001b[0mjson\u001b[0m\u001b[1;33m,\u001b[0m \u001b[0mfilename\u001b[0m\u001b[1;33m=\u001b[0m\u001b[0mfilename\u001b[0m\u001b[1;33m,\u001b[0m \u001b[0msave_to\u001b[0m\u001b[1;33m=\u001b[0m\u001b[0msave_to\u001b[0m\u001b[1;33m)\u001b[0m\u001b[1;33m\u001b[0m\u001b[0m\n\u001b[0m\u001b[0;32m     85\u001b[0m \u001b[1;33m\u001b[0m\u001b[0m\n\u001b[0;32m     86\u001b[0m \u001b[1;33m\u001b[0m\u001b[0m\n",
      "\u001b[1;32mD:\\DATO\\Anaconda2\\envs\\gl-env\\lib\\site-packages\\h2o\\backend\\connection.pyc\u001b[0m in \u001b[0;36mrequest\u001b[1;34m(self, endpoint, data, json, filename, save_to)\u001b[0m\n\u001b[0;32m    257\u001b[0m                                     auth=self._auth, verify=self._verify_ssl_cert, proxies=self._proxies)\n\u001b[0;32m    258\u001b[0m             \u001b[0mself\u001b[0m\u001b[1;33m.\u001b[0m\u001b[0m_log_end_transaction\u001b[0m\u001b[1;33m(\u001b[0m\u001b[0mstart_time\u001b[0m\u001b[1;33m,\u001b[0m \u001b[0mresp\u001b[0m\u001b[1;33m)\u001b[0m\u001b[1;33m\u001b[0m\u001b[0m\n\u001b[1;32m--> 259\u001b[1;33m             \u001b[1;32mreturn\u001b[0m \u001b[0mself\u001b[0m\u001b[1;33m.\u001b[0m\u001b[0m_process_response\u001b[0m\u001b[1;33m(\u001b[0m\u001b[0mresp\u001b[0m\u001b[1;33m,\u001b[0m \u001b[0msave_to\u001b[0m\u001b[1;33m)\u001b[0m\u001b[1;33m\u001b[0m\u001b[0m\n\u001b[0m\u001b[0;32m    260\u001b[0m \u001b[1;33m\u001b[0m\u001b[0m\n\u001b[0;32m    261\u001b[0m         \u001b[1;32mexcept\u001b[0m \u001b[1;33m(\u001b[0m\u001b[0mrequests\u001b[0m\u001b[1;33m.\u001b[0m\u001b[0mexceptions\u001b[0m\u001b[1;33m.\u001b[0m\u001b[0mConnectionError\u001b[0m\u001b[1;33m,\u001b[0m \u001b[0mrequests\u001b[0m\u001b[1;33m.\u001b[0m\u001b[0mexceptions\u001b[0m\u001b[1;33m.\u001b[0m\u001b[0mHTTPError\u001b[0m\u001b[1;33m)\u001b[0m \u001b[1;32mas\u001b[0m \u001b[0me\u001b[0m\u001b[1;33m:\u001b[0m\u001b[1;33m\u001b[0m\u001b[0m\n",
      "\u001b[1;32mD:\\DATO\\Anaconda2\\envs\\gl-env\\lib\\site-packages\\h2o\\backend\\connection.pyc\u001b[0m in \u001b[0;36m_process_response\u001b[1;34m(response, save_to)\u001b[0m\n\u001b[0;32m    584\u001b[0m         \u001b[1;31m# Client errors (400 = \"Bad Request\", 404 = \"Not Found\", 412 = \"Precondition Failed\")\u001b[0m\u001b[1;33m\u001b[0m\u001b[1;33m\u001b[0m\u001b[0m\n\u001b[0;32m    585\u001b[0m         \u001b[1;32mif\u001b[0m \u001b[0mstatus_code\u001b[0m \u001b[1;32min\u001b[0m \u001b[1;33m{\u001b[0m\u001b[1;36m400\u001b[0m\u001b[1;33m,\u001b[0m \u001b[1;36m404\u001b[0m\u001b[1;33m,\u001b[0m \u001b[1;36m412\u001b[0m\u001b[1;33m}\u001b[0m \u001b[1;32mand\u001b[0m \u001b[0misinstance\u001b[0m\u001b[1;33m(\u001b[0m\u001b[0mdata\u001b[0m\u001b[1;33m,\u001b[0m \u001b[1;33m(\u001b[0m\u001b[0mH2OErrorV3\u001b[0m\u001b[1;33m,\u001b[0m \u001b[0mH2OModelBuilderErrorV3\u001b[0m\u001b[1;33m)\u001b[0m\u001b[1;33m)\u001b[0m\u001b[1;33m:\u001b[0m\u001b[1;33m\u001b[0m\u001b[0m\n\u001b[1;32m--> 586\u001b[1;33m             \u001b[1;32mraise\u001b[0m \u001b[0mH2OResponseError\u001b[0m\u001b[1;33m(\u001b[0m\u001b[0mdata\u001b[0m\u001b[1;33m)\u001b[0m\u001b[1;33m\u001b[0m\u001b[0m\n\u001b[0m\u001b[0;32m    587\u001b[0m \u001b[1;33m\u001b[0m\u001b[0m\n\u001b[0;32m    588\u001b[0m         \u001b[1;31m# Server errors (notably 500 = \"Server Error\")\u001b[0m\u001b[1;33m\u001b[0m\u001b[1;33m\u001b[0m\u001b[0m\n",
      "\u001b[1;31mH2OResponseError\u001b[0m: Server error water.exceptions.H2OKeyNotFoundArgumentException:\n  Error: Object 'dl1' not found in function: predict for argument: model\n  Request: POST /4/Predictions/models/dl1/frames/py_23_sid_9d1e\n"
     ]
    }
   ],
   "source": [
    "prediction = dl.predict(hdf_validate[['query','query_type','passages']])\n",
    "pdf_pred=prediction.as_data_frame()"
   ]
  }
 ],
 "metadata": {
  "kernelspec": {
   "display_name": "Python 2",
   "language": "python",
   "name": "python2"
  },
  "language_info": {
   "codemirror_mode": {
    "name": "ipython",
    "version": 2
   },
   "file_extension": ".py",
   "mimetype": "text/x-python",
   "name": "python",
   "nbconvert_exporter": "python",
   "pygments_lexer": "ipython2",
   "version": "2.7.11"
  }
 },
 "nbformat": 4,
 "nbformat_minor": 0
}
