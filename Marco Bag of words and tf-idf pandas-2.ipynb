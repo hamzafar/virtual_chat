{
 "cells": [
  {
   "cell_type": "code",
   "execution_count": 1,
   "metadata": {
    "collapsed": true
   },
   "outputs": [],
   "source": [
    "import pandas as pd\n",
    "import nltk\n",
    "import re\n",
    "import h2o\n",
    "%matplotlib inline"
   ]
  },
  {
   "cell_type": "code",
   "execution_count": 2,
   "metadata": {
    "collapsed": true
   },
   "outputs": [],
   "source": [
    "tmp_df = pd.read_csv('D:/marco/vr_chat-master/Marco/train_yn.csv')"
   ]
  },
  {
   "cell_type": "code",
   "execution_count": 3,
   "metadata": {
    "collapsed": false
   },
   "outputs": [
    {
     "data": {
      "text/html": [
       "<div>\n",
       "<table border=\"1\" class=\"dataframe\">\n",
       "  <thead>\n",
       "    <tr style=\"text-align: right;\">\n",
       "      <th></th>\n",
       "      <th>passages</th>\n",
       "      <th>query</th>\n",
       "      <th>query_id</th>\n",
       "      <th>query_type</th>\n",
       "      <th>answers_yn</th>\n",
       "    </tr>\n",
       "  </thead>\n",
       "  <tbody>\n",
       "    <tr>\n",
       "      <th>0</th>\n",
       "      <td>[Row(is_selected=0, passage_text=u'In his youn...</td>\n",
       "      <td>was ronald reagan a democrat</td>\n",
       "      <td>19700</td>\n",
       "      <td>description</td>\n",
       "      <td>Yes</td>\n",
       "    </tr>\n",
       "    <tr>\n",
       "      <th>1</th>\n",
       "      <td>[Row(is_selected=0, passage_text=u'So, in the ...</td>\n",
       "      <td>do game shows pay their contestants</td>\n",
       "      <td>19749</td>\n",
       "      <td>description</td>\n",
       "      <td>Yes</td>\n",
       "    </tr>\n",
       "    <tr>\n",
       "      <th>2</th>\n",
       "      <td>[Row(is_selected=0, passage_text=u'Even though...</td>\n",
       "      <td>does peanut butter contain cholesterol</td>\n",
       "      <td>19761</td>\n",
       "      <td>description</td>\n",
       "      <td>No</td>\n",
       "    </tr>\n",
       "    <tr>\n",
       "      <th>3</th>\n",
       "      <td>[Row(is_selected=0, passage_text=u'When turnin...</td>\n",
       "      <td>can you take left hand lane to turn right on a...</td>\n",
       "      <td>19762</td>\n",
       "      <td>description</td>\n",
       "      <td>No</td>\n",
       "    </tr>\n",
       "    <tr>\n",
       "      <th>4</th>\n",
       "      <td>[Row(is_selected=0, passage_text=u'Assault on ...</td>\n",
       "      <td>is armed assault a felony</td>\n",
       "      <td>19774</td>\n",
       "      <td>description</td>\n",
       "      <td>Yes</td>\n",
       "    </tr>\n",
       "  </tbody>\n",
       "</table>\n",
       "</div>"
      ],
      "text/plain": [
       "                                            passages  \\\n",
       "0  [Row(is_selected=0, passage_text=u'In his youn...   \n",
       "1  [Row(is_selected=0, passage_text=u'So, in the ...   \n",
       "2  [Row(is_selected=0, passage_text=u'Even though...   \n",
       "3  [Row(is_selected=0, passage_text=u'When turnin...   \n",
       "4  [Row(is_selected=0, passage_text=u'Assault on ...   \n",
       "\n",
       "                                               query  query_id   query_type  \\\n",
       "0                       was ronald reagan a democrat     19700  description   \n",
       "1                do game shows pay their contestants     19749  description   \n",
       "2             does peanut butter contain cholesterol     19761  description   \n",
       "3  can you take left hand lane to turn right on a...     19762  description   \n",
       "4                          is armed assault a felony     19774  description   \n",
       "\n",
       "  answers_yn  \n",
       "0        Yes  \n",
       "1        Yes  \n",
       "2         No  \n",
       "3         No  \n",
       "4        Yes  "
      ]
     },
     "execution_count": 3,
     "metadata": {},
     "output_type": "execute_result"
    }
   ],
   "source": [
    "tmp_df.head()"
   ]
  },
  {
   "cell_type": "code",
   "execution_count": 4,
   "metadata": {
    "collapsed": false
   },
   "outputs": [],
   "source": [
    "from nltk.corpus import stopwords \n",
    "stop_words = set(stopwords.words('english'))\n"
   ]
  },
  {
   "cell_type": "code",
   "execution_count": 5,
   "metadata": {
    "collapsed": false
   },
   "outputs": [],
   "source": [
    "def tf_cln(sent = tmp_df.iloc[0][0],cln=True):\n",
    "\n",
    "    # sent = tmp_df.iloc[0][0]\n",
    "    if(cln==True):\n",
    "        slt_sent = re.findall(r'passage_text(.*?)url',sent)\n",
    "    else:\n",
    "        slt_sent = sent\n",
    "        \n",
    "    token = nltk.word_tokenize(str(slt_sent))\n",
    "    filtered_sentence = [w for w in token if not w in stop_words]\n",
    "    \n",
    "    for i in re.findall(r'\\W',str(filtered_sentence)):\n",
    "        stop_words.add(i)\n",
    "\n",
    "    stop_words.add('``')\n",
    "    filtered_sentence = [w for w in token if not w in stop_words]\n",
    "\n",
    "    tf = nltk.FreqDist(filtered_sentence)\n",
    "    \n",
    "    return dict(tf)"
   ]
  },
  {
   "cell_type": "code",
   "execution_count": 6,
   "metadata": {
    "collapsed": false
   },
   "outputs": [],
   "source": [
    "lst_tf_cln=[]\n",
    "for i in tmp_df.iloc[:,0]:\n",
    "    lst_tf_cln.append(tf_cln(i))"
   ]
  },
  {
   "cell_type": "code",
   "execution_count": 7,
   "metadata": {
    "collapsed": false
   },
   "outputs": [],
   "source": [
    "lst_tf_qry = []\n",
    "for i in tmp_df.iloc[:,1]:\n",
    "    lst_tf_qry.append(tf_cln(i,False))"
   ]
  },
  {
   "cell_type": "code",
   "execution_count": 8,
   "metadata": {
    "collapsed": false
   },
   "outputs": [],
   "source": [
    "tmp_df = tmp_df.replace(tmp_df['query_type'].unique(),range(0,len(tmp_df['query_type'].unique())))\n",
    "tmp_df['passages'] = lst_tf_cln\n",
    "tmp_df['query'] = lst_tf_qry\n",
    "tmp_df = tmp_df.replace(['yes', 'no'], ['Yes', 'No'])\n",
    "tmp_df = tmp_df.replace(['Yes', 'No'], ['1', '0'])"
   ]
  },
  {
   "cell_type": "code",
   "execution_count": 9,
   "metadata": {
    "collapsed": false
   },
   "outputs": [],
   "source": [
    "del(tmp_df['query_id'])"
   ]
  },
  {
   "cell_type": "code",
   "execution_count": 10,
   "metadata": {
    "collapsed": false
   },
   "outputs": [
    {
     "data": {
      "text/html": [
       "<div>\n",
       "<table border=\"1\" class=\"dataframe\">\n",
       "  <thead>\n",
       "    <tr style=\"text-align: right;\">\n",
       "      <th></th>\n",
       "      <th>passages</th>\n",
       "      <th>query</th>\n",
       "      <th>query_type</th>\n",
       "      <th>answers_yn</th>\n",
       "    </tr>\n",
       "  </thead>\n",
       "  <tbody>\n",
       "    <tr>\n",
       "      <th>0</th>\n",
       "      <td>{u'Wilson': 1, u'United': 2, u'switched': 1, u...</td>\n",
       "      <td>{u'ronald': 1, u'reagan': 1, u'democrat': 1}</td>\n",
       "      <td>0</td>\n",
       "      <td>1</td>\n",
       "    </tr>\n",
       "    <tr>\n",
       "      <th>1</th>\n",
       "      <td>{u'United': 1, u'show': 18, u'money': 6, u'Jeo...</td>\n",
       "      <td>{u'pay': 1, u'game': 1, u'shows': 1, u'contest...</td>\n",
       "      <td>0</td>\n",
       "      <td>1</td>\n",
       "    </tr>\n",
       "    <tr>\n",
       "      <th>2</th>\n",
       "      <td>{u'serving': 1, u'saturated': 2, u'unhealthy':...</td>\n",
       "      <td>{u'butter': 1, u'peanut': 1, u'contain': 1, u'...</td>\n",
       "      <td>0</td>\n",
       "      <td>0</td>\n",
       "    </tr>\n",
       "    <tr>\n",
       "      <th>3</th>\n",
       "      <td>{u'show': 2, u'=u'1': 1, u'signs': 1, u'go': 3...</td>\n",
       "      <td>{u'lane': 1, u'right': 1, u'carriageway': 1, u...</td>\n",
       "      <td>0</td>\n",
       "      <td>0</td>\n",
       "    </tr>\n",
       "    <tr>\n",
       "      <th>4</th>\n",
       "      <td>{u'=u': 1, u'sentence': 1, u'Deadly': 1, u'rob...</td>\n",
       "      <td>{u'felony': 1, u'assault': 1, u'armed': 1}</td>\n",
       "      <td>0</td>\n",
       "      <td>1</td>\n",
       "    </tr>\n",
       "  </tbody>\n",
       "</table>\n",
       "</div>"
      ],
      "text/plain": [
       "                                            passages  \\\n",
       "0  {u'Wilson': 1, u'United': 2, u'switched': 1, u...   \n",
       "1  {u'United': 1, u'show': 18, u'money': 6, u'Jeo...   \n",
       "2  {u'serving': 1, u'saturated': 2, u'unhealthy':...   \n",
       "3  {u'show': 2, u'=u'1': 1, u'signs': 1, u'go': 3...   \n",
       "4  {u'=u': 1, u'sentence': 1, u'Deadly': 1, u'rob...   \n",
       "\n",
       "                                               query  query_type answers_yn  \n",
       "0       {u'ronald': 1, u'reagan': 1, u'democrat': 1}           0          1  \n",
       "1  {u'pay': 1, u'game': 1, u'shows': 1, u'contest...           0          1  \n",
       "2  {u'butter': 1, u'peanut': 1, u'contain': 1, u'...           0          0  \n",
       "3  {u'lane': 1, u'right': 1, u'carriageway': 1, u...           0          0  \n",
       "4         {u'felony': 1, u'assault': 1, u'armed': 1}           0          1  "
      ]
     },
     "execution_count": 10,
     "metadata": {},
     "output_type": "execute_result"
    }
   ],
   "source": [
    "tmp_df.head()"
   ]
  },
  {
   "cell_type": "code",
   "execution_count": 11,
   "metadata": {
    "collapsed": false
   },
   "outputs": [
    {
     "name": "stdout",
     "output_type": "stream",
     "text": [
      "Checking whether there is an H2O instance running at http://localhost:54321. connected.\n"
     ]
    },
    {
     "data": {
      "text/html": [
       "<div style=\"overflow:auto\"><table style=\"width:50%\"><tr><td>H2O cluster uptime:</td>\n",
       "<td>5 hours 51 mins</td></tr>\n",
       "<tr><td>H2O cluster version:</td>\n",
       "<td>3.10.0.10</td></tr>\n",
       "<tr><td>H2O cluster version age:</td>\n",
       "<td>2 months and 3 days </td></tr>\n",
       "<tr><td>H2O cluster name:</td>\n",
       "<td>H2O_from_python_user_6swz55</td></tr>\n",
       "<tr><td>H2O cluster total nodes:</td>\n",
       "<td>1</td></tr>\n",
       "<tr><td>H2O cluster free memory:</td>\n",
       "<td>869 Mb</td></tr>\n",
       "<tr><td>H2O cluster total cores:</td>\n",
       "<td>2</td></tr>\n",
       "<tr><td>H2O cluster allowed cores:</td>\n",
       "<td>2</td></tr>\n",
       "<tr><td>H2O cluster status:</td>\n",
       "<td>locked, healthy</td></tr>\n",
       "<tr><td>H2O connection url:</td>\n",
       "<td>http://localhost:54321</td></tr>\n",
       "<tr><td>H2O connection proxy:</td>\n",
       "<td>None</td></tr>\n",
       "<tr><td>Python version:</td>\n",
       "<td>2.7.11 final</td></tr></table></div>"
      ],
      "text/plain": [
       "--------------------------  ---------------------------\n",
       "H2O cluster uptime:         5 hours 51 mins\n",
       "H2O cluster version:        3.10.0.10\n",
       "H2O cluster version age:    2 months and 3 days\n",
       "H2O cluster name:           H2O_from_python_user_6swz55\n",
       "H2O cluster total nodes:    1\n",
       "H2O cluster free memory:    869 Mb\n",
       "H2O cluster total cores:    2\n",
       "H2O cluster allowed cores:  2\n",
       "H2O cluster status:         locked, healthy\n",
       "H2O connection url:         http://localhost:54321\n",
       "H2O connection proxy:\n",
       "Python version:             2.7.11 final\n",
       "--------------------------  ---------------------------"
      ]
     },
     "metadata": {},
     "output_type": "display_data"
    }
   ],
   "source": [
    "h2o.init()"
   ]
  },
  {
   "cell_type": "code",
   "execution_count": 23,
   "metadata": {
    "collapsed": false
   },
   "outputs": [
    {
     "name": "stdout",
     "output_type": "stream",
     "text": [
      "Parse progress: |█████████████████████████████████████████████████████████| 100%\n",
      "Parse progress: |█████████████████████████████████████████████████████████| 100%\n"
     ]
    }
   ],
   "source": [
    "# hdf=h2o.H2OFrame(tmp_df)\n",
    "\n",
    "hdf_tf=h2o.H2OFrame(tmp_df[tmp_df.columns[0:3]])\n",
    "hdf_target = h2o.H2OFrame(pd.DataFrame(tmp_df.answers_yn))\n",
    "hdf = h2o.H2OFrame.cbind(hdf_tf,h2o.H2OFrame.asfactor(hdf_target))\n"
   ]
  },
  {
   "cell_type": "code",
   "execution_count": 22,
   "metadata": {
    "collapsed": false
   },
   "outputs": [],
   "source": []
  },
  {
   "cell_type": "code",
   "execution_count": 24,
   "metadata": {
    "collapsed": false
   },
   "outputs": [
    {
     "data": {
      "text/html": [
       "<table>\n",
       "<thead>\n",
       "<tr><th>passages                                                                                                                                                                                                                                                                                                                                                                                                                                                                                                                                                                                                                                                                                                                                                                                                                                                                                                                                                                                                                                                                                                                                                                                                                                                                                                                                                                                                                                                                                                                                                                                                                                                                                                                                                                                                                                                                                                                                                                                                                                                                                                                                                                                                                                                                                                                                                                                                                                                                                                                                                                                                                                                                                          </th><th>query                                    </th><th style=\"text-align: right;\">  query_type</th><th style=\"text-align: right;\">  answers_yn</th></tr>\n",
       "</thead>\n",
       "<tbody>\n",
       "<tr><td>{'Wilson': 1, 'United': 2, 'switched': 1, 'votes\\\\\\\\u2014the': 1, 'supported': 1, 'years': 2, 'four': 1, 'radio': 1, '1962': 2, 'Ford': 1, '1948': 1, 'voter': 1, 'candidate': 3, 'former': 3, 'Ronald': 9, 'video.duration.momentjs': 1, 'candidates': 1, 'small-town': 1, '8': 1, '...': 1, 'campaigned': 2, 'views': 1, 'When': 1, 'Re-Election': 1, 'early': 2, \"\"\\\\'malaise\\\\\"\": 1, 'party': 3, 'Illinois': 1, 'presidential': 1, 'defected': 1, 'witched': 1, 'Raised': 1, 'Republican': 6, 'Liberal': 1, 'commentator': 1, '51': 1, '50': 1, 'disillusioned': 1, 'either': 1, 'found': 1, '538': 1, 'A': 1, 'working-class': 1, 'From': 1, 'people': 1, 'Gerald': 1, 'Wikipedia': 1, '1960s': 2, 'challenger': 1, 'economic': 1, 'election': 2, 'Listen': 1, 'even': 1, 'ultimately': 1, 'said': 1, 'fundamentally': 1, 'electoral': 1, 'conservative': 2, '525': 1, 'mate': 2, 'During': 1, 'America': 1, 'ever': 1, 'Mondale': 3, 'He': 2, \"\"\\\\'liberal\"\": 1, 'U.S.': 5, 'Bill': 1, 'however': 1, \"\"=u'Ronald\"\": 3, 'Democrat': 3, 'Ferraro': 2, '\\\\\\\\u02c8w\\\\\\\\u026als\\\\\\\\u0259n': 1, 'Northerner': 1, 'served': 3, 'put': 1, 'path': 1, '1935-': 2, 'Nixon': 1, 'received': 1, 'Jimmy': 1, 'Clinton': 1, 'carried': 1, 'country': 1, 'changed': 2, \"\"'=u\"\": 2, 'became': 3, '1970s': 1, 'Yes': 2, 'think': 1, 'first': 2, 'major': 2, 'useful': 1, 'political': 3, \"\"=u'1984\"\": 1, 'number': 2, 'officially': 1, 'female': 2, 'parties': 1, 'old': 1, 'Hollywood': 1, '/\\\\\\\\u02c8r\\\\\\\\u0252n\\\\\\\\u0259ld': 1, '1984': 4, '1980': 2, '1981': 2, 'trajectory': 1, 'support': 1, 'June': 1, '1989': 2, 'California': 3, 'way': 2, 'vice-presidential': 2, 'white': 1, '40th': 2, 'free': 1, 'life': 1, 're-elected': 1, '\\\\\\\\u2026': 1, '6': 1, 'American': 2, 'dramatic': 1, 'Harry': 1, '1911': 1, 'Democratic': 6, 'November': 3, 'Carter': 1, \"\"''\"\": 2, 'grew': 1, 'politician': 1, 'presidency': 1, 'reelected': 2, 'Reagan': 15, 'elections': 1, 'governor': 3, 'recording': 1, 'time': 1, 'landslide': 3, 'age': 1, '20s': 1, 'Richard': 1, 'voters': 1, 'states': 1, 'ready': 1, 'Party': 5, 'sounding': 1, 'Walter': 3, 'States': 2, 'different': 2, 'traditionally': 1, 'us': 1, '49': 1, 'rather': 1, 'began': 1, '1967': 1, 'actor': 3, 'member': 2, '5': 1, 'largest': 1, 'President': 2, '\\\\\\\\u02c8re\\\\\\\\u026a\\\\\\\\u0261\\\\\\\\u0259n/': 1, '\\\\\\\\u2013': 1, 'February': 1, 'I': 1, 'Geraldine': 2, 'earlier': 1, 'running': 2, \"\"=u'In\"\": 1, 'president': 1, 'Democrat\\\\': 1, 'desert': 1, 'younger': 1, 'Truman': 1, 'especially': 1, '1975': 1, 'later': 1, 'defeating': 3, 'deserted': 1, 'encyclopedia': 1, 'Democrats': 1, '2004': 1, 'In': 4, 'Duration': 1, 'audio': 1, '</td><td>{'ronald': 1, 'reagan': 1, 'democrat': 1}</td><td style=\"text-align: right;\">           0</td><td style=\"text-align: right;\">           1</td></tr>\n",
       "</tbody>\n",
       "</table>"
      ]
     },
     "metadata": {},
     "output_type": "display_data"
    },
    {
     "data": {
      "text/plain": []
     },
     "execution_count": 24,
     "metadata": {},
     "output_type": "execute_result"
    }
   ],
   "source": [
    "hdf.head(1)"
   ]
  },
  {
   "cell_type": "code",
   "execution_count": 25,
   "metadata": {
    "collapsed": true
   },
   "outputs": [],
   "source": [
    "hdf_train, hdf_validate=hdf.split_frame(ratios=[0.75], seed =1)"
   ]
  },
  {
   "cell_type": "code",
   "execution_count": 26,
   "metadata": {
    "collapsed": true
   },
   "outputs": [],
   "source": [
    "from h2o.estimators.naive_bayes import H2ONaiveBayesEstimator\n",
    "from h2o.estimators.gbm import H2OGradientBoostingEstimator"
   ]
  },
  {
   "cell_type": "code",
   "execution_count": 27,
   "metadata": {
    "collapsed": false
   },
   "outputs": [
    {
     "ename": "H2OResponseError",
     "evalue": "ModelBuilderErrorV3  (water.exceptions.H2OModelBuilderIllegalArgumentException):\n    stacktrace =\n        water.exceptions.H2OModelBuilderIllegalArgumentException: Illegal argument(s) for NaiveBayes model: NaiveBayes_model_python_1484116059452_438.  Details: ERRR on field: _nclass: Too many levels in response column: 5882, maximum supported number of classes is 1000.\n        water.exceptions.H2OModelBuilderIllegalArgumentException.makeFromBuilder(H2OModelBuilderIllegalArgumentException.java:20)\n        hex.ModelBuilder.trainModel(ModelBuilder.java:194)\n        water.api.ModelBuilderHandler.handle(ModelBuilderHandler.java:52)\n        water.api.ModelBuilderHandler.handle(ModelBuilderHandler.java:16)\n        water.api.RequestServer.serve(RequestServer.java:411)\n        water.api.RequestServer.doGeneric(RequestServer.java:262)\n        water.api.RequestServer.doPost(RequestServer.java:199)\n        javax.servlet.http.HttpServlet.service(HttpServlet.java:755)\n        javax.servlet.http.HttpServlet.service(HttpServlet.java:848)\n        org.eclipse.jetty.servlet.ServletHolder.handle(ServletHolder.java:684)\n        org.eclipse.jetty.servlet.ServletHandler.doHandle(ServletHandler.java:503)\n        org.eclipse.jetty.server.handler.ScopedHandler.handle(ScopedHandler.java:137)\n        org.eclipse.jetty.security.SecurityHandler.handle(SecurityHandler.java:557)\n        org.eclipse.jetty.server.session.SessionHandler.doHandle(SessionHandler.java:231)\n        org.eclipse.jetty.server.handler.ContextHandler.doHandle(ContextHandler.java:1086)\n        org.eclipse.jetty.servlet.ServletHandler.doScope(ServletHandler.java:429)\n        org.eclipse.jetty.server.session.SessionHandler.doScope(SessionHandler.java:193)\n        org.eclipse.jetty.server.handler.ContextHandler.doScope(ContextHandler.java:1020)\n        org.eclipse.jetty.server.handler.ScopedHandler.handle(ScopedHandler.java:135)\n        org.eclipse.jetty.server.handler.HandlerCollection.handle(HandlerCollection.java:154)\n        org.eclipse.jetty.server.handler.HandlerWrapper.handle(HandlerWrapper.java:116)\n        org.eclipse.jetty.server.Server.handle(Server.java:370)\n        org.eclipse.jetty.server.AbstractHttpConnection.handleRequest(AbstractHttpConnection.java:494)\n        org.eclipse.jetty.server.BlockingHttpConnection.handleRequest(BlockingHttpConnection.java:53)\n        org.eclipse.jetty.server.AbstractHttpConnection.content(AbstractHttpConnection.java:982)\n        org.eclipse.jetty.server.AbstractHttpConnection$RequestHandler.content(AbstractHttpConnection.java:1043)\n        org.eclipse.jetty.http.HttpParser.parseNext(HttpParser.java:865)\n        org.eclipse.jetty.http.HttpParser.parseAvailable(HttpParser.java:240)\n        org.eclipse.jetty.server.BlockingHttpConnection.handle(BlockingHttpConnection.java:72)\n        org.eclipse.jetty.server.bio.SocketConnector$ConnectorEndPoint.run(SocketConnector.java:264)\n        org.eclipse.jetty.util.thread.QueuedThreadPool.runJob(QueuedThreadPool.java:608)\n        org.eclipse.jetty.util.thread.QueuedThreadPool$3.run(QueuedThreadPool.java:543)\n        java.lang.Thread.run(Unknown Source)\n    parameters = {u'fold_column': None, u'response_column': {u'is_member_of_frames': None, u'column_name': u'query', u'__meta': {u'schema_name': u'ColSpecifierV3', u'schema_version': 3, u'schema_type': u'VecSpecifier'}}, u'stopping_metric': u'AUTO', u'parallelize_cross_validation': True, u'seed': 1, u'weights_column': None, u'stopping_rounds': 0, u'nfolds': 0, u'max_confusion_matrix_size': 20, u'offset_column': None, u'categorical_encoding': u'AUTO', u'checkpoint': None, u'stopping_tolerance': 0.001, u'huber_alpha': 0.9, u'max_runtime_secs': 0.0, u'quantile_alpha': 0.5, u'balance_classes': False, u'validation_frame': {u'URL': u'/3/Frames/py_11_sid_9cf2', u'type': u'Key<Frame>', u'name': u'py_11_sid_9cf2', u'__meta': {u'schema_name': u'FrameKeyV3', u'schema_version': 3, u'schema_type': u'Key<Frame>'}}, u'eps_prob': 0.0, u'min_sdev': 0.001, u'model_id': None, u'min_prob': 0.001, u'ignored_columns': [u'query_type', u'answers_yn'], u'tweedie_power': 1.5, u'eps_sdev': 0.0, u'score_each_iteration': False, u'max_after_balance_size': 5.0, u'compute_metrics': True, u'training_frame': {u'URL': u'/3/Frames/py_10_sid_9cf2', u'type': u'Key<Frame>', u'name': u'py_10_sid_9cf2', u'__meta': {u'schema_name': u'FrameKeyV3', u'schema_version': 3, u'schema_type': u'Key<Frame>'}}, u'laplace': 0.0, u'fold_assignment': u'AUTO', u'keep_cross_validation_predictions': False, u'__meta': {u'schema_name': u'NaiveBayesParametersV3', u'schema_version': 3, u'schema_type': u'NaiveBayesParameters'}, u'max_hit_ratio_k': 0, u'distribution': u'AUTO', u'class_sampling_factors': None, u'ignore_const_cols': True, u'keep_cross_validation_fold_assignment': False}\n    exception_msg = u'Illegal argument(s) for NaiveBayes model: NaiveBayes_model_python_1484116059452_438.  Details: ERRR on field: _nclass: Too many levels in response column: 5882, maximum supported number of classes is 1000.'\n    timestamp = 1484137427630L\n    messages = [{u'field_name': u'keep_cross_validation_predictions', u'message': u'Only for cross-validation.', u'message_type': u'TRACE', u'__meta': {u'schema_name': u'ValidationMessageV3', u'schema_version': 3, u'schema_type': u'ValidationMessage'}}, {u'field_name': u'keep_cross_validation_fold_assignment', u'message': u'Only for cross-validation.', u'message_type': u'TRACE', u'__meta': {u'schema_name': u'ValidationMessageV3', u'schema_version': 3, u'schema_type': u'ValidationMessage'}}, {u'field_name': u'fold_assignment', u'message': u'Only for cross-validation.', u'message_type': u'TRACE', u'__meta': {u'schema_name': u'ValidationMessageV3', u'schema_version': 3, u'schema_type': u'ValidationMessage'}}, {u'field_name': u'tweedie_power', u'message': u'Only for Tweedie Distribution.', u'message_type': u'TRACE', u'__meta': {u'schema_name': u'ValidationMessageV3', u'schema_version': 3, u'schema_type': u'ValidationMessage'}}, {u'field_name': u'tweedie_power', u'message': u'Tweedie power is only used for Tweedie distribution.', u'message_type': u'TRACE', u'__meta': {u'schema_name': u'ValidationMessageV3', u'schema_version': 3, u'schema_type': u'ValidationMessage'}}, {u'field_name': u'quantile_alpha', u'message': u'Quantile (alpha) is only used for Quantile regression.', u'message_type': u'TRACE', u'__meta': {u'schema_name': u'ValidationMessageV3', u'schema_version': 3, u'schema_type': u'ValidationMessage'}}, {u'field_name': u'max_after_balance_size', u'message': u'Balance classes is false, hide max_after_balance_size', u'message_type': u'TRACE', u'__meta': {u'schema_name': u'ValidationMessageV3', u'schema_version': 3, u'schema_type': u'ValidationMessage'}}, {u'field_name': u'max_after_balance_size', u'message': u'Only used with balanced classes', u'message_type': u'TRACE', u'__meta': {u'schema_name': u'ValidationMessageV3', u'schema_version': 3, u'schema_type': u'ValidationMessage'}}, {u'field_name': u'class_sampling_factors', u'message': u'Class sampling factors is only applicable if balancing classes.', u'message_type': u'TRACE', u'__meta': {u'schema_name': u'ValidationMessageV3', u'schema_version': 3, u'schema_type': u'ValidationMessage'}}, {u'field_name': u'nclass', u'message': u'Too many levels in response column: 5882, maximum supported number of classes is 1000.', u'message_type': u'ERRR', u'__meta': {u'schema_name': u'ValidationMessageV3', u'schema_version': 3, u'schema_type': u'ValidationMessage'}}, {u'field_name': u'balance_classes', u'message': u'Balance classes is not applicable to NaiveBayes.', u'message_type': u'TRACE', u'__meta': {u'schema_name': u'ValidationMessageV3', u'schema_version': 3, u'schema_type': u'ValidationMessage'}}, {u'field_name': u'class_sampling_factors', u'message': u'Class sampling factors is not applicable to NaiveBayes.', u'message_type': u'TRACE', u'__meta': {u'schema_name': u'ValidationMessageV3', u'schema_version': 3, u'schema_type': u'ValidationMessage'}}, {u'field_name': u'max_after_balance_size', u'message': u'Max after balance size is not applicable to NaiveBayes.', u'message_type': u'TRACE', u'__meta': {u'schema_name': u'ValidationMessageV3', u'schema_version': 3, u'schema_type': u'ValidationMessage'}}]\n    error_url = u'/3/ModelBuilders/naivebayes'\n    values = {u'messages': [{u'_log_level': 5, u'_message': u'Only for cross-validation.', u'_field_name': u'_keep_cross_validation_predictions'}, {u'_log_level': 5, u'_message': u'Only for cross-validation.', u'_field_name': u'_keep_cross_validation_fold_assignment'}, {u'_log_level': 5, u'_message': u'Only for cross-validation.', u'_field_name': u'_fold_assignment'}, {u'_log_level': 5, u'_message': u'Only for Tweedie Distribution.', u'_field_name': u'_tweedie_power'}, {u'_log_level': 5, u'_message': u'Tweedie power is only used for Tweedie distribution.', u'_field_name': u'_tweedie_power'}, {u'_log_level': 5, u'_message': u'Quantile (alpha) is only used for Quantile regression.', u'_field_name': u'_quantile_alpha'}, {u'_log_level': 5, u'_message': u'Balance classes is false, hide max_after_balance_size', u'_field_name': u'_max_after_balance_size'}, {u'_log_level': 5, u'_message': u'Only used with balanced classes', u'_field_name': u'_max_after_balance_size'}, {u'_log_level': 5, u'_message': u'Class sampling factors is only applicable if balancing classes.', u'_field_name': u'_class_sampling_factors'}, {u'_log_level': 1, u'_message': u'Too many levels in response column: 5882, maximum supported number of classes is 1000.', u'_field_name': u'_nclass'}, {u'_log_level': 5, u'_message': u'Balance classes is not applicable to NaiveBayes.', u'_field_name': u'_balance_classes'}, {u'_log_level': 5, u'_message': u'Class sampling factors is not applicable to NaiveBayes.', u'_field_name': u'_class_sampling_factors'}, {u'_log_level': 5, u'_message': u'Max after balance size is not applicable to NaiveBayes.', u'_field_name': u'_max_after_balance_size'}], u'algo': u'NaiveBayes', u'parameters': {u'_min_prob': 0.001, u'_fold_assignment': u'AUTO', u'_class_sampling_factors': None, u'_max_confusion_matrix_size': 20, u'_min_sdev': 0.001, u'_response_column': u'query', u'_score_each_iteration': False, u'_laplace': 0.0, u'_stopping_tolerance': 0.001, u'_distribution': u'AUTO', u'_stopping_metric': u'AUTO', u'_quantile_alpha': 0.5, u'_huber_alpha': 0.9, u'_max_after_balance_size': 5.0, u'_parallelize_cross_validation': True, u'_train': {u'type': u'Key', u'name': u'py_10_sid_9cf2'}, u'_pretrained_autoencoder': None, u'_valid': {u'type': u'Key', u'name': u'py_11_sid_9cf2'}, u'_checkpoint': None, u'_nfolds': 0, u'_is_cv_model': False, u'_offset_column': None, u'_seed': 1, u'_eps_prob': 0.0, u'_ignore_const_cols': True, u'_auto_rebalance': True, u'_eps_sdev': 0.0, u'_balance_classes': False, u'_stopping_rounds': 0, u'_fold_column': None, u'_keep_cross_validation_predictions': False, u'_categorical_encoding': u'AUTO', u'_tweedie_power': 1.5, u'_compute_metrics': True, u'_weights_column': None, u'_max_runtime_secs': 0.0, u'_keep_cross_validation_fold_assignment': False, u'_ignored_columns': [u'query_type', u'answers_yn']}, u'error_count': 1}\n    error_count = 1\n    http_status = 412\n    msg = u'Illegal argument(s) for NaiveBayes model: NaiveBayes_model_python_1484116059452_438.  Details: ERRR on field: _nclass: Too many levels in response column: 5882, maximum supported number of classes is 1000.'\n    dev_msg = u'Illegal argument(s) for NaiveBayes model: NaiveBayes_model_python_1484116059452_438.  Details: ERRR on field: _nclass: Too many levels in response column: 5882, maximum supported number of classes is 1000.'\n",
     "output_type": "error",
     "traceback": [
      "\u001b[1;31m---------------------------------------------------------------------------\u001b[0m",
      "\u001b[1;31mH2OResponseError\u001b[0m                          Traceback (most recent call last)",
      "\u001b[1;32m<ipython-input-27-673a49677d57>\u001b[0m in \u001b[0;36m<module>\u001b[1;34m()\u001b[0m\n\u001b[0;32m      1\u001b[0m \u001b[0mnb\u001b[0m \u001b[1;33m=\u001b[0m\u001b[0mH2ONaiveBayesEstimator\u001b[0m\u001b[1;33m(\u001b[0m\u001b[0mseed\u001b[0m \u001b[1;33m=\u001b[0m\u001b[1;36m1\u001b[0m\u001b[1;33m)\u001b[0m\u001b[1;33m\u001b[0m\u001b[0m\n\u001b[1;32m----> 2\u001b[1;33m \u001b[0mnb\u001b[0m\u001b[1;33m.\u001b[0m\u001b[0mtrain\u001b[0m\u001b[1;33m(\u001b[0m\u001b[0mx\u001b[0m \u001b[1;33m=\u001b[0m \u001b[0mhdf\u001b[0m\u001b[1;33m.\u001b[0m\u001b[0mcol_names\u001b[0m\u001b[1;33m[\u001b[0m\u001b[1;36m0\u001b[0m\u001b[1;33m]\u001b[0m\u001b[1;33m,\u001b[0m \u001b[0my\u001b[0m \u001b[1;33m=\u001b[0m \u001b[0mhdf\u001b[0m\u001b[1;33m.\u001b[0m\u001b[0mcol_names\u001b[0m\u001b[1;33m[\u001b[0m\u001b[1;36m1\u001b[0m\u001b[1;33m]\u001b[0m\u001b[1;33m,\u001b[0m \u001b[0mtraining_frame\u001b[0m\u001b[1;33m=\u001b[0m\u001b[0mhdf_train\u001b[0m\u001b[1;33m,\u001b[0m \u001b[0mvalidation_frame\u001b[0m\u001b[1;33m=\u001b[0m\u001b[0mhdf_validate\u001b[0m\u001b[1;33m)\u001b[0m\u001b[1;33m\u001b[0m\u001b[0m\n\u001b[0m",
      "\u001b[1;32mD:\\DATO\\Anaconda2\\envs\\gl-env\\lib\\site-packages\\h2o\\estimators\\estimator_base.pyc\u001b[0m in \u001b[0;36mtrain\u001b[1;34m(self, x, y, training_frame, offset_column, fold_column, weights_column, validation_frame, max_runtime_secs, ignored_columns, **ignored)\u001b[0m\n\u001b[0;32m    194\u001b[0m         \u001b[0mparms\u001b[0m\u001b[1;33m[\u001b[0m\u001b[1;34m\"weights_column\"\u001b[0m\u001b[1;33m]\u001b[0m \u001b[1;33m=\u001b[0m \u001b[0mweights_column\u001b[0m\u001b[1;33m\u001b[0m\u001b[0m\n\u001b[0;32m    195\u001b[0m         \u001b[0mparms\u001b[0m\u001b[1;33m[\u001b[0m\u001b[1;34m\"max_runtime_secs\"\u001b[0m\u001b[1;33m]\u001b[0m \u001b[1;33m=\u001b[0m \u001b[0mmax_runtime_secs\u001b[0m\u001b[1;33m\u001b[0m\u001b[0m\n\u001b[1;32m--> 196\u001b[1;33m         \u001b[0mself\u001b[0m\u001b[1;33m.\u001b[0m\u001b[0m_build_model\u001b[0m\u001b[1;33m(\u001b[0m\u001b[0mparms\u001b[0m\u001b[1;33m)\u001b[0m\u001b[1;33m\u001b[0m\u001b[0m\n\u001b[0m\u001b[0;32m    197\u001b[0m \u001b[1;33m\u001b[0m\u001b[0m\n\u001b[0;32m    198\u001b[0m     \u001b[1;32mdef\u001b[0m \u001b[0m_build_model\u001b[0m\u001b[1;33m(\u001b[0m\u001b[0mself\u001b[0m\u001b[1;33m,\u001b[0m \u001b[0malgo_params\u001b[0m\u001b[1;33m)\u001b[0m\u001b[1;33m:\u001b[0m\u001b[1;33m\u001b[0m\u001b[0m\n",
      "\u001b[1;32mD:\\DATO\\Anaconda2\\envs\\gl-env\\lib\\site-packages\\h2o\\estimators\\estimator_base.pyc\u001b[0m in \u001b[0;36m_build_model\u001b[1;34m(self, algo_params)\u001b[0m\n\u001b[0;32m    207\u001b[0m         \u001b[1;32mif\u001b[0m \u001b[0mis_auto_encoder\u001b[0m \u001b[1;32mand\u001b[0m \u001b[0my\u001b[0m \u001b[1;32mis\u001b[0m \u001b[1;32mnot\u001b[0m \u001b[0mNone\u001b[0m\u001b[1;33m:\u001b[0m \u001b[1;32mraise\u001b[0m \u001b[0mValueError\u001b[0m\u001b[1;33m(\u001b[0m\u001b[1;34m\"y should not be specified for autoencoder.\"\u001b[0m\u001b[1;33m)\u001b[0m\u001b[1;33m\u001b[0m\u001b[0m\n\u001b[0;32m    208\u001b[0m         \u001b[1;32mif\u001b[0m \u001b[1;32mnot\u001b[0m \u001b[0mis_unsupervised\u001b[0m \u001b[1;32mand\u001b[0m \u001b[0my\u001b[0m \u001b[1;32mis\u001b[0m \u001b[0mNone\u001b[0m\u001b[1;33m:\u001b[0m \u001b[1;32mraise\u001b[0m \u001b[0mValueError\u001b[0m\u001b[1;33m(\u001b[0m\u001b[1;34m\"Missing response\"\u001b[0m\u001b[1;33m)\u001b[0m\u001b[1;33m\u001b[0m\u001b[0m\n\u001b[1;32m--> 209\u001b[1;33m         \u001b[0mself\u001b[0m\u001b[1;33m.\u001b[0m\u001b[0m_model_build\u001b[0m\u001b[1;33m(\u001b[0m\u001b[0mx\u001b[0m\u001b[1;33m,\u001b[0m \u001b[0my\u001b[0m\u001b[1;33m,\u001b[0m \u001b[0mtraining_frame\u001b[0m\u001b[1;33m,\u001b[0m \u001b[0mvalidation_frame\u001b[0m\u001b[1;33m,\u001b[0m \u001b[0malgo_params\u001b[0m\u001b[1;33m)\u001b[0m\u001b[1;33m\u001b[0m\u001b[0m\n\u001b[0m\u001b[0;32m    210\u001b[0m \u001b[1;33m\u001b[0m\u001b[0m\n\u001b[0;32m    211\u001b[0m     \u001b[1;32mdef\u001b[0m \u001b[0m_model_build\u001b[0m\u001b[1;33m(\u001b[0m\u001b[0mself\u001b[0m\u001b[1;33m,\u001b[0m \u001b[0mx\u001b[0m\u001b[1;33m,\u001b[0m \u001b[0my\u001b[0m\u001b[1;33m,\u001b[0m \u001b[0mtframe\u001b[0m\u001b[1;33m,\u001b[0m \u001b[0mvframe\u001b[0m\u001b[1;33m,\u001b[0m \u001b[0mkwargs\u001b[0m\u001b[1;33m)\u001b[0m\u001b[1;33m:\u001b[0m\u001b[1;33m\u001b[0m\u001b[0m\n",
      "\u001b[1;32mD:\\DATO\\Anaconda2\\envs\\gl-env\\lib\\site-packages\\h2o\\estimators\\estimator_base.pyc\u001b[0m in \u001b[0;36m_model_build\u001b[1;34m(self, x, y, tframe, vframe, kwargs)\u001b[0m\n\u001b[0;32m    227\u001b[0m         \u001b[0mrest_ver\u001b[0m \u001b[1;33m=\u001b[0m \u001b[0mkwargs\u001b[0m\u001b[1;33m.\u001b[0m\u001b[0mpop\u001b[0m\u001b[1;33m(\u001b[0m\u001b[1;34m\"_rest_version\"\u001b[0m\u001b[1;33m)\u001b[0m \u001b[1;32mif\u001b[0m \u001b[1;34m\"_rest_version\"\u001b[0m \u001b[1;32min\u001b[0m \u001b[0mkwargs\u001b[0m \u001b[1;32melse\u001b[0m \u001b[1;36m3\u001b[0m\u001b[1;33m\u001b[0m\u001b[0m\n\u001b[0;32m    228\u001b[0m \u001b[1;33m\u001b[0m\u001b[0m\n\u001b[1;32m--> 229\u001b[1;33m         model = H2OJob(h2o.api(\"POST /%d/ModelBuilders/%s\" % (rest_ver, self.algo), data=kwargs),\n\u001b[0m\u001b[0;32m    230\u001b[0m                        job_type=(self.algo + \" Model Build\"))\n\u001b[0;32m    231\u001b[0m \u001b[1;33m\u001b[0m\u001b[0m\n",
      "\u001b[1;32mD:\\DATO\\Anaconda2\\envs\\gl-env\\lib\\site-packages\\h2o\\h2o.pyc\u001b[0m in \u001b[0;36mapi\u001b[1;34m(endpoint, data, json, filename, save_to)\u001b[0m\n\u001b[0;32m     82\u001b[0m     \u001b[1;31m# type checks are performed in H2OConnection class\u001b[0m\u001b[1;33m\u001b[0m\u001b[1;33m\u001b[0m\u001b[0m\n\u001b[0;32m     83\u001b[0m     \u001b[0m_check_connection\u001b[0m\u001b[1;33m(\u001b[0m\u001b[1;33m)\u001b[0m\u001b[1;33m\u001b[0m\u001b[0m\n\u001b[1;32m---> 84\u001b[1;33m     \u001b[1;32mreturn\u001b[0m \u001b[0mh2oconn\u001b[0m\u001b[1;33m.\u001b[0m\u001b[0mrequest\u001b[0m\u001b[1;33m(\u001b[0m\u001b[0mendpoint\u001b[0m\u001b[1;33m,\u001b[0m \u001b[0mdata\u001b[0m\u001b[1;33m=\u001b[0m\u001b[0mdata\u001b[0m\u001b[1;33m,\u001b[0m \u001b[0mjson\u001b[0m\u001b[1;33m=\u001b[0m\u001b[0mjson\u001b[0m\u001b[1;33m,\u001b[0m \u001b[0mfilename\u001b[0m\u001b[1;33m=\u001b[0m\u001b[0mfilename\u001b[0m\u001b[1;33m,\u001b[0m \u001b[0msave_to\u001b[0m\u001b[1;33m=\u001b[0m\u001b[0msave_to\u001b[0m\u001b[1;33m)\u001b[0m\u001b[1;33m\u001b[0m\u001b[0m\n\u001b[0m\u001b[0;32m     85\u001b[0m \u001b[1;33m\u001b[0m\u001b[0m\n\u001b[0;32m     86\u001b[0m \u001b[1;33m\u001b[0m\u001b[0m\n",
      "\u001b[1;32mD:\\DATO\\Anaconda2\\envs\\gl-env\\lib\\site-packages\\h2o\\backend\\connection.pyc\u001b[0m in \u001b[0;36mrequest\u001b[1;34m(self, endpoint, data, json, filename, save_to)\u001b[0m\n\u001b[0;32m    257\u001b[0m                                     auth=self._auth, verify=self._verify_ssl_cert, proxies=self._proxies)\n\u001b[0;32m    258\u001b[0m             \u001b[0mself\u001b[0m\u001b[1;33m.\u001b[0m\u001b[0m_log_end_transaction\u001b[0m\u001b[1;33m(\u001b[0m\u001b[0mstart_time\u001b[0m\u001b[1;33m,\u001b[0m \u001b[0mresp\u001b[0m\u001b[1;33m)\u001b[0m\u001b[1;33m\u001b[0m\u001b[0m\n\u001b[1;32m--> 259\u001b[1;33m             \u001b[1;32mreturn\u001b[0m \u001b[0mself\u001b[0m\u001b[1;33m.\u001b[0m\u001b[0m_process_response\u001b[0m\u001b[1;33m(\u001b[0m\u001b[0mresp\u001b[0m\u001b[1;33m,\u001b[0m \u001b[0msave_to\u001b[0m\u001b[1;33m)\u001b[0m\u001b[1;33m\u001b[0m\u001b[0m\n\u001b[0m\u001b[0;32m    260\u001b[0m \u001b[1;33m\u001b[0m\u001b[0m\n\u001b[0;32m    261\u001b[0m         \u001b[1;32mexcept\u001b[0m \u001b[1;33m(\u001b[0m\u001b[0mrequests\u001b[0m\u001b[1;33m.\u001b[0m\u001b[0mexceptions\u001b[0m\u001b[1;33m.\u001b[0m\u001b[0mConnectionError\u001b[0m\u001b[1;33m,\u001b[0m \u001b[0mrequests\u001b[0m\u001b[1;33m.\u001b[0m\u001b[0mexceptions\u001b[0m\u001b[1;33m.\u001b[0m\u001b[0mHTTPError\u001b[0m\u001b[1;33m)\u001b[0m \u001b[1;32mas\u001b[0m \u001b[0me\u001b[0m\u001b[1;33m:\u001b[0m\u001b[1;33m\u001b[0m\u001b[0m\n",
      "\u001b[1;32mD:\\DATO\\Anaconda2\\envs\\gl-env\\lib\\site-packages\\h2o\\backend\\connection.pyc\u001b[0m in \u001b[0;36m_process_response\u001b[1;34m(response, save_to)\u001b[0m\n\u001b[0;32m    584\u001b[0m         \u001b[1;31m# Client errors (400 = \"Bad Request\", 404 = \"Not Found\", 412 = \"Precondition Failed\")\u001b[0m\u001b[1;33m\u001b[0m\u001b[1;33m\u001b[0m\u001b[0m\n\u001b[0;32m    585\u001b[0m         \u001b[1;32mif\u001b[0m \u001b[0mstatus_code\u001b[0m \u001b[1;32min\u001b[0m \u001b[1;33m{\u001b[0m\u001b[1;36m400\u001b[0m\u001b[1;33m,\u001b[0m \u001b[1;36m404\u001b[0m\u001b[1;33m,\u001b[0m \u001b[1;36m412\u001b[0m\u001b[1;33m}\u001b[0m \u001b[1;32mand\u001b[0m \u001b[0misinstance\u001b[0m\u001b[1;33m(\u001b[0m\u001b[0mdata\u001b[0m\u001b[1;33m,\u001b[0m \u001b[1;33m(\u001b[0m\u001b[0mH2OErrorV3\u001b[0m\u001b[1;33m,\u001b[0m \u001b[0mH2OModelBuilderErrorV3\u001b[0m\u001b[1;33m)\u001b[0m\u001b[1;33m)\u001b[0m\u001b[1;33m:\u001b[0m\u001b[1;33m\u001b[0m\u001b[0m\n\u001b[1;32m--> 586\u001b[1;33m             \u001b[1;32mraise\u001b[0m \u001b[0mH2OResponseError\u001b[0m\u001b[1;33m(\u001b[0m\u001b[0mdata\u001b[0m\u001b[1;33m)\u001b[0m\u001b[1;33m\u001b[0m\u001b[0m\n\u001b[0m\u001b[0;32m    587\u001b[0m \u001b[1;33m\u001b[0m\u001b[0m\n\u001b[0;32m    588\u001b[0m         \u001b[1;31m# Server errors (notably 500 = \"Server Error\")\u001b[0m\u001b[1;33m\u001b[0m\u001b[1;33m\u001b[0m\u001b[0m\n",
      "\u001b[1;31mH2OResponseError\u001b[0m: ModelBuilderErrorV3  (water.exceptions.H2OModelBuilderIllegalArgumentException):\n    stacktrace =\n        water.exceptions.H2OModelBuilderIllegalArgumentException: Illegal argument(s) for NaiveBayes model: NaiveBayes_model_python_1484116059452_438.  Details: ERRR on field: _nclass: Too many levels in response column: 5882, maximum supported number of classes is 1000.\n        water.exceptions.H2OModelBuilderIllegalArgumentException.makeFromBuilder(H2OModelBuilderIllegalArgumentException.java:20)\n        hex.ModelBuilder.trainModel(ModelBuilder.java:194)\n        water.api.ModelBuilderHandler.handle(ModelBuilderHandler.java:52)\n        water.api.ModelBuilderHandler.handle(ModelBuilderHandler.java:16)\n        water.api.RequestServer.serve(RequestServer.java:411)\n        water.api.RequestServer.doGeneric(RequestServer.java:262)\n        water.api.RequestServer.doPost(RequestServer.java:199)\n        javax.servlet.http.HttpServlet.service(HttpServlet.java:755)\n        javax.servlet.http.HttpServlet.service(HttpServlet.java:848)\n        org.eclipse.jetty.servlet.ServletHolder.handle(ServletHolder.java:684)\n        org.eclipse.jetty.servlet.ServletHandler.doHandle(ServletHandler.java:503)\n        org.eclipse.jetty.server.handler.ScopedHandler.handle(ScopedHandler.java:137)\n        org.eclipse.jetty.security.SecurityHandler.handle(SecurityHandler.java:557)\n        org.eclipse.jetty.server.session.SessionHandler.doHandle(SessionHandler.java:231)\n        org.eclipse.jetty.server.handler.ContextHandler.doHandle(ContextHandler.java:1086)\n        org.eclipse.jetty.servlet.ServletHandler.doScope(ServletHandler.java:429)\n        org.eclipse.jetty.server.session.SessionHandler.doScope(SessionHandler.java:193)\n        org.eclipse.jetty.server.handler.ContextHandler.doScope(ContextHandler.java:1020)\n        org.eclipse.jetty.server.handler.ScopedHandler.handle(ScopedHandler.java:135)\n        org.eclipse.jetty.server.handler.HandlerCollection.handle(HandlerCollection.java:154)\n        org.eclipse.jetty.server.handler.HandlerWrapper.handle(HandlerWrapper.java:116)\n        org.eclipse.jetty.server.Server.handle(Server.java:370)\n        org.eclipse.jetty.server.AbstractHttpConnection.handleRequest(AbstractHttpConnection.java:494)\n        org.eclipse.jetty.server.BlockingHttpConnection.handleRequest(BlockingHttpConnection.java:53)\n        org.eclipse.jetty.server.AbstractHttpConnection.content(AbstractHttpConnection.java:982)\n        org.eclipse.jetty.server.AbstractHttpConnection$RequestHandler.content(AbstractHttpConnection.java:1043)\n        org.eclipse.jetty.http.HttpParser.parseNext(HttpParser.java:865)\n        org.eclipse.jetty.http.HttpParser.parseAvailable(HttpParser.java:240)\n        org.eclipse.jetty.server.BlockingHttpConnection.handle(BlockingHttpConnection.java:72)\n        org.eclipse.jetty.server.bio.SocketConnector$ConnectorEndPoint.run(SocketConnector.java:264)\n        org.eclipse.jetty.util.thread.QueuedThreadPool.runJob(QueuedThreadPool.java:608)\n        org.eclipse.jetty.util.thread.QueuedThreadPool$3.run(QueuedThreadPool.java:543)\n        java.lang.Thread.run(Unknown Source)\n    parameters = {u'fold_column': None, u'response_column': {u'is_member_of_frames': None, u'column_name': u'query', u'__meta': {u'schema_name': u'ColSpecifierV3', u'schema_version': 3, u'schema_type': u'VecSpecifier'}}, u'stopping_metric': u'AUTO', u'parallelize_cross_validation': True, u'seed': 1, u'weights_column': None, u'stopping_rounds': 0, u'nfolds': 0, u'max_confusion_matrix_size': 20, u'offset_column': None, u'categorical_encoding': u'AUTO', u'checkpoint': None, u'stopping_tolerance': 0.001, u'huber_alpha': 0.9, u'max_runtime_secs': 0.0, u'quantile_alpha': 0.5, u'balance_classes': False, u'validation_frame': {u'URL': u'/3/Frames/py_11_sid_9cf2', u'type': u'Key<Frame>', u'name': u'py_11_sid_9cf2', u'__meta': {u'schema_name': u'FrameKeyV3', u'schema_version': 3, u'schema_type': u'Key<Frame>'}}, u'eps_prob': 0.0, u'min_sdev': 0.001, u'model_id': None, u'min_prob': 0.001, u'ignored_columns': [u'query_type', u'answers_yn'], u'tweedie_power': 1.5, u'eps_sdev': 0.0, u'score_each_iteration': False, u'max_after_balance_size': 5.0, u'compute_metrics': True, u'training_frame': {u'URL': u'/3/Frames/py_10_sid_9cf2', u'type': u'Key<Frame>', u'name': u'py_10_sid_9cf2', u'__meta': {u'schema_name': u'FrameKeyV3', u'schema_version': 3, u'schema_type': u'Key<Frame>'}}, u'laplace': 0.0, u'fold_assignment': u'AUTO', u'keep_cross_validation_predictions': False, u'__meta': {u'schema_name': u'NaiveBayesParametersV3', u'schema_version': 3, u'schema_type': u'NaiveBayesParameters'}, u'max_hit_ratio_k': 0, u'distribution': u'AUTO', u'class_sampling_factors': None, u'ignore_const_cols': True, u'keep_cross_validation_fold_assignment': False}\n    exception_msg = u'Illegal argument(s) for NaiveBayes model: NaiveBayes_model_python_1484116059452_438.  Details: ERRR on field: _nclass: Too many levels in response column: 5882, maximum supported number of classes is 1000.'\n    timestamp = 1484137427630L\n    messages = [{u'field_name': u'keep_cross_validation_predictions', u'message': u'Only for cross-validation.', u'message_type': u'TRACE', u'__meta': {u'schema_name': u'ValidationMessageV3', u'schema_version': 3, u'schema_type': u'ValidationMessage'}}, {u'field_name': u'keep_cross_validation_fold_assignment', u'message': u'Only for cross-validation.', u'message_type': u'TRACE', u'__meta': {u'schema_name': u'ValidationMessageV3', u'schema_version': 3, u'schema_type': u'ValidationMessage'}}, {u'field_name': u'fold_assignment', u'message': u'Only for cross-validation.', u'message_type': u'TRACE', u'__meta': {u'schema_name': u'ValidationMessageV3', u'schema_version': 3, u'schema_type': u'ValidationMessage'}}, {u'field_name': u'tweedie_power', u'message': u'Only for Tweedie Distribution.', u'message_type': u'TRACE', u'__meta': {u'schema_name': u'ValidationMessageV3', u'schema_version': 3, u'schema_type': u'ValidationMessage'}}, {u'field_name': u'tweedie_power', u'message': u'Tweedie power is only used for Tweedie distribution.', u'message_type': u'TRACE', u'__meta': {u'schema_name': u'ValidationMessageV3', u'schema_version': 3, u'schema_type': u'ValidationMessage'}}, {u'field_name': u'quantile_alpha', u'message': u'Quantile (alpha) is only used for Quantile regression.', u'message_type': u'TRACE', u'__meta': {u'schema_name': u'ValidationMessageV3', u'schema_version': 3, u'schema_type': u'ValidationMessage'}}, {u'field_name': u'max_after_balance_size', u'message': u'Balance classes is false, hide max_after_balance_size', u'message_type': u'TRACE', u'__meta': {u'schema_name': u'ValidationMessageV3', u'schema_version': 3, u'schema_type': u'ValidationMessage'}}, {u'field_name': u'max_after_balance_size', u'message': u'Only used with balanced classes', u'message_type': u'TRACE', u'__meta': {u'schema_name': u'ValidationMessageV3', u'schema_version': 3, u'schema_type': u'ValidationMessage'}}, {u'field_name': u'class_sampling_factors', u'message': u'Class sampling factors is only applicable if balancing classes.', u'message_type': u'TRACE', u'__meta': {u'schema_name': u'ValidationMessageV3', u'schema_version': 3, u'schema_type': u'ValidationMessage'}}, {u'field_name': u'nclass', u'message': u'Too many levels in response column: 5882, maximum supported number of classes is 1000.', u'message_type': u'ERRR', u'__meta': {u'schema_name': u'ValidationMessageV3', u'schema_version': 3, u'schema_type': u'ValidationMessage'}}, {u'field_name': u'balance_classes', u'message': u'Balance classes is not applicable to NaiveBayes.', u'message_type': u'TRACE', u'__meta': {u'schema_name': u'ValidationMessageV3', u'schema_version': 3, u'schema_type': u'ValidationMessage'}}, {u'field_name': u'class_sampling_factors', u'message': u'Class sampling factors is not applicable to NaiveBayes.', u'message_type': u'TRACE', u'__meta': {u'schema_name': u'ValidationMessageV3', u'schema_version': 3, u'schema_type': u'ValidationMessage'}}, {u'field_name': u'max_after_balance_size', u'message': u'Max after balance size is not applicable to NaiveBayes.', u'message_type': u'TRACE', u'__meta': {u'schema_name': u'ValidationMessageV3', u'schema_version': 3, u'schema_type': u'ValidationMessage'}}]\n    error_url = u'/3/ModelBuilders/naivebayes'\n    values = {u'messages': [{u'_log_level': 5, u'_message': u'Only for cross-validation.', u'_field_name': u'_keep_cross_validation_predictions'}, {u'_log_level': 5, u'_message': u'Only for cross-validation.', u'_field_name': u'_keep_cross_validation_fold_assignment'}, {u'_log_level': 5, u'_message': u'Only for cross-validation.', u'_field_name': u'_fold_assignment'}, {u'_log_level': 5, u'_message': u'Only for Tweedie Distribution.', u'_field_name': u'_tweedie_power'}, {u'_log_level': 5, u'_message': u'Tweedie power is only used for Tweedie distribution.', u'_field_name': u'_tweedie_power'}, {u'_log_level': 5, u'_message': u'Quantile (alpha) is only used for Quantile regression.', u'_field_name': u'_quantile_alpha'}, {u'_log_level': 5, u'_message': u'Balance classes is false, hide max_after_balance_size', u'_field_name': u'_max_after_balance_size'}, {u'_log_level': 5, u'_message': u'Only used with balanced classes', u'_field_name': u'_max_after_balance_size'}, {u'_log_level': 5, u'_message': u'Class sampling factors is only applicable if balancing classes.', u'_field_name': u'_class_sampling_factors'}, {u'_log_level': 1, u'_message': u'Too many levels in response column: 5882, maximum supported number of classes is 1000.', u'_field_name': u'_nclass'}, {u'_log_level': 5, u'_message': u'Balance classes is not applicable to NaiveBayes.', u'_field_name': u'_balance_classes'}, {u'_log_level': 5, u'_message': u'Class sampling factors is not applicable to NaiveBayes.', u'_field_name': u'_class_sampling_factors'}, {u'_log_level': 5, u'_message': u'Max after balance size is not applicable to NaiveBayes.', u'_field_name': u'_max_after_balance_size'}], u'algo': u'NaiveBayes', u'parameters': {u'_min_prob': 0.001, u'_fold_assignment': u'AUTO', u'_class_sampling_factors': None, u'_max_confusion_matrix_size': 20, u'_min_sdev': 0.001, u'_response_column': u'query', u'_score_each_iteration': False, u'_laplace': 0.0, u'_stopping_tolerance': 0.001, u'_distribution': u'AUTO', u'_stopping_metric': u'AUTO', u'_quantile_alpha': 0.5, u'_huber_alpha': 0.9, u'_max_after_balance_size': 5.0, u'_parallelize_cross_validation': True, u'_train': {u'type': u'Key', u'name': u'py_10_sid_9cf2'}, u'_pretrained_autoencoder': None, u'_valid': {u'type': u'Key', u'name': u'py_11_sid_9cf2'}, u'_checkpoint': None, u'_nfolds': 0, u'_is_cv_model': False, u'_offset_column': None, u'_seed': 1, u'_eps_prob': 0.0, u'_ignore_const_cols': True, u'_auto_rebalance': True, u'_eps_sdev': 0.0, u'_balance_classes': False, u'_stopping_rounds': 0, u'_fold_column': None, u'_keep_cross_validation_predictions': False, u'_categorical_encoding': u'AUTO', u'_tweedie_power': 1.5, u'_compute_metrics': True, u'_weights_column': None, u'_max_runtime_secs': 0.0, u'_keep_cross_validation_fold_assignment': False, u'_ignored_columns': [u'query_type', u'answers_yn']}, u'error_count': 1}\n    error_count = 1\n    http_status = 412\n    msg = u'Illegal argument(s) for NaiveBayes model: NaiveBayes_model_python_1484116059452_438.  Details: ERRR on field: _nclass: Too many levels in response column: 5882, maximum supported number of classes is 1000.'\n    dev_msg = u'Illegal argument(s) for NaiveBayes model: NaiveBayes_model_python_1484116059452_438.  Details: ERRR on field: _nclass: Too many levels in response column: 5882, maximum supported number of classes is 1000.'\n"
     ]
    }
   ],
   "source": [
    "nb =H2ONaiveBayesEstimator(seed =1)\n",
    "nb.train(x = hdf.col_names[0], y = hdf.col_names[1], training_frame=hdf_train, validation_frame=hdf_validate)"
   ]
  },
  {
   "cell_type": "code",
   "execution_count": 28,
   "metadata": {
    "collapsed": false
   },
   "outputs": [
    {
     "ename": "H2OResponseError",
     "evalue": "ModelBuilderErrorV3  (water.exceptions.H2OModelBuilderIllegalArgumentException):\n    stacktrace =\n        water.exceptions.H2OModelBuilderIllegalArgumentException: Illegal argument(s) for GBM model: GBM_model_python_1484116059452_439.  Details: ERRR on field: _nclass: Too many levels in response column: 5882, maximum supported number of classes is 1000.\n        water.exceptions.H2OModelBuilderIllegalArgumentException.makeFromBuilder(H2OModelBuilderIllegalArgumentException.java:20)\n        hex.ModelBuilder.trainModel(ModelBuilder.java:194)\n        water.api.ModelBuilderHandler.handle(ModelBuilderHandler.java:52)\n        water.api.ModelBuilderHandler.handle(ModelBuilderHandler.java:16)\n        water.api.RequestServer.serve(RequestServer.java:411)\n        water.api.RequestServer.doGeneric(RequestServer.java:262)\n        water.api.RequestServer.doPost(RequestServer.java:199)\n        javax.servlet.http.HttpServlet.service(HttpServlet.java:755)\n        javax.servlet.http.HttpServlet.service(HttpServlet.java:848)\n        org.eclipse.jetty.servlet.ServletHolder.handle(ServletHolder.java:684)\n        org.eclipse.jetty.servlet.ServletHandler.doHandle(ServletHandler.java:503)\n        org.eclipse.jetty.server.handler.ScopedHandler.handle(ScopedHandler.java:137)\n        org.eclipse.jetty.security.SecurityHandler.handle(SecurityHandler.java:557)\n        org.eclipse.jetty.server.session.SessionHandler.doHandle(SessionHandler.java:231)\n        org.eclipse.jetty.server.handler.ContextHandler.doHandle(ContextHandler.java:1086)\n        org.eclipse.jetty.servlet.ServletHandler.doScope(ServletHandler.java:429)\n        org.eclipse.jetty.server.session.SessionHandler.doScope(SessionHandler.java:193)\n        org.eclipse.jetty.server.handler.ContextHandler.doScope(ContextHandler.java:1020)\n        org.eclipse.jetty.server.handler.ScopedHandler.handle(ScopedHandler.java:135)\n        org.eclipse.jetty.server.handler.HandlerCollection.handle(HandlerCollection.java:154)\n        org.eclipse.jetty.server.handler.HandlerWrapper.handle(HandlerWrapper.java:116)\n        org.eclipse.jetty.server.Server.handle(Server.java:370)\n        org.eclipse.jetty.server.AbstractHttpConnection.handleRequest(AbstractHttpConnection.java:494)\n        org.eclipse.jetty.server.BlockingHttpConnection.handleRequest(BlockingHttpConnection.java:53)\n        org.eclipse.jetty.server.AbstractHttpConnection.content(AbstractHttpConnection.java:982)\n        org.eclipse.jetty.server.AbstractHttpConnection$RequestHandler.content(AbstractHttpConnection.java:1043)\n        org.eclipse.jetty.http.HttpParser.parseNext(HttpParser.java:865)\n        org.eclipse.jetty.http.HttpParser.parseAvailable(HttpParser.java:240)\n        org.eclipse.jetty.server.BlockingHttpConnection.handle(BlockingHttpConnection.java:72)\n        org.eclipse.jetty.server.bio.SocketConnector$ConnectorEndPoint.run(SocketConnector.java:264)\n        org.eclipse.jetty.util.thread.QueuedThreadPool.runJob(QueuedThreadPool.java:608)\n        org.eclipse.jetty.util.thread.QueuedThreadPool$3.run(QueuedThreadPool.java:543)\n        java.lang.Thread.run(Unknown Source)\n    parameters = {u'min_split_improvement': 1e-05, u'fold_column': None, u'response_column': {u'is_member_of_frames': None, u'column_name': u'query', u'__meta': {u'schema_name': u'ColSpecifierV3', u'schema_version': 3, u'schema_type': u'VecSpecifier'}}, u'stopping_metric': u'AUTO', u'parallelize_cross_validation': True, u'score_tree_interval': 0, u'sample_rate_per_class': None, u'seed': 1, u'weights_column': None, u'pred_noise_bandwidth': 0.0, u'stopping_rounds': 0, u'nfolds': 0, u'max_confusion_matrix_size': 20, u'offset_column': None, u'categorical_encoding': u'AUTO', u'checkpoint': None, u'stopping_tolerance': 0.001, u'huber_alpha': 0.9, u'col_sample_rate_per_tree': 1.0, u'max_runtime_secs': 0.0, u'max_abs_leafnode_pred': 1.7976931348623157e+308, u'quantile_alpha': 0.5, u'balance_classes': False, u'learn_rate_annealing': 1.0, u'sample_rate': 1.0, u'validation_frame': {u'URL': u'/3/Frames/py_11_sid_9cf2', u'type': u'Key<Frame>', u'name': u'py_11_sid_9cf2', u'__meta': {u'schema_name': u'FrameKeyV3', u'schema_version': 3, u'schema_type': u'Key<Frame>'}}, u'max_depth': 5, u'model_id': None, u'build_tree_one_node': False, u'ntrees': 50, u'ignored_columns': [u'query_type', u'answers_yn'], u'tweedie_power': 1.5, u'min_rows': 10.0, u'score_each_iteration': False, u'max_after_balance_size': 5.0, u'col_sample_rate_change_per_level': 1.0, u'learn_rate': 0.1, u'nbins': 20, u'histogram_type': u'AUTO', u'training_frame': {u'URL': u'/3/Frames/py_10_sid_9cf2', u'type': u'Key<Frame>', u'name': u'py_10_sid_9cf2', u'__meta': {u'schema_name': u'FrameKeyV3', u'schema_version': 3, u'schema_type': u'Key<Frame>'}}, u'col_sample_rate': 1.0, u'fold_assignment': u'AUTO', u'keep_cross_validation_predictions': False, u'__meta': {u'schema_name': u'GBMParametersV3', u'schema_version': 3, u'schema_type': u'GBMParameters'}, u'nbins_top_level': 1024, u'max_hit_ratio_k': 0, u'nbins_cats': 1024, u'r2_stopping': 1.7976931348623157e+308, u'distribution': u'AUTO', u'class_sampling_factors': None, u'ignore_const_cols': True, u'keep_cross_validation_fold_assignment': False}\n    exception_msg = u'Illegal argument(s) for GBM model: GBM_model_python_1484116059452_439.  Details: ERRR on field: _nclass: Too many levels in response column: 5882, maximum supported number of classes is 1000.'\n    timestamp = 1484137483319L\n    messages = [{u'field_name': u'keep_cross_validation_predictions', u'message': u'Only for cross-validation.', u'message_type': u'TRACE', u'__meta': {u'schema_name': u'ValidationMessageV3', u'schema_version': 3, u'schema_type': u'ValidationMessage'}}, {u'field_name': u'keep_cross_validation_fold_assignment', u'message': u'Only for cross-validation.', u'message_type': u'TRACE', u'__meta': {u'schema_name': u'ValidationMessageV3', u'schema_version': 3, u'schema_type': u'ValidationMessage'}}, {u'field_name': u'fold_assignment', u'message': u'Only for cross-validation.', u'message_type': u'TRACE', u'__meta': {u'schema_name': u'ValidationMessageV3', u'schema_version': 3, u'schema_type': u'ValidationMessage'}}, {u'field_name': u'tweedie_power', u'message': u'Only for Tweedie Distribution.', u'message_type': u'TRACE', u'__meta': {u'schema_name': u'ValidationMessageV3', u'schema_version': 3, u'schema_type': u'ValidationMessage'}}, {u'field_name': u'tweedie_power', u'message': u'Tweedie power is only used for Tweedie distribution.', u'message_type': u'TRACE', u'__meta': {u'schema_name': u'ValidationMessageV3', u'schema_version': 3, u'schema_type': u'ValidationMessage'}}, {u'field_name': u'quantile_alpha', u'message': u'Quantile (alpha) is only used for Quantile regression.', u'message_type': u'TRACE', u'__meta': {u'schema_name': u'ValidationMessageV3', u'schema_version': 3, u'schema_type': u'ValidationMessage'}}, {u'field_name': u'max_after_balance_size', u'message': u'Balance classes is false, hide max_after_balance_size', u'message_type': u'TRACE', u'__meta': {u'schema_name': u'ValidationMessageV3', u'schema_version': 3, u'schema_type': u'ValidationMessage'}}, {u'field_name': u'max_after_balance_size', u'message': u'Only used with balanced classes', u'message_type': u'TRACE', u'__meta': {u'schema_name': u'ValidationMessageV3', u'schema_version': 3, u'schema_type': u'ValidationMessage'}}, {u'field_name': u'class_sampling_factors', u'message': u'Class sampling factors is only applicable if balancing classes.', u'message_type': u'TRACE', u'__meta': {u'schema_name': u'ValidationMessageV3', u'schema_version': 3, u'schema_type': u'ValidationMessage'}}, {u'field_name': u'nclass', u'message': u'Too many levels in response column: 5882, maximum supported number of classes is 1000.', u'message_type': u'ERRR', u'__meta': {u'schema_name': u'ValidationMessageV3', u'schema_version': 3, u'schema_type': u'ValidationMessage'}}]\n    error_url = u'/3/ModelBuilders/gbm'\n    values = {u'messages': [{u'_log_level': 5, u'_message': u'Only for cross-validation.', u'_field_name': u'_keep_cross_validation_predictions'}, {u'_log_level': 5, u'_message': u'Only for cross-validation.', u'_field_name': u'_keep_cross_validation_fold_assignment'}, {u'_log_level': 5, u'_message': u'Only for cross-validation.', u'_field_name': u'_fold_assignment'}, {u'_log_level': 5, u'_message': u'Only for Tweedie Distribution.', u'_field_name': u'_tweedie_power'}, {u'_log_level': 5, u'_message': u'Tweedie power is only used for Tweedie distribution.', u'_field_name': u'_tweedie_power'}, {u'_log_level': 5, u'_message': u'Quantile (alpha) is only used for Quantile regression.', u'_field_name': u'_quantile_alpha'}, {u'_log_level': 5, u'_message': u'Balance classes is false, hide max_after_balance_size', u'_field_name': u'_max_after_balance_size'}, {u'_log_level': 5, u'_message': u'Only used with balanced classes', u'_field_name': u'_max_after_balance_size'}, {u'_log_level': 5, u'_message': u'Class sampling factors is only applicable if balancing classes.', u'_field_name': u'_class_sampling_factors'}, {u'_log_level': 1, u'_message': u'Too many levels in response column: 5882, maximum supported number of classes is 1000.', u'_field_name': u'_nclass'}], u'algo': u'GBM', u'parameters': {u'_nbins': 20, u'_fold_assignment': u'AUTO', u'_min_split_improvement': 1e-05, u'_nbins_cats': 1024, u'_initial_score_interval': 4000, u'_build_tree_one_node': False, u'_class_sampling_factors': None, u'_max_confusion_matrix_size': 20, u'_sample_rate': 1.0, u'_response_column': u'query', u'_score_each_iteration': False, u'_pred_noise_bandwidth': 0.0, u'_stopping_tolerance': 0.001, u'_learn_rate': 0.1, u'_distribution': u'AUTO', u'_stopping_metric': u'AUTO', u'_learn_rate_annealing': 1.0, u'_r2_stopping': 1.7976931348623157e+308, u'_quantile_alpha': 0.5, u'_max_abs_leafnode_pred': 1.7976931348623157e+308, u'_huber_alpha': 0.9, u'_max_after_balance_size': 5.0, u'_parallelize_cross_validation': True, u'_train': {u'type': u'Key', u'name': u'py_10_sid_9cf2'}, u'_pretrained_autoencoder': None, u'_score_tree_interval': 0, u'_valid': {u'type': u'Key', u'name': u'py_11_sid_9cf2'}, u'_checkpoint': None, u'_sample_rate_per_class': None, u'_nfolds': 0, u'_is_cv_model': False, u'_col_sample_rate_per_tree': 1.0, u'_ntrees': 50, u'_offset_column': None, u'_seed': 1, u'_ignore_const_cols': True, u'_col_sample_rate_change_per_level': 1.0, u'_auto_rebalance': True, u'_min_rows': 10.0, u'_balance_classes': False, u'_stopping_rounds': 0, u'_nbins_top_level': 1024, u'_fold_column': None, u'_keep_cross_validation_predictions': False, u'_categorical_encoding': u'AUTO', u'_col_sample_rate': 1.0, u'_tweedie_power': 1.5, u'_weights_column': None, u'_score_interval': 4000, u'_histogram_type': u'AUTO', u'_max_runtime_secs': 0.0, u'_max_depth': 5, u'_keep_cross_validation_fold_assignment': False, u'_ignored_columns': [u'query_type', u'answers_yn']}, u'error_count': 1}\n    error_count = 1\n    http_status = 412\n    msg = u'Illegal argument(s) for GBM model: GBM_model_python_1484116059452_439.  Details: ERRR on field: _nclass: Too many levels in response column: 5882, maximum supported number of classes is 1000.'\n    dev_msg = u'Illegal argument(s) for GBM model: GBM_model_python_1484116059452_439.  Details: ERRR on field: _nclass: Too many levels in response column: 5882, maximum supported number of classes is 1000.'\n",
     "output_type": "error",
     "traceback": [
      "\u001b[1;31m---------------------------------------------------------------------------\u001b[0m",
      "\u001b[1;31mH2OResponseError\u001b[0m                          Traceback (most recent call last)",
      "\u001b[1;32m<ipython-input-28-9fe432f15967>\u001b[0m in \u001b[0;36m<module>\u001b[1;34m()\u001b[0m\n\u001b[0;32m      1\u001b[0m \u001b[0mgbm_model\u001b[0m \u001b[1;33m=\u001b[0m \u001b[0mH2OGradientBoostingEstimator\u001b[0m\u001b[1;33m(\u001b[0m\u001b[0mseed\u001b[0m \u001b[1;33m=\u001b[0m\u001b[1;36m1\u001b[0m\u001b[1;33m)\u001b[0m\u001b[1;33m\u001b[0m\u001b[0m\n\u001b[1;32m----> 2\u001b[1;33m \u001b[0mgbm_model\u001b[0m\u001b[1;33m.\u001b[0m\u001b[0mtrain\u001b[0m\u001b[1;33m(\u001b[0m\u001b[0mx\u001b[0m \u001b[1;33m=\u001b[0m \u001b[0mhdf\u001b[0m\u001b[1;33m.\u001b[0m\u001b[0mcol_names\u001b[0m\u001b[1;33m[\u001b[0m\u001b[1;36m0\u001b[0m\u001b[1;33m]\u001b[0m\u001b[1;33m,\u001b[0m \u001b[0my\u001b[0m \u001b[1;33m=\u001b[0m \u001b[0mhdf\u001b[0m\u001b[1;33m.\u001b[0m\u001b[0mcol_names\u001b[0m\u001b[1;33m[\u001b[0m\u001b[1;36m1\u001b[0m\u001b[1;33m]\u001b[0m\u001b[1;33m,\u001b[0m \u001b[0mtraining_frame\u001b[0m\u001b[1;33m=\u001b[0m\u001b[0mhdf_train\u001b[0m\u001b[1;33m,\u001b[0m \u001b[0mvalidation_frame\u001b[0m\u001b[1;33m=\u001b[0m\u001b[0mhdf_validate\u001b[0m\u001b[1;33m)\u001b[0m\u001b[1;33m\u001b[0m\u001b[0m\n\u001b[0m",
      "\u001b[1;32mD:\\DATO\\Anaconda2\\envs\\gl-env\\lib\\site-packages\\h2o\\estimators\\estimator_base.pyc\u001b[0m in \u001b[0;36mtrain\u001b[1;34m(self, x, y, training_frame, offset_column, fold_column, weights_column, validation_frame, max_runtime_secs, ignored_columns, **ignored)\u001b[0m\n\u001b[0;32m    194\u001b[0m         \u001b[0mparms\u001b[0m\u001b[1;33m[\u001b[0m\u001b[1;34m\"weights_column\"\u001b[0m\u001b[1;33m]\u001b[0m \u001b[1;33m=\u001b[0m \u001b[0mweights_column\u001b[0m\u001b[1;33m\u001b[0m\u001b[0m\n\u001b[0;32m    195\u001b[0m         \u001b[0mparms\u001b[0m\u001b[1;33m[\u001b[0m\u001b[1;34m\"max_runtime_secs\"\u001b[0m\u001b[1;33m]\u001b[0m \u001b[1;33m=\u001b[0m \u001b[0mmax_runtime_secs\u001b[0m\u001b[1;33m\u001b[0m\u001b[0m\n\u001b[1;32m--> 196\u001b[1;33m         \u001b[0mself\u001b[0m\u001b[1;33m.\u001b[0m\u001b[0m_build_model\u001b[0m\u001b[1;33m(\u001b[0m\u001b[0mparms\u001b[0m\u001b[1;33m)\u001b[0m\u001b[1;33m\u001b[0m\u001b[0m\n\u001b[0m\u001b[0;32m    197\u001b[0m \u001b[1;33m\u001b[0m\u001b[0m\n\u001b[0;32m    198\u001b[0m     \u001b[1;32mdef\u001b[0m \u001b[0m_build_model\u001b[0m\u001b[1;33m(\u001b[0m\u001b[0mself\u001b[0m\u001b[1;33m,\u001b[0m \u001b[0malgo_params\u001b[0m\u001b[1;33m)\u001b[0m\u001b[1;33m:\u001b[0m\u001b[1;33m\u001b[0m\u001b[0m\n",
      "\u001b[1;32mD:\\DATO\\Anaconda2\\envs\\gl-env\\lib\\site-packages\\h2o\\estimators\\estimator_base.pyc\u001b[0m in \u001b[0;36m_build_model\u001b[1;34m(self, algo_params)\u001b[0m\n\u001b[0;32m    207\u001b[0m         \u001b[1;32mif\u001b[0m \u001b[0mis_auto_encoder\u001b[0m \u001b[1;32mand\u001b[0m \u001b[0my\u001b[0m \u001b[1;32mis\u001b[0m \u001b[1;32mnot\u001b[0m \u001b[0mNone\u001b[0m\u001b[1;33m:\u001b[0m \u001b[1;32mraise\u001b[0m \u001b[0mValueError\u001b[0m\u001b[1;33m(\u001b[0m\u001b[1;34m\"y should not be specified for autoencoder.\"\u001b[0m\u001b[1;33m)\u001b[0m\u001b[1;33m\u001b[0m\u001b[0m\n\u001b[0;32m    208\u001b[0m         \u001b[1;32mif\u001b[0m \u001b[1;32mnot\u001b[0m \u001b[0mis_unsupervised\u001b[0m \u001b[1;32mand\u001b[0m \u001b[0my\u001b[0m \u001b[1;32mis\u001b[0m \u001b[0mNone\u001b[0m\u001b[1;33m:\u001b[0m \u001b[1;32mraise\u001b[0m \u001b[0mValueError\u001b[0m\u001b[1;33m(\u001b[0m\u001b[1;34m\"Missing response\"\u001b[0m\u001b[1;33m)\u001b[0m\u001b[1;33m\u001b[0m\u001b[0m\n\u001b[1;32m--> 209\u001b[1;33m         \u001b[0mself\u001b[0m\u001b[1;33m.\u001b[0m\u001b[0m_model_build\u001b[0m\u001b[1;33m(\u001b[0m\u001b[0mx\u001b[0m\u001b[1;33m,\u001b[0m \u001b[0my\u001b[0m\u001b[1;33m,\u001b[0m \u001b[0mtraining_frame\u001b[0m\u001b[1;33m,\u001b[0m \u001b[0mvalidation_frame\u001b[0m\u001b[1;33m,\u001b[0m \u001b[0malgo_params\u001b[0m\u001b[1;33m)\u001b[0m\u001b[1;33m\u001b[0m\u001b[0m\n\u001b[0m\u001b[0;32m    210\u001b[0m \u001b[1;33m\u001b[0m\u001b[0m\n\u001b[0;32m    211\u001b[0m     \u001b[1;32mdef\u001b[0m \u001b[0m_model_build\u001b[0m\u001b[1;33m(\u001b[0m\u001b[0mself\u001b[0m\u001b[1;33m,\u001b[0m \u001b[0mx\u001b[0m\u001b[1;33m,\u001b[0m \u001b[0my\u001b[0m\u001b[1;33m,\u001b[0m \u001b[0mtframe\u001b[0m\u001b[1;33m,\u001b[0m \u001b[0mvframe\u001b[0m\u001b[1;33m,\u001b[0m \u001b[0mkwargs\u001b[0m\u001b[1;33m)\u001b[0m\u001b[1;33m:\u001b[0m\u001b[1;33m\u001b[0m\u001b[0m\n",
      "\u001b[1;32mD:\\DATO\\Anaconda2\\envs\\gl-env\\lib\\site-packages\\h2o\\estimators\\estimator_base.pyc\u001b[0m in \u001b[0;36m_model_build\u001b[1;34m(self, x, y, tframe, vframe, kwargs)\u001b[0m\n\u001b[0;32m    227\u001b[0m         \u001b[0mrest_ver\u001b[0m \u001b[1;33m=\u001b[0m \u001b[0mkwargs\u001b[0m\u001b[1;33m.\u001b[0m\u001b[0mpop\u001b[0m\u001b[1;33m(\u001b[0m\u001b[1;34m\"_rest_version\"\u001b[0m\u001b[1;33m)\u001b[0m \u001b[1;32mif\u001b[0m \u001b[1;34m\"_rest_version\"\u001b[0m \u001b[1;32min\u001b[0m \u001b[0mkwargs\u001b[0m \u001b[1;32melse\u001b[0m \u001b[1;36m3\u001b[0m\u001b[1;33m\u001b[0m\u001b[0m\n\u001b[0;32m    228\u001b[0m \u001b[1;33m\u001b[0m\u001b[0m\n\u001b[1;32m--> 229\u001b[1;33m         model = H2OJob(h2o.api(\"POST /%d/ModelBuilders/%s\" % (rest_ver, self.algo), data=kwargs),\n\u001b[0m\u001b[0;32m    230\u001b[0m                        job_type=(self.algo + \" Model Build\"))\n\u001b[0;32m    231\u001b[0m \u001b[1;33m\u001b[0m\u001b[0m\n",
      "\u001b[1;32mD:\\DATO\\Anaconda2\\envs\\gl-env\\lib\\site-packages\\h2o\\h2o.pyc\u001b[0m in \u001b[0;36mapi\u001b[1;34m(endpoint, data, json, filename, save_to)\u001b[0m\n\u001b[0;32m     82\u001b[0m     \u001b[1;31m# type checks are performed in H2OConnection class\u001b[0m\u001b[1;33m\u001b[0m\u001b[1;33m\u001b[0m\u001b[0m\n\u001b[0;32m     83\u001b[0m     \u001b[0m_check_connection\u001b[0m\u001b[1;33m(\u001b[0m\u001b[1;33m)\u001b[0m\u001b[1;33m\u001b[0m\u001b[0m\n\u001b[1;32m---> 84\u001b[1;33m     \u001b[1;32mreturn\u001b[0m \u001b[0mh2oconn\u001b[0m\u001b[1;33m.\u001b[0m\u001b[0mrequest\u001b[0m\u001b[1;33m(\u001b[0m\u001b[0mendpoint\u001b[0m\u001b[1;33m,\u001b[0m \u001b[0mdata\u001b[0m\u001b[1;33m=\u001b[0m\u001b[0mdata\u001b[0m\u001b[1;33m,\u001b[0m \u001b[0mjson\u001b[0m\u001b[1;33m=\u001b[0m\u001b[0mjson\u001b[0m\u001b[1;33m,\u001b[0m \u001b[0mfilename\u001b[0m\u001b[1;33m=\u001b[0m\u001b[0mfilename\u001b[0m\u001b[1;33m,\u001b[0m \u001b[0msave_to\u001b[0m\u001b[1;33m=\u001b[0m\u001b[0msave_to\u001b[0m\u001b[1;33m)\u001b[0m\u001b[1;33m\u001b[0m\u001b[0m\n\u001b[0m\u001b[0;32m     85\u001b[0m \u001b[1;33m\u001b[0m\u001b[0m\n\u001b[0;32m     86\u001b[0m \u001b[1;33m\u001b[0m\u001b[0m\n",
      "\u001b[1;32mD:\\DATO\\Anaconda2\\envs\\gl-env\\lib\\site-packages\\h2o\\backend\\connection.pyc\u001b[0m in \u001b[0;36mrequest\u001b[1;34m(self, endpoint, data, json, filename, save_to)\u001b[0m\n\u001b[0;32m    257\u001b[0m                                     auth=self._auth, verify=self._verify_ssl_cert, proxies=self._proxies)\n\u001b[0;32m    258\u001b[0m             \u001b[0mself\u001b[0m\u001b[1;33m.\u001b[0m\u001b[0m_log_end_transaction\u001b[0m\u001b[1;33m(\u001b[0m\u001b[0mstart_time\u001b[0m\u001b[1;33m,\u001b[0m \u001b[0mresp\u001b[0m\u001b[1;33m)\u001b[0m\u001b[1;33m\u001b[0m\u001b[0m\n\u001b[1;32m--> 259\u001b[1;33m             \u001b[1;32mreturn\u001b[0m \u001b[0mself\u001b[0m\u001b[1;33m.\u001b[0m\u001b[0m_process_response\u001b[0m\u001b[1;33m(\u001b[0m\u001b[0mresp\u001b[0m\u001b[1;33m,\u001b[0m \u001b[0msave_to\u001b[0m\u001b[1;33m)\u001b[0m\u001b[1;33m\u001b[0m\u001b[0m\n\u001b[0m\u001b[0;32m    260\u001b[0m \u001b[1;33m\u001b[0m\u001b[0m\n\u001b[0;32m    261\u001b[0m         \u001b[1;32mexcept\u001b[0m \u001b[1;33m(\u001b[0m\u001b[0mrequests\u001b[0m\u001b[1;33m.\u001b[0m\u001b[0mexceptions\u001b[0m\u001b[1;33m.\u001b[0m\u001b[0mConnectionError\u001b[0m\u001b[1;33m,\u001b[0m \u001b[0mrequests\u001b[0m\u001b[1;33m.\u001b[0m\u001b[0mexceptions\u001b[0m\u001b[1;33m.\u001b[0m\u001b[0mHTTPError\u001b[0m\u001b[1;33m)\u001b[0m \u001b[1;32mas\u001b[0m \u001b[0me\u001b[0m\u001b[1;33m:\u001b[0m\u001b[1;33m\u001b[0m\u001b[0m\n",
      "\u001b[1;32mD:\\DATO\\Anaconda2\\envs\\gl-env\\lib\\site-packages\\h2o\\backend\\connection.pyc\u001b[0m in \u001b[0;36m_process_response\u001b[1;34m(response, save_to)\u001b[0m\n\u001b[0;32m    584\u001b[0m         \u001b[1;31m# Client errors (400 = \"Bad Request\", 404 = \"Not Found\", 412 = \"Precondition Failed\")\u001b[0m\u001b[1;33m\u001b[0m\u001b[1;33m\u001b[0m\u001b[0m\n\u001b[0;32m    585\u001b[0m         \u001b[1;32mif\u001b[0m \u001b[0mstatus_code\u001b[0m \u001b[1;32min\u001b[0m \u001b[1;33m{\u001b[0m\u001b[1;36m400\u001b[0m\u001b[1;33m,\u001b[0m \u001b[1;36m404\u001b[0m\u001b[1;33m,\u001b[0m \u001b[1;36m412\u001b[0m\u001b[1;33m}\u001b[0m \u001b[1;32mand\u001b[0m \u001b[0misinstance\u001b[0m\u001b[1;33m(\u001b[0m\u001b[0mdata\u001b[0m\u001b[1;33m,\u001b[0m \u001b[1;33m(\u001b[0m\u001b[0mH2OErrorV3\u001b[0m\u001b[1;33m,\u001b[0m \u001b[0mH2OModelBuilderErrorV3\u001b[0m\u001b[1;33m)\u001b[0m\u001b[1;33m)\u001b[0m\u001b[1;33m:\u001b[0m\u001b[1;33m\u001b[0m\u001b[0m\n\u001b[1;32m--> 586\u001b[1;33m             \u001b[1;32mraise\u001b[0m \u001b[0mH2OResponseError\u001b[0m\u001b[1;33m(\u001b[0m\u001b[0mdata\u001b[0m\u001b[1;33m)\u001b[0m\u001b[1;33m\u001b[0m\u001b[0m\n\u001b[0m\u001b[0;32m    587\u001b[0m \u001b[1;33m\u001b[0m\u001b[0m\n\u001b[0;32m    588\u001b[0m         \u001b[1;31m# Server errors (notably 500 = \"Server Error\")\u001b[0m\u001b[1;33m\u001b[0m\u001b[1;33m\u001b[0m\u001b[0m\n",
      "\u001b[1;31mH2OResponseError\u001b[0m: ModelBuilderErrorV3  (water.exceptions.H2OModelBuilderIllegalArgumentException):\n    stacktrace =\n        water.exceptions.H2OModelBuilderIllegalArgumentException: Illegal argument(s) for GBM model: GBM_model_python_1484116059452_439.  Details: ERRR on field: _nclass: Too many levels in response column: 5882, maximum supported number of classes is 1000.\n        water.exceptions.H2OModelBuilderIllegalArgumentException.makeFromBuilder(H2OModelBuilderIllegalArgumentException.java:20)\n        hex.ModelBuilder.trainModel(ModelBuilder.java:194)\n        water.api.ModelBuilderHandler.handle(ModelBuilderHandler.java:52)\n        water.api.ModelBuilderHandler.handle(ModelBuilderHandler.java:16)\n        water.api.RequestServer.serve(RequestServer.java:411)\n        water.api.RequestServer.doGeneric(RequestServer.java:262)\n        water.api.RequestServer.doPost(RequestServer.java:199)\n        javax.servlet.http.HttpServlet.service(HttpServlet.java:755)\n        javax.servlet.http.HttpServlet.service(HttpServlet.java:848)\n        org.eclipse.jetty.servlet.ServletHolder.handle(ServletHolder.java:684)\n        org.eclipse.jetty.servlet.ServletHandler.doHandle(ServletHandler.java:503)\n        org.eclipse.jetty.server.handler.ScopedHandler.handle(ScopedHandler.java:137)\n        org.eclipse.jetty.security.SecurityHandler.handle(SecurityHandler.java:557)\n        org.eclipse.jetty.server.session.SessionHandler.doHandle(SessionHandler.java:231)\n        org.eclipse.jetty.server.handler.ContextHandler.doHandle(ContextHandler.java:1086)\n        org.eclipse.jetty.servlet.ServletHandler.doScope(ServletHandler.java:429)\n        org.eclipse.jetty.server.session.SessionHandler.doScope(SessionHandler.java:193)\n        org.eclipse.jetty.server.handler.ContextHandler.doScope(ContextHandler.java:1020)\n        org.eclipse.jetty.server.handler.ScopedHandler.handle(ScopedHandler.java:135)\n        org.eclipse.jetty.server.handler.HandlerCollection.handle(HandlerCollection.java:154)\n        org.eclipse.jetty.server.handler.HandlerWrapper.handle(HandlerWrapper.java:116)\n        org.eclipse.jetty.server.Server.handle(Server.java:370)\n        org.eclipse.jetty.server.AbstractHttpConnection.handleRequest(AbstractHttpConnection.java:494)\n        org.eclipse.jetty.server.BlockingHttpConnection.handleRequest(BlockingHttpConnection.java:53)\n        org.eclipse.jetty.server.AbstractHttpConnection.content(AbstractHttpConnection.java:982)\n        org.eclipse.jetty.server.AbstractHttpConnection$RequestHandler.content(AbstractHttpConnection.java:1043)\n        org.eclipse.jetty.http.HttpParser.parseNext(HttpParser.java:865)\n        org.eclipse.jetty.http.HttpParser.parseAvailable(HttpParser.java:240)\n        org.eclipse.jetty.server.BlockingHttpConnection.handle(BlockingHttpConnection.java:72)\n        org.eclipse.jetty.server.bio.SocketConnector$ConnectorEndPoint.run(SocketConnector.java:264)\n        org.eclipse.jetty.util.thread.QueuedThreadPool.runJob(QueuedThreadPool.java:608)\n        org.eclipse.jetty.util.thread.QueuedThreadPool$3.run(QueuedThreadPool.java:543)\n        java.lang.Thread.run(Unknown Source)\n    parameters = {u'min_split_improvement': 1e-05, u'fold_column': None, u'response_column': {u'is_member_of_frames': None, u'column_name': u'query', u'__meta': {u'schema_name': u'ColSpecifierV3', u'schema_version': 3, u'schema_type': u'VecSpecifier'}}, u'stopping_metric': u'AUTO', u'parallelize_cross_validation': True, u'score_tree_interval': 0, u'sample_rate_per_class': None, u'seed': 1, u'weights_column': None, u'pred_noise_bandwidth': 0.0, u'stopping_rounds': 0, u'nfolds': 0, u'max_confusion_matrix_size': 20, u'offset_column': None, u'categorical_encoding': u'AUTO', u'checkpoint': None, u'stopping_tolerance': 0.001, u'huber_alpha': 0.9, u'col_sample_rate_per_tree': 1.0, u'max_runtime_secs': 0.0, u'max_abs_leafnode_pred': 1.7976931348623157e+308, u'quantile_alpha': 0.5, u'balance_classes': False, u'learn_rate_annealing': 1.0, u'sample_rate': 1.0, u'validation_frame': {u'URL': u'/3/Frames/py_11_sid_9cf2', u'type': u'Key<Frame>', u'name': u'py_11_sid_9cf2', u'__meta': {u'schema_name': u'FrameKeyV3', u'schema_version': 3, u'schema_type': u'Key<Frame>'}}, u'max_depth': 5, u'model_id': None, u'build_tree_one_node': False, u'ntrees': 50, u'ignored_columns': [u'query_type', u'answers_yn'], u'tweedie_power': 1.5, u'min_rows': 10.0, u'score_each_iteration': False, u'max_after_balance_size': 5.0, u'col_sample_rate_change_per_level': 1.0, u'learn_rate': 0.1, u'nbins': 20, u'histogram_type': u'AUTO', u'training_frame': {u'URL': u'/3/Frames/py_10_sid_9cf2', u'type': u'Key<Frame>', u'name': u'py_10_sid_9cf2', u'__meta': {u'schema_name': u'FrameKeyV3', u'schema_version': 3, u'schema_type': u'Key<Frame>'}}, u'col_sample_rate': 1.0, u'fold_assignment': u'AUTO', u'keep_cross_validation_predictions': False, u'__meta': {u'schema_name': u'GBMParametersV3', u'schema_version': 3, u'schema_type': u'GBMParameters'}, u'nbins_top_level': 1024, u'max_hit_ratio_k': 0, u'nbins_cats': 1024, u'r2_stopping': 1.7976931348623157e+308, u'distribution': u'AUTO', u'class_sampling_factors': None, u'ignore_const_cols': True, u'keep_cross_validation_fold_assignment': False}\n    exception_msg = u'Illegal argument(s) for GBM model: GBM_model_python_1484116059452_439.  Details: ERRR on field: _nclass: Too many levels in response column: 5882, maximum supported number of classes is 1000.'\n    timestamp = 1484137483319L\n    messages = [{u'field_name': u'keep_cross_validation_predictions', u'message': u'Only for cross-validation.', u'message_type': u'TRACE', u'__meta': {u'schema_name': u'ValidationMessageV3', u'schema_version': 3, u'schema_type': u'ValidationMessage'}}, {u'field_name': u'keep_cross_validation_fold_assignment', u'message': u'Only for cross-validation.', u'message_type': u'TRACE', u'__meta': {u'schema_name': u'ValidationMessageV3', u'schema_version': 3, u'schema_type': u'ValidationMessage'}}, {u'field_name': u'fold_assignment', u'message': u'Only for cross-validation.', u'message_type': u'TRACE', u'__meta': {u'schema_name': u'ValidationMessageV3', u'schema_version': 3, u'schema_type': u'ValidationMessage'}}, {u'field_name': u'tweedie_power', u'message': u'Only for Tweedie Distribution.', u'message_type': u'TRACE', u'__meta': {u'schema_name': u'ValidationMessageV3', u'schema_version': 3, u'schema_type': u'ValidationMessage'}}, {u'field_name': u'tweedie_power', u'message': u'Tweedie power is only used for Tweedie distribution.', u'message_type': u'TRACE', u'__meta': {u'schema_name': u'ValidationMessageV3', u'schema_version': 3, u'schema_type': u'ValidationMessage'}}, {u'field_name': u'quantile_alpha', u'message': u'Quantile (alpha) is only used for Quantile regression.', u'message_type': u'TRACE', u'__meta': {u'schema_name': u'ValidationMessageV3', u'schema_version': 3, u'schema_type': u'ValidationMessage'}}, {u'field_name': u'max_after_balance_size', u'message': u'Balance classes is false, hide max_after_balance_size', u'message_type': u'TRACE', u'__meta': {u'schema_name': u'ValidationMessageV3', u'schema_version': 3, u'schema_type': u'ValidationMessage'}}, {u'field_name': u'max_after_balance_size', u'message': u'Only used with balanced classes', u'message_type': u'TRACE', u'__meta': {u'schema_name': u'ValidationMessageV3', u'schema_version': 3, u'schema_type': u'ValidationMessage'}}, {u'field_name': u'class_sampling_factors', u'message': u'Class sampling factors is only applicable if balancing classes.', u'message_type': u'TRACE', u'__meta': {u'schema_name': u'ValidationMessageV3', u'schema_version': 3, u'schema_type': u'ValidationMessage'}}, {u'field_name': u'nclass', u'message': u'Too many levels in response column: 5882, maximum supported number of classes is 1000.', u'message_type': u'ERRR', u'__meta': {u'schema_name': u'ValidationMessageV3', u'schema_version': 3, u'schema_type': u'ValidationMessage'}}]\n    error_url = u'/3/ModelBuilders/gbm'\n    values = {u'messages': [{u'_log_level': 5, u'_message': u'Only for cross-validation.', u'_field_name': u'_keep_cross_validation_predictions'}, {u'_log_level': 5, u'_message': u'Only for cross-validation.', u'_field_name': u'_keep_cross_validation_fold_assignment'}, {u'_log_level': 5, u'_message': u'Only for cross-validation.', u'_field_name': u'_fold_assignment'}, {u'_log_level': 5, u'_message': u'Only for Tweedie Distribution.', u'_field_name': u'_tweedie_power'}, {u'_log_level': 5, u'_message': u'Tweedie power is only used for Tweedie distribution.', u'_field_name': u'_tweedie_power'}, {u'_log_level': 5, u'_message': u'Quantile (alpha) is only used for Quantile regression.', u'_field_name': u'_quantile_alpha'}, {u'_log_level': 5, u'_message': u'Balance classes is false, hide max_after_balance_size', u'_field_name': u'_max_after_balance_size'}, {u'_log_level': 5, u'_message': u'Only used with balanced classes', u'_field_name': u'_max_after_balance_size'}, {u'_log_level': 5, u'_message': u'Class sampling factors is only applicable if balancing classes.', u'_field_name': u'_class_sampling_factors'}, {u'_log_level': 1, u'_message': u'Too many levels in response column: 5882, maximum supported number of classes is 1000.', u'_field_name': u'_nclass'}], u'algo': u'GBM', u'parameters': {u'_nbins': 20, u'_fold_assignment': u'AUTO', u'_min_split_improvement': 1e-05, u'_nbins_cats': 1024, u'_initial_score_interval': 4000, u'_build_tree_one_node': False, u'_class_sampling_factors': None, u'_max_confusion_matrix_size': 20, u'_sample_rate': 1.0, u'_response_column': u'query', u'_score_each_iteration': False, u'_pred_noise_bandwidth': 0.0, u'_stopping_tolerance': 0.001, u'_learn_rate': 0.1, u'_distribution': u'AUTO', u'_stopping_metric': u'AUTO', u'_learn_rate_annealing': 1.0, u'_r2_stopping': 1.7976931348623157e+308, u'_quantile_alpha': 0.5, u'_max_abs_leafnode_pred': 1.7976931348623157e+308, u'_huber_alpha': 0.9, u'_max_after_balance_size': 5.0, u'_parallelize_cross_validation': True, u'_train': {u'type': u'Key', u'name': u'py_10_sid_9cf2'}, u'_pretrained_autoencoder': None, u'_score_tree_interval': 0, u'_valid': {u'type': u'Key', u'name': u'py_11_sid_9cf2'}, u'_checkpoint': None, u'_sample_rate_per_class': None, u'_nfolds': 0, u'_is_cv_model': False, u'_col_sample_rate_per_tree': 1.0, u'_ntrees': 50, u'_offset_column': None, u'_seed': 1, u'_ignore_const_cols': True, u'_col_sample_rate_change_per_level': 1.0, u'_auto_rebalance': True, u'_min_rows': 10.0, u'_balance_classes': False, u'_stopping_rounds': 0, u'_nbins_top_level': 1024, u'_fold_column': None, u'_keep_cross_validation_predictions': False, u'_categorical_encoding': u'AUTO', u'_col_sample_rate': 1.0, u'_tweedie_power': 1.5, u'_weights_column': None, u'_score_interval': 4000, u'_histogram_type': u'AUTO', u'_max_runtime_secs': 0.0, u'_max_depth': 5, u'_keep_cross_validation_fold_assignment': False, u'_ignored_columns': [u'query_type', u'answers_yn']}, u'error_count': 1}\n    error_count = 1\n    http_status = 412\n    msg = u'Illegal argument(s) for GBM model: GBM_model_python_1484116059452_439.  Details: ERRR on field: _nclass: Too many levels in response column: 5882, maximum supported number of classes is 1000.'\n    dev_msg = u'Illegal argument(s) for GBM model: GBM_model_python_1484116059452_439.  Details: ERRR on field: _nclass: Too many levels in response column: 5882, maximum supported number of classes is 1000.'\n"
     ]
    }
   ],
   "source": [
    "gbm_model = H2OGradientBoostingEstimator(seed =1)\n",
    "gbm_model.train(x = hdf.col_names[0], y = hdf.col_names[1], training_frame=hdf_train, validation_frame=hdf_validate)"
   ]
  }
 ],
 "metadata": {
  "language_info": {
   "codemirror_mode": {
    "name": "ipython",
    "version": 2
   },
   "file_extension": ".py",
   "mimetype": "text/x-python",
   "name": "python",
   "nbconvert_exporter": "python",
   "pygments_lexer": "ipython2",
   "version": "2.7.11"
  }
 },
 "nbformat": 4,
 "nbformat_minor": 0
}
