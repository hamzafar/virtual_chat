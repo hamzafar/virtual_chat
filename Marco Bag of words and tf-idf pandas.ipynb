{
 "cells": [
  {
   "cell_type": "code",
   "execution_count": 3,
   "metadata": {
    "collapsed": false
   },
   "outputs": [],
   "source": [
    "import pandas as pd\n",
    "import numpy as np"
   ]
  },
  {
   "cell_type": "code",
   "execution_count": 4,
   "metadata": {
    "collapsed": false
   },
   "outputs": [],
   "source": [
    "tmp_df = pd.read_csv('D:/marco/vr_chat-master/Marco/train_yn.csv')"
   ]
  },
  {
   "cell_type": "code",
   "execution_count": 5,
   "metadata": {
    "collapsed": false
   },
   "outputs": [
    {
     "data": {
      "text/html": [
       "<div>\n",
       "<table border=\"1\" class=\"dataframe\">\n",
       "  <thead>\n",
       "    <tr style=\"text-align: right;\">\n",
       "      <th></th>\n",
       "      <th>passages</th>\n",
       "      <th>query</th>\n",
       "      <th>query_id</th>\n",
       "      <th>query_type</th>\n",
       "      <th>answers_yn</th>\n",
       "    </tr>\n",
       "  </thead>\n",
       "  <tbody>\n",
       "    <tr>\n",
       "      <th>0</th>\n",
       "      <td>[Row(is_selected=0, passage_text=u'In his youn...</td>\n",
       "      <td>was ronald reagan a democrat</td>\n",
       "      <td>19700</td>\n",
       "      <td>description</td>\n",
       "      <td>Yes</td>\n",
       "    </tr>\n",
       "    <tr>\n",
       "      <th>1</th>\n",
       "      <td>[Row(is_selected=0, passage_text=u'So, in the ...</td>\n",
       "      <td>do game shows pay their contestants</td>\n",
       "      <td>19749</td>\n",
       "      <td>description</td>\n",
       "      <td>Yes</td>\n",
       "    </tr>\n",
       "    <tr>\n",
       "      <th>2</th>\n",
       "      <td>[Row(is_selected=0, passage_text=u'Even though...</td>\n",
       "      <td>does peanut butter contain cholesterol</td>\n",
       "      <td>19761</td>\n",
       "      <td>description</td>\n",
       "      <td>No</td>\n",
       "    </tr>\n",
       "    <tr>\n",
       "      <th>3</th>\n",
       "      <td>[Row(is_selected=0, passage_text=u'When turnin...</td>\n",
       "      <td>can you take left hand lane to turn right on a...</td>\n",
       "      <td>19762</td>\n",
       "      <td>description</td>\n",
       "      <td>No</td>\n",
       "    </tr>\n",
       "    <tr>\n",
       "      <th>4</th>\n",
       "      <td>[Row(is_selected=0, passage_text=u'Assault on ...</td>\n",
       "      <td>is armed assault a felony</td>\n",
       "      <td>19774</td>\n",
       "      <td>description</td>\n",
       "      <td>Yes</td>\n",
       "    </tr>\n",
       "  </tbody>\n",
       "</table>\n",
       "</div>"
      ],
      "text/plain": [
       "                                            passages  \\\n",
       "0  [Row(is_selected=0, passage_text=u'In his youn...   \n",
       "1  [Row(is_selected=0, passage_text=u'So, in the ...   \n",
       "2  [Row(is_selected=0, passage_text=u'Even though...   \n",
       "3  [Row(is_selected=0, passage_text=u'When turnin...   \n",
       "4  [Row(is_selected=0, passage_text=u'Assault on ...   \n",
       "\n",
       "                                               query  query_id   query_type  \\\n",
       "0                       was ronald reagan a democrat     19700  description   \n",
       "1                do game shows pay their contestants     19749  description   \n",
       "2             does peanut butter contain cholesterol     19761  description   \n",
       "3  can you take left hand lane to turn right on a...     19762  description   \n",
       "4                          is armed assault a felony     19774  description   \n",
       "\n",
       "  answers_yn  \n",
       "0        Yes  \n",
       "1        Yes  \n",
       "2         No  \n",
       "3         No  \n",
       "4        Yes  "
      ]
     },
     "execution_count": 5,
     "metadata": {},
     "output_type": "execute_result"
    }
   ],
   "source": [
    "tmp_df.head()"
   ]
  },
  {
   "cell_type": "code",
   "execution_count": 6,
   "metadata": {
    "collapsed": false
   },
   "outputs": [],
   "source": [
    "del tmp_df['query_id']\n",
    "del tmp_df['passages']\n"
   ]
  },
  {
   "cell_type": "code",
   "execution_count": 7,
   "metadata": {
    "collapsed": true
   },
   "outputs": [],
   "source": [
    "df_train_sub = tmp_df"
   ]
  },
  {
   "cell_type": "code",
   "execution_count": 8,
   "metadata": {
    "collapsed": true
   },
   "outputs": [],
   "source": [
    "# del(tmp_df)\n",
    "# del(df_train)"
   ]
  },
  {
   "cell_type": "code",
   "execution_count": 9,
   "metadata": {
    "collapsed": false
   },
   "outputs": [
    {
     "data": {
      "text/html": [
       "<div>\n",
       "<table border=\"1\" class=\"dataframe\">\n",
       "  <thead>\n",
       "    <tr style=\"text-align: right;\">\n",
       "      <th></th>\n",
       "      <th>query</th>\n",
       "      <th>query_type</th>\n",
       "      <th>answers_yn</th>\n",
       "    </tr>\n",
       "  </thead>\n",
       "  <tbody>\n",
       "    <tr>\n",
       "      <th>0</th>\n",
       "      <td>was ronald reagan a democrat</td>\n",
       "      <td>description</td>\n",
       "      <td>Yes</td>\n",
       "    </tr>\n",
       "    <tr>\n",
       "      <th>1</th>\n",
       "      <td>do game shows pay their contestants</td>\n",
       "      <td>description</td>\n",
       "      <td>Yes</td>\n",
       "    </tr>\n",
       "    <tr>\n",
       "      <th>2</th>\n",
       "      <td>does peanut butter contain cholesterol</td>\n",
       "      <td>description</td>\n",
       "      <td>No</td>\n",
       "    </tr>\n",
       "    <tr>\n",
       "      <th>3</th>\n",
       "      <td>can you take left hand lane to turn right on a...</td>\n",
       "      <td>description</td>\n",
       "      <td>No</td>\n",
       "    </tr>\n",
       "    <tr>\n",
       "      <th>4</th>\n",
       "      <td>is armed assault a felony</td>\n",
       "      <td>description</td>\n",
       "      <td>Yes</td>\n",
       "    </tr>\n",
       "  </tbody>\n",
       "</table>\n",
       "</div>"
      ],
      "text/plain": [
       "                                               query   query_type answers_yn\n",
       "0                       was ronald reagan a democrat  description        Yes\n",
       "1                do game shows pay their contestants  description        Yes\n",
       "2             does peanut butter contain cholesterol  description         No\n",
       "3  can you take left hand lane to turn right on a...  description         No\n",
       "4                          is armed assault a felony  description        Yes"
      ]
     },
     "execution_count": 9,
     "metadata": {},
     "output_type": "execute_result"
    }
   ],
   "source": [
    "df_train_sub.head()"
   ]
  },
  {
   "cell_type": "code",
   "execution_count": 10,
   "metadata": {
    "collapsed": false
   },
   "outputs": [
    {
     "data": {
      "text/html": [
       "<div>\n",
       "<table border=\"1\" class=\"dataframe\">\n",
       "  <thead>\n",
       "    <tr style=\"text-align: right;\">\n",
       "      <th></th>\n",
       "      <th>query</th>\n",
       "      <th>query_type</th>\n",
       "      <th>answers_yn</th>\n",
       "    </tr>\n",
       "  </thead>\n",
       "  <tbody>\n",
       "    <tr>\n",
       "      <th>0</th>\n",
       "      <td>was ronald reagan a democrat</td>\n",
       "      <td>description</td>\n",
       "      <td>1</td>\n",
       "    </tr>\n",
       "    <tr>\n",
       "      <th>1</th>\n",
       "      <td>do game shows pay their contestants</td>\n",
       "      <td>description</td>\n",
       "      <td>1</td>\n",
       "    </tr>\n",
       "    <tr>\n",
       "      <th>2</th>\n",
       "      <td>does peanut butter contain cholesterol</td>\n",
       "      <td>description</td>\n",
       "      <td>0</td>\n",
       "    </tr>\n",
       "    <tr>\n",
       "      <th>3</th>\n",
       "      <td>can you take left hand lane to turn right on a...</td>\n",
       "      <td>description</td>\n",
       "      <td>0</td>\n",
       "    </tr>\n",
       "    <tr>\n",
       "      <th>4</th>\n",
       "      <td>is armed assault a felony</td>\n",
       "      <td>description</td>\n",
       "      <td>1</td>\n",
       "    </tr>\n",
       "  </tbody>\n",
       "</table>\n",
       "</div>"
      ],
      "text/plain": [
       "                                               query   query_type answers_yn\n",
       "0                       was ronald reagan a democrat  description          1\n",
       "1                do game shows pay their contestants  description          1\n",
       "2             does peanut butter contain cholesterol  description          0\n",
       "3  can you take left hand lane to turn right on a...  description          0\n",
       "4                          is armed assault a felony  description          1"
      ]
     },
     "execution_count": 10,
     "metadata": {},
     "output_type": "execute_result"
    }
   ],
   "source": [
    "# convert yes no to 1 o\n",
    "\n",
    "# df_train_sub=df_train_sub.na.replace(['yes', 'no'], ['Yes', 'No'], 'answers_yn')\n",
    "# df_train_sub=df_train_sub.na.replace(['Yes', 'No'], ['1', '0'], 'answers_yn')\n",
    "\n",
    "df_train_sub = df_train_sub.replace(['yes', 'no'], ['Yes', 'No'])\n",
    "df_train_sub = df_train_sub.replace(['Yes', 'No'], ['1', '0'])\n",
    "\n",
    "df_train_sub.head()"
   ]
  },
  {
   "cell_type": "code",
   "execution_count": 11,
   "metadata": {
    "collapsed": false
   },
   "outputs": [],
   "source": [
    "import nltk"
   ]
  },
  {
   "cell_type": "code",
   "execution_count": 12,
   "metadata": {
    "collapsed": false
   },
   "outputs": [],
   "source": [
    "# sentence = df_train_sub.select('query').limit(1).collect()\n",
    "\n",
    "sentence = df_train_sub.iloc[0,0]\n"
   ]
  },
  {
   "cell_type": "code",
   "execution_count": 13,
   "metadata": {
    "collapsed": false
   },
   "outputs": [
    {
     "name": "stdout",
     "output_type": "stream",
     "text": [
      "was ronald reagan a democrat\n",
      "['was', 'ronald', 'reagan', 'a', 'democrat']\n"
     ]
    }
   ],
   "source": [
    "print sentence\n",
    "token = nltk.word_tokenize(sentence)\n",
    "print token"
   ]
  },
  {
   "cell_type": "code",
   "execution_count": 14,
   "metadata": {
    "collapsed": false
   },
   "outputs": [
    {
     "data": {
      "text/plain": [
       "FreqDist({'a': 1, 'democrat': 1, 'reagan': 1, 'ronald': 1, 'was': 1})"
      ]
     },
     "execution_count": 14,
     "metadata": {},
     "output_type": "execute_result"
    }
   ],
   "source": [
    "nltk.FreqDist(token)"
   ]
  },
  {
   "cell_type": "code",
   "execution_count": 15,
   "metadata": {
    "collapsed": false
   },
   "outputs": [],
   "source": [
    "# df_train_sub.iloc[:,0]"
   ]
  },
  {
   "cell_type": "code",
   "execution_count": 16,
   "metadata": {
    "collapsed": false
   },
   "outputs": [],
   "source": [
    "def term_fre(doc):\n",
    "    token = nltk.word_tokenize(doc)\n",
    "    tf = nltk.FreqDist(token)\n",
    "#     print tf\n",
    "    return dict(tf)"
   ]
  },
  {
   "cell_type": "code",
   "execution_count": 17,
   "metadata": {
    "collapsed": false,
    "scrolled": true
   },
   "outputs": [],
   "source": [
    "lst_tf = []\n",
    "for i in df_train_sub.iloc[:,0]:\n",
    "    lst_tf.append(term_fre(i))"
   ]
  },
  {
   "cell_type": "code",
   "execution_count": 18,
   "metadata": {
    "collapsed": false
   },
   "outputs": [],
   "source": [
    "import h2o\n",
    "%matplotlib inline"
   ]
  },
  {
   "cell_type": "code",
   "execution_count": 20,
   "metadata": {
    "collapsed": false
   },
   "outputs": [
    {
     "name": "stdout",
     "output_type": "stream",
     "text": [
      "Checking whether there is an H2O instance running at http://localhost:54321. connected.\n"
     ]
    },
    {
     "data": {
      "text/html": [
       "<div style=\"overflow:auto\"><table style=\"width:50%\"><tr><td>H2O cluster uptime:</td>\n",
       "<td>1 min 35 secs</td></tr>\n",
       "<tr><td>H2O cluster version:</td>\n",
       "<td>3.10.0.10</td></tr>\n",
       "<tr><td>H2O cluster version age:</td>\n",
       "<td>2 months and 3 days </td></tr>\n",
       "<tr><td>H2O cluster name:</td>\n",
       "<td>H2O_from_python_user_6swz55</td></tr>\n",
       "<tr><td>H2O cluster total nodes:</td>\n",
       "<td>1</td></tr>\n",
       "<tr><td>H2O cluster free memory:</td>\n",
       "<td>896 Mb</td></tr>\n",
       "<tr><td>H2O cluster total cores:</td>\n",
       "<td>2</td></tr>\n",
       "<tr><td>H2O cluster allowed cores:</td>\n",
       "<td>2</td></tr>\n",
       "<tr><td>H2O cluster status:</td>\n",
       "<td>accepting new members, healthy</td></tr>\n",
       "<tr><td>H2O connection url:</td>\n",
       "<td>http://localhost:54321</td></tr>\n",
       "<tr><td>H2O connection proxy:</td>\n",
       "<td>None</td></tr>\n",
       "<tr><td>Python version:</td>\n",
       "<td>2.7.11 final</td></tr></table></div>"
      ],
      "text/plain": [
       "--------------------------  ------------------------------\n",
       "H2O cluster uptime:         1 min 35 secs\n",
       "H2O cluster version:        3.10.0.10\n",
       "H2O cluster version age:    2 months and 3 days\n",
       "H2O cluster name:           H2O_from_python_user_6swz55\n",
       "H2O cluster total nodes:    1\n",
       "H2O cluster free memory:    896 Mb\n",
       "H2O cluster total cores:    2\n",
       "H2O cluster allowed cores:  2\n",
       "H2O cluster status:         accepting new members, healthy\n",
       "H2O connection url:         http://localhost:54321\n",
       "H2O connection proxy:\n",
       "Python version:             2.7.11 final\n",
       "--------------------------  ------------------------------"
      ]
     },
     "metadata": {},
     "output_type": "display_data"
    }
   ],
   "source": [
    "h2o.init()"
   ]
  },
  {
   "cell_type": "code",
   "execution_count": 21,
   "metadata": {
    "collapsed": true
   },
   "outputs": [],
   "source": [
    "# h2o.shutdown()"
   ]
  },
  {
   "cell_type": "code",
   "execution_count": 22,
   "metadata": {
    "collapsed": false
   },
   "outputs": [
    {
     "name": "stdout",
     "output_type": "stream",
     "text": [
      "Parse progress: |█████████████████████████████████████████████████████████| 100%\n",
      "Parse progress: |█████████████████████████████████████████████████████████| 100%\n"
     ]
    }
   ],
   "source": [
    "hdf_tf=h2o.H2OFrame(lst_tf)\n",
    "\n",
    "hdf_target = h2o.H2OFrame(pd.DataFrame(df_train_sub.answers_yn))\n",
    "\n",
    "hdf = h2o.H2OFrame.cbind(hdf_tf,h2o.H2OFrame.asfactor(hdf_target))"
   ]
  },
  {
   "cell_type": "code",
   "execution_count": 23,
   "metadata": {
    "collapsed": false
   },
   "outputs": [
    {
     "data": {
      "text/html": [
       "<table>\n",
       "<thead>\n",
       "<tr><th>C1                                                                                                                                                             </th><th style=\"text-align: right;\">  answers_yn</th></tr>\n",
       "</thead>\n",
       "<tbody>\n",
       "<tr><td>{'ronald': 1, 'was': 1, 'reagan': 1, 'a': 1, 'democrat': 1}                                                                                                    </td><td style=\"text-align: right;\">           1</td></tr>\n",
       "<tr><td>{'do': 1, 'game': 1, 'contestants': 1, 'pay': 1, 'their': 1, 'shows': 1}                                                                                       </td><td style=\"text-align: right;\">           1</td></tr>\n",
       "<tr><td>{'butter': 1, 'peanut': 1, 'contain': 1, 'does': 1, 'cholesterol': 1}                                                                                          </td><td style=\"text-align: right;\">           0</td></tr>\n",
       "<tr><td>{'a': 1, 'on': 1, 'lane': 1, 'right': 1, 'to': 1, 'carriageway': 1, 'hand': 1, 'turn': 1, 'can': 1, 'dual': 1, 'you': 1, 'left': 1, 'roundabout': 1, 'take': 1}</td><td style=\"text-align: right;\">           0</td></tr>\n",
       "<tr><td>{'a': 1, 'felony': 1, 'is': 1, 'armed': 1, 'assault': 1}                                                                                                       </td><td style=\"text-align: right;\">           1</td></tr>\n",
       "<tr><td>{'the': 1, 'as': 1, 'is': 1, 'silverbeet': 1, 'same': 1, 'chard': 1}                                                                                           </td><td style=\"text-align: right;\">           1</td></tr>\n",
       "<tr><td>{'harmful': 1, 'springtails': 1, 'are': 1}                                                                                                                     </td><td style=\"text-align: right;\">           0</td></tr>\n",
       "<tr><td>{'good': 1, 'meat': 1, 'for': 1, 'angora': 1, 'goats': 1, 'are': 1}                                                                                            </td><td style=\"text-align: right;\">           1</td></tr>\n",
       "<tr><td>{'good': 1, 'meat': 1, 'for': 1, 'angora': 1, 'goats': 1, 'are': 1}                                                                                            </td><td style=\"text-align: right;\">           0</td></tr>\n",
       "<tr><td>{'does': 1, 'have': 1, 'signature': 1, 'assistance': 1, 'roadside': 1, 'visa': 1}                                                                              </td><td style=\"text-align: right;\">           1</td></tr>\n",
       "</tbody>\n",
       "</table>"
      ]
     },
     "metadata": {},
     "output_type": "display_data"
    },
    {
     "data": {
      "text/plain": []
     },
     "execution_count": 23,
     "metadata": {},
     "output_type": "execute_result"
    }
   ],
   "source": [
    "hdf"
   ]
  },
  {
   "cell_type": "code",
   "execution_count": 24,
   "metadata": {
    "collapsed": false
   },
   "outputs": [],
   "source": [
    "hdf_train, hdf_validate=hdf.split_frame(ratios=[0.75], seed =1)"
   ]
  },
  {
   "cell_type": "code",
   "execution_count": 25,
   "metadata": {
    "collapsed": true
   },
   "outputs": [],
   "source": [
    "from h2o.estimators.naive_bayes import H2ONaiveBayesEstimator\n",
    "from h2o.estimators.gbm import H2OGradientBoostingEstimator"
   ]
  },
  {
   "cell_type": "code",
   "execution_count": 26,
   "metadata": {
    "collapsed": false
   },
   "outputs": [
    {
     "name": "stdout",
     "output_type": "stream",
     "text": [
      "naivebayes Model Build progress: |████████████████████████████████████████| 100%\n"
     ]
    }
   ],
   "source": [
    "nb =H2ONaiveBayesEstimator(seed =1)\n",
    "nb.train(x = hdf.col_names[0], y = hdf.col_names[1], training_frame=hdf_train, validation_frame=hdf_validate)"
   ]
  },
  {
   "cell_type": "code",
   "execution_count": 27,
   "metadata": {
    "collapsed": false
   },
   "outputs": [
    {
     "data": {
      "text/plain": [
       "0.006909803758099552"
      ]
     },
     "execution_count": 27,
     "metadata": {},
     "output_type": "execute_result"
    }
   ],
   "source": [
    "nb.auc()"
   ]
  },
  {
   "cell_type": "code",
   "execution_count": 28,
   "metadata": {
    "collapsed": false
   },
   "outputs": [
    {
     "name": "stdout",
     "output_type": "stream",
     "text": [
      "gbm Model Build progress: |███████████████████████████████████████████████| 100%\n"
     ]
    }
   ],
   "source": [
    "gbm_model = H2OGradientBoostingEstimator(seed =1)\n",
    "gbm_model.train(x = hdf.col_names[0], y = hdf.col_names[1], training_frame=hdf_train, validation_frame=hdf_validate)"
   ]
  },
  {
   "cell_type": "code",
   "execution_count": 29,
   "metadata": {
    "collapsed": false
   },
   "outputs": [
    {
     "name": "stdout",
     "output_type": "stream",
     "text": [
      "AUC:  0.752263706133\n",
      "accuracy:  [[0.6393085528420991, 0.79602402153655]]\n"
     ]
    },
    {
     "data": {
      "image/png": "[encoded data removed]",
      "text/plain": [
       "<matplotlib.figure.Figure at 0xbda9438>"
      ]
     },
     "metadata": {},
     "output_type": "display_data"
    }
   ],
   "source": [
    "print \"AUC: \", gbm_model.auc()\n",
    "print \"accuracy: \", gbm_model.accuracy()\n",
    "gbm_model.plot()"
   ]
  },
  {
   "cell_type": "code",
   "execution_count": 30,
   "metadata": {
    "collapsed": false
   },
   "outputs": [
    {
     "name": "stdout",
     "output_type": "stream",
     "text": [
      "gbm Model Build progress: |███████████████████████████████████████████████| 100%\n"
     ]
    }
   ],
   "source": [
    "gbm_model_2 = H2OGradientBoostingEstimator(ntrees=65,seed=1)\n",
    "gbm_model_2.train(x = hdf.col_names[0], y = hdf.col_names[1], training_frame=hdf_train, validation_frame=hdf_validate)"
   ]
  },
  {
   "cell_type": "code",
   "execution_count": 31,
   "metadata": {
    "collapsed": false
   },
   "outputs": [
    {
     "name": "stdout",
     "output_type": "stream",
     "text": [
      "AUC:  0.762872324658\n",
      "accuracy:  [[0.6623931204751395, 0.7983019258645683]]\n"
     ]
    }
   ],
   "source": [
    "print \"AUC: \", gbm_model_2.auc()\n",
    "print \"accuracy: \", gbm_model_2.accuracy()\n",
    "# gbm_model_2.plot()\n",
    "\n",
    "# H2OGradientBoostingEstimator.scoring_history(gbm_model_2)\n",
    "# plot(h2o.pe)"
   ]
  },
  {
   "cell_type": "code",
   "execution_count": 32,
   "metadata": {
    "collapsed": false
   },
   "outputs": [
    {
     "name": "stdout",
     "output_type": "stream",
     "text": [
      "gbm prediction progress: |████████████████████████████████████████████████| 100%\n"
     ]
    }
   ],
   "source": [
    "prediction = gbm_model.predict(hdf_validate[0])"
   ]
  },
  {
   "cell_type": "code",
   "execution_count": 33,
   "metadata": {
    "collapsed": false
   },
   "outputs": [],
   "source": [
    "pdf_pred=prediction.as_data_frame()"
   ]
  },
  {
   "cell_type": "code",
   "execution_count": 34,
   "metadata": {
    "collapsed": false
   },
   "outputs": [
    {
     "name": "stdout",
     "output_type": "stream",
     "text": [
      "prediction unique values: [1 0]\n",
      "0    1\n",
      "1    1\n",
      "2    1\n",
      "3    1\n",
      "4    1\n",
      "5    1\n",
      "6    1\n",
      "7    1\n",
      "8    1\n",
      "9    1\n",
      "Name: predict, dtype: int64\n"
     ]
    },
    {
     "data": {
      "text/html": [
       "<table>\n",
       "<thead>\n",
       "<tr><th>C1                                                                                                                        </th><th style=\"text-align: right;\">  answers_yn</th></tr>\n",
       "</thead>\n",
       "<tbody>\n",
       "<tr><td>{'butter': 1, 'peanut': 1, 'contain': 1, 'does': 1, 'cholesterol': 1}                                                     </td><td style=\"text-align: right;\">           0</td></tr>\n",
       "<tr><td>{'harmful': 1, 'springtails': 1, 'are': 1}                                                                                </td><td style=\"text-align: right;\">           0</td></tr>\n",
       "<tr><td>{'does': 1, 'have': 1, 'signature': 1, 'assistance': 1, 'roadside': 1, 'visa': 1}                                         </td><td style=\"text-align: right;\">           1</td></tr>\n",
       "<tr><td>{'tesla': 1, 'new': 1, 'is': 1, 'hybrid': 1, 'the': 1}                                                                    </td><td style=\"text-align: right;\">           1</td></tr>\n",
       "<tr><td>{'a': 1, 'is': 1, 'plant': 1, 'moss': 1, 'spanish': 1}                                                                    </td><td style=\"text-align: right;\">           1</td></tr>\n",
       "<tr><td>{'did': 1, 'on': 1, 'landed': 1, 'us': 1, 'moon': 1}                                                                      </td><td style=\"text-align: right;\">           1</td></tr>\n",
       "<tr><td>{'farmhouse': 1, 'sinks': 1, 'laminate': 1, 'countertops': 1, 'with': 1, 'can': 1}                                        </td><td style=\"text-align: right;\">           0</td></tr>\n",
       "<tr><td>{'on': 1, 'i': 1, 'saves': 1, 'xbox': 1, 'pc': 1, 'can': 1, 'put': 1, 'my': 1}                                            </td><td style=\"text-align: right;\">           1</td></tr>\n",
       "<tr><td>{'for': 1, 'is': 1, 'there': 1, 'an': 1, 'limit': 1, 'learning': 1, 'speech': 1, 'age': 1}                                </td><td style=\"text-align: right;\">           0</td></tr>\n",
       "<tr><td>{'counsel': 1, 'of': 1, 'an': 1, 'not': 1, 'does': 1, 'are': 1, 'employee': 1, 'partner': 1, 'you': 1, 'or': 1, 'mean': 1}</td><td style=\"text-align: right;\">           0</td></tr>\n",
       "</tbody>\n",
       "</table>"
      ]
     },
     "metadata": {},
     "output_type": "display_data"
    },
    {
     "name": "stdout",
     "output_type": "stream",
     "text": [
      "\n"
     ]
    }
   ],
   "source": [
    "print 'prediction unique values:', pdf_pred['predict'].unique()\n",
    "print pdf_pred['predict'][0:10]\n",
    "print hdf_validate.head(10)"
   ]
  },
  {
   "cell_type": "markdown",
   "metadata": {},
   "source": [
    "# Playing with data\n",
    "1. clean it\n",
    "2. then word cloud"
   ]
  },
  {
   "cell_type": "code",
   "execution_count": 35,
   "metadata": {
    "collapsed": false
   },
   "outputs": [],
   "source": [
    "# import"
   ]
  },
  {
   "cell_type": "code",
   "execution_count": 36,
   "metadata": {
    "collapsed": false
   },
   "outputs": [],
   "source": [
    "from wordcloud import WordCloud\n",
    "import matplotlib.pyplot as plt"
   ]
  },
  {
   "cell_type": "code",
   "execution_count": 37,
   "metadata": {
    "collapsed": false
   },
   "outputs": [],
   "source": [
    "tmp_str = str()\n",
    "for i in df_train_sub.iloc[:,0]:\n",
    "    tmp_str += i"
   ]
  },
  {
   "cell_type": "code",
   "execution_count": 38,
   "metadata": {
    "collapsed": false
   },
   "outputs": [],
   "source": [
    "wordcloud = WordCloud().generate(tmp_str)"
   ]
  },
  {
   "cell_type": "code",
   "execution_count": 39,
   "metadata": {
    "collapsed": true
   },
   "outputs": [],
   "source": [
    "def plot_wordCloud(wordcloud):\n",
    "    plt.imshow(wordcloud)\n",
    "    plt.axis(\"off\")\n",
    "    plt.show()"
   ]
  },
  {
   "cell_type": "code",
   "execution_count": 40,
   "metadata": {
    "collapsed": true
   },
   "outputs": [],
   "source": [
    "token = nltk.word_tokenize(tmp_str)\n",
    "tf = nltk.FreqDist(token)"
   ]
  },
  {
   "cell_type": "code",
   "execution_count": 41,
   "metadata": {
    "collapsed": false
   },
   "outputs": [],
   "source": [
    "# Remove punctuation and stop words\n",
    "from nltk.corpus import stopwords \n",
    "stop_words = set(stopwords.words('english'))\n",
    "\n",
    "stop_words.add('?')\n",
    "\n",
    "\n",
    "filtered_sentence = [w for w in token if not w in stop_words]"
   ]
  },
  {
   "cell_type": "code",
   "execution_count": 42,
   "metadata": {
    "collapsed": false
   },
   "outputs": [],
   "source": [
    "tf = nltk.FreqDist(filtered_sentence)\n"
   ]
  },
  {
   "cell_type": "code",
   "execution_count": 43,
   "metadata": {
    "collapsed": false
   },
   "outputs": [],
   "source": [
    "tf_lst = tf.items()"
   ]
  },
  {
   "cell_type": "code",
   "execution_count": 44,
   "metadata": {
    "collapsed": false
   },
   "outputs": [
    {
     "data": {
      "image/png": "[encoded data removed]",
      "text/plain": [
       "<matplotlib.figure.Figure at 0xee0d2e8>"
      ]
     },
     "metadata": {},
     "output_type": "display_data"
    }
   ],
   "source": [
    "wordcloud=WordCloud().generate_from_frequencies(tf_lst)\n",
    "\n",
    "plot_wordCloud(wordcloud)"
   ]
  },
  {
   "cell_type": "code",
   "execution_count": 45,
   "metadata": {
    "collapsed": true
   },
   "outputs": [],
   "source": [
    "df= pd.DataFrame(tf_lst)"
   ]
  },
  {
   "cell_type": "code",
   "execution_count": 46,
   "metadata": {
    "collapsed": false
   },
   "outputs": [
    {
     "name": "stdout",
     "output_type": "stream",
     "text": [
      "165\n",
      "34\n"
     ]
    },
    {
     "data": {
      "text/html": [
       "<div>\n",
       "<table border=\"1\" class=\"dataframe\">\n",
       "  <thead>\n",
       "    <tr style=\"text-align: right;\">\n",
       "      <th></th>\n",
       "      <th>0</th>\n",
       "      <th>1</th>\n",
       "    </tr>\n",
       "  </thead>\n",
       "  <tbody>\n",
       "    <tr>\n",
       "      <th>43</th>\n",
       "      <td>diseaseis</td>\n",
       "      <td>36</td>\n",
       "    </tr>\n",
       "    <tr>\n",
       "      <th>437</th>\n",
       "      <td>ira</td>\n",
       "      <td>54</td>\n",
       "    </tr>\n",
       "    <tr>\n",
       "      <th>1053</th>\n",
       "      <td>take</td>\n",
       "      <td>53</td>\n",
       "    </tr>\n",
       "    <tr>\n",
       "      <th>1242</th>\n",
       "      <td>I</td>\n",
       "      <td>45</td>\n",
       "    </tr>\n",
       "    <tr>\n",
       "      <th>1431</th>\n",
       "      <td>caused</td>\n",
       "      <td>33</td>\n",
       "    </tr>\n",
       "  </tbody>\n",
       "</table>\n",
       "</div>"
      ],
      "text/plain": [
       "              0   1\n",
       "43    diseaseis  36\n",
       "437         ira  54\n",
       "1053       take  53\n",
       "1242          I  45\n",
       "1431     caused  33"
      ]
     },
     "execution_count": 46,
     "metadata": {},
     "output_type": "execute_result"
    }
   ],
   "source": [
    "idx = df[df.columns[1]]>30\n",
    "\n",
    "print max(df[df.columns[1]])\n",
    "print len(df[idx][df.columns[1]])\n",
    "\n",
    "df[idx].head()"
   ]
  },
  {
   "cell_type": "code",
   "execution_count": 47,
   "metadata": {
    "collapsed": false
   },
   "outputs": [],
   "source": [
    "df_idx = df[idx]"
   ]
  },
  {
   "cell_type": "code",
   "execution_count": 48,
   "metadata": {
    "collapsed": false
   },
   "outputs": [],
   "source": [
    "lst_idx=[]\n",
    "for i in range (0,len(df_idx)):\n",
    "    tup = (df_idx.iloc[i,0], df_idx.iloc[i,1])\n",
    "    lst_idx.append(tup)"
   ]
  },
  {
   "cell_type": "code",
   "execution_count": 49,
   "metadata": {
    "collapsed": false
   },
   "outputs": [
    {
     "data": {
      "image/png": "[encoded data removed]",
      "text/plain": [
       "<matplotlib.figure.Figure at 0xed311d0>"
      ]
     },
     "metadata": {},
     "output_type": "display_data"
    }
   ],
   "source": [
    "wordcloud=WordCloud().generate_from_frequencies(lst_idx)\n",
    "\n",
    "plot_wordCloud(wordcloud)"
   ]
  },
  {
   "cell_type": "code",
   "execution_count": null,
   "metadata": {
    "collapsed": false
   },
   "outputs": [],
   "source": []
  },
  {
   "cell_type": "code",
   "execution_count": 50,
   "metadata": {
    "collapsed": false
   },
   "outputs": [
    {
     "data": {
      "image/png": "[encoded data removed]",
      "text/plain": [
       "<matplotlib.figure.Figure at 0xed33940>"
      ]
     },
     "metadata": {},
     "output_type": "display_data"
    }
   ],
   "source": [
    "import matplotlib.pyplot as plt; plt.rcdefaults()\n",
    "import numpy as np\n",
    "import matplotlib.pyplot as plt\n",
    " \n",
    "# objects = ('Python', 'C++', 'Java', 'Perl', 'Scala', 'Lisp')\n",
    "\n",
    "objects = tuple(df_idx[0])\n",
    "\n",
    "y_pos = np.arange(len(objects))\n",
    "\n",
    "performance = list(df_idx[1])\n",
    " \n",
    "plt.bar(y_pos, performance, align='center', alpha=0.5)\n",
    "plt.xticks(y_pos, objects)\n",
    "plt.ylabel('Usage')\n",
    "plt.title('Programming language usage')\n",
    " \n",
    "plt.show()"
   ]
  },
  {
   "cell_type": "markdown",
   "metadata": {
    "collapsed": false
   },
   "source": [
    "# Build model after removing stops words"
   ]
  },
  {
   "cell_type": "code",
   "execution_count": 51,
   "metadata": {
    "collapsed": true
   },
   "outputs": [],
   "source": [
    "from nltk.corpus import stopwords \n",
    "stop_words = set(stopwords.words('english'))\n",
    "\n",
    "# stop_words.add('?')\n",
    "\n",
    "def rm_punct(token):\n",
    "    filtered_sentence = [w for w in token if not w in stop_words]\n",
    "    return filtered_sentence"
   ]
  },
  {
   "cell_type": "code",
   "execution_count": 52,
   "metadata": {
    "collapsed": false
   },
   "outputs": [],
   "source": [
    "def term_fre(doc):\n",
    "    token = nltk.word_tokenize(doc)\n",
    "    tf = nltk.FreqDist(rm_punct(token))\n",
    "#     print tf\n",
    "    return dict(tf)"
   ]
  },
  {
   "cell_type": "code",
   "execution_count": 53,
   "metadata": {
    "collapsed": true
   },
   "outputs": [],
   "source": [
    "lst_tf = []\n",
    "for i in df_train_sub.iloc[:,0]:\n",
    "    lst_tf.append(term_fre(i))"
   ]
  },
  {
   "cell_type": "code",
   "execution_count": 88,
   "metadata": {
    "collapsed": false
   },
   "outputs": [
    {
     "name": "stdout",
     "output_type": "stream",
     "text": [
      "Parse progress: |█████████████████████████████████████████████████████████| 100%\n",
      "Parse progress: |█████████████████████████████████████████████████████████| 100%\n"
     ]
    }
   ],
   "source": [
    "hdf_tf=h2o.H2OFrame(lst_tf)\n",
    "\n",
    "hdf_target = h2o.H2OFrame(pd.DataFrame(df_train_sub.answers_yn))\n",
    "\n",
    "hdf = h2o.H2OFrame.cbind(hdf_tf,h2o.H2OFrame.asfactor(hdf_target))"
   ]
  },
  {
   "cell_type": "code",
   "execution_count": 55,
   "metadata": {
    "collapsed": false
   },
   "outputs": [
    {
     "data": {
      "text/html": [
       "<table>\n",
       "<thead>\n",
       "<tr><th>C1                                                                                                               </th><th style=\"text-align: right;\">  answers_yn</th></tr>\n",
       "</thead>\n",
       "<tbody>\n",
       "<tr><td>{'ronald': 1, 'reagan': 1, 'democrat': 1}                                                                        </td><td style=\"text-align: right;\">           1</td></tr>\n",
       "<tr><td>{'pay': 1, 'game': 1, 'shows': 1, 'contestants': 1}                                                              </td><td style=\"text-align: right;\">           1</td></tr>\n",
       "<tr><td>{'butter': 1, 'peanut': 1, 'contain': 1, 'cholesterol': 1}                                                       </td><td style=\"text-align: right;\">           0</td></tr>\n",
       "<tr><td>{'lane': 1, 'right': 1, 'carriageway': 1, 'hand': 1, 'turn': 1, 'take': 1, 'dual': 1, 'left': 1, 'roundabout': 1}</td><td style=\"text-align: right;\">           0</td></tr>\n",
       "<tr><td>{'felony': 1, 'assault': 1, 'armed': 1}                                                                          </td><td style=\"text-align: right;\">           1</td></tr>\n",
       "<tr><td>{'silverbeet': 1, 'chard': 1}                                                                                    </td><td style=\"text-align: right;\">           1</td></tr>\n",
       "<tr><td>{'harmful': 1, 'springtails': 1}                                                                                 </td><td style=\"text-align: right;\">           0</td></tr>\n",
       "<tr><td>{'angora': 1, 'good': 1, 'goats': 1, 'meat': 1}                                                                  </td><td style=\"text-align: right;\">           1</td></tr>\n",
       "<tr><td>{'angora': 1, 'good': 1, 'goats': 1, 'meat': 1}                                                                  </td><td style=\"text-align: right;\">           0</td></tr>\n",
       "<tr><td>{'assistance': 1, 'visa': 1, 'signature': 1, 'roadside': 1}                                                      </td><td style=\"text-align: right;\">           1</td></tr>\n",
       "</tbody>\n",
       "</table>"
      ]
     },
     "metadata": {},
     "output_type": "display_data"
    },
    {
     "data": {
      "text/plain": []
     },
     "execution_count": 55,
     "metadata": {},
     "output_type": "execute_result"
    }
   ],
   "source": [
    "hdf.head()"
   ]
  },
  {
   "cell_type": "code",
   "execution_count": 56,
   "metadata": {
    "collapsed": true
   },
   "outputs": [],
   "source": [
    "hdf_train, hdf_validate=hdf.split_frame(ratios=[0.75], seed =1)"
   ]
  },
  {
   "cell_type": "code",
   "execution_count": 57,
   "metadata": {
    "collapsed": true
   },
   "outputs": [],
   "source": [
    "from h2o.estimators.naive_bayes import H2ONaiveBayesEstimator\n",
    "from h2o.estimators.gbm import H2OGradientBoostingEstimator"
   ]
  },
  {
   "cell_type": "code",
   "execution_count": 58,
   "metadata": {
    "collapsed": false
   },
   "outputs": [
    {
     "name": "stdout",
     "output_type": "stream",
     "text": [
      "naivebayes Model Build progress: |████████████████████████████████████████| 100%\n"
     ]
    }
   ],
   "source": [
    "nb =H2ONaiveBayesEstimator(seed =1)\n",
    "nb.train(x = hdf.col_names[0], y = hdf.col_names[1], training_frame=hdf_train, validation_frame=hdf_validate)"
   ]
  },
  {
   "cell_type": "code",
   "execution_count": 59,
   "metadata": {
    "collapsed": false
   },
   "outputs": [
    {
     "data": {
      "text/plain": [
       "0.009103803952627752"
      ]
     },
     "execution_count": 59,
     "metadata": {},
     "output_type": "execute_result"
    }
   ],
   "source": [
    "nb.auc()"
   ]
  },
  {
   "cell_type": "code",
   "execution_count": 60,
   "metadata": {
    "collapsed": false
   },
   "outputs": [
    {
     "name": "stdout",
     "output_type": "stream",
     "text": [
      "gbm Model Build progress: |███████████████████████████████████████████████| 100%\n"
     ]
    }
   ],
   "source": [
    "gbm_model = H2OGradientBoostingEstimator(ntrees=10,seed =1, model_id = 'gbm10')\n",
    "gbm_model.train(x = hdf.col_names[0], y = hdf.col_names[1], training_frame=hdf_train, validation_frame=hdf_validate)"
   ]
  },
  {
   "cell_type": "code",
   "execution_count": 61,
   "metadata": {
    "collapsed": false
   },
   "outputs": [
    {
     "name": "stdout",
     "output_type": "stream",
     "text": [
      "AUC:  0.629769183028\n",
      "accuracy:  [[0.7063278899952814, 0.765997100849037]]\n"
     ]
    },
    {
     "data": {
      "image/png": "[encoded data removed]",
      "text/plain": [
       "<matplotlib.figure.Figure at 0xe7adfd0>"
      ]
     },
     "metadata": {},
     "output_type": "display_data"
    }
   ],
   "source": [
    "print \"AUC: \", gbm_model.auc()\n",
    "print \"accuracy: \", gbm_model.accuracy()\n",
    "gbm_model.plot()"
   ]
  },
  {
   "cell_type": "code",
   "execution_count": 62,
   "metadata": {
    "collapsed": false
   },
   "outputs": [
    {
     "name": "stdout",
     "output_type": "stream",
     "text": [
      "gbm prediction progress: |████████████████████████████████████████████████| 100%\n"
     ]
    }
   ],
   "source": [
    "prediction = gbm_model.predict(hdf_validate[0])"
   ]
  },
  {
   "cell_type": "code",
   "execution_count": 63,
   "metadata": {
    "collapsed": true
   },
   "outputs": [],
   "source": [
    "pdf_pred=prediction.as_data_frame()"
   ]
  },
  {
   "cell_type": "code",
   "execution_count": 64,
   "metadata": {
    "collapsed": false
   },
   "outputs": [
    {
     "name": "stdout",
     "output_type": "stream",
     "text": [
      "prediction unique values: [1]\n",
      "0    1\n",
      "1    1\n",
      "2    1\n",
      "3    1\n",
      "4    1\n",
      "5    1\n",
      "6    1\n",
      "7    1\n",
      "8    1\n",
      "9    1\n",
      "Name: predict, dtype: int64\n"
     ]
    },
    {
     "data": {
      "text/html": [
       "<table>\n",
       "<thead>\n",
       "<tr><th>C1                                                           </th><th style=\"text-align: right;\">  answers_yn</th></tr>\n",
       "</thead>\n",
       "<tbody>\n",
       "<tr><td>{'butter': 1, 'peanut': 1, 'contain': 1, 'cholesterol': 1}   </td><td style=\"text-align: right;\">           0</td></tr>\n",
       "<tr><td>{'harmful': 1, 'springtails': 1}                             </td><td style=\"text-align: right;\">           0</td></tr>\n",
       "<tr><td>{'assistance': 1, 'visa': 1, 'signature': 1, 'roadside': 1}  </td><td style=\"text-align: right;\">           1</td></tr>\n",
       "<tr><td>{'tesla': 1, 'new': 1, 'hybrid': 1}                          </td><td style=\"text-align: right;\">           1</td></tr>\n",
       "<tr><td>{'plant': 1, 'moss': 1, 'spanish': 1}                        </td><td style=\"text-align: right;\">           1</td></tr>\n",
       "<tr><td>{'landed': 1, 'us': 1, 'moon': 1}                            </td><td style=\"text-align: right;\">           1</td></tr>\n",
       "<tr><td>{'farmhouse': 1, 'laminate': 1, 'sinks': 1, 'countertops': 1}</td><td style=\"text-align: right;\">           0</td></tr>\n",
       "<tr><td>{'put': 1, 'pc': 1, 'saves': 1, 'xbox': 1}                   </td><td style=\"text-align: right;\">           1</td></tr>\n",
       "<tr><td>{'limit': 1, 'age': 1, 'speech': 1, 'learning': 1}           </td><td style=\"text-align: right;\">           0</td></tr>\n",
       "<tr><td>{'employee': 1, 'partner': 1, 'counsel': 1, 'mean': 1}       </td><td style=\"text-align: right;\">           0</td></tr>\n",
       "</tbody>\n",
       "</table>"
      ]
     },
     "metadata": {},
     "output_type": "display_data"
    },
    {
     "name": "stdout",
     "output_type": "stream",
     "text": [
      "\n"
     ]
    }
   ],
   "source": [
    "print 'prediction unique values:', pdf_pred['predict'].unique()\n",
    "print pdf_pred['predict'][0:10]\n",
    "print hdf_validate.head(10)"
   ]
  },
  {
   "cell_type": "code",
   "execution_count": 65,
   "metadata": {
    "collapsed": false
   },
   "outputs": [
    {
     "name": "stdout",
     "output_type": "stream",
     "text": [
      "Confusion Matrix (Act/Pred) for max f1 @ threshold = 0.646719054372: \n"
     ]
    },
    {
     "data": {
      "text/html": [
       "<div style=\"overflow:auto\"><table style=\"width:50%\"><tr><td><b></b></td>\n",
       "<td><b>0</b></td>\n",
       "<td><b>1</b></td>\n",
       "<td><b>Error</b></td>\n",
       "<td><b>Rate</b></td></tr>\n",
       "<tr><td>0</td>\n",
       "<td>52.0</td>\n",
       "<td>1133.0</td>\n",
       "<td>0.9561</td>\n",
       "<td> (1133.0/1185.0)</td></tr>\n",
       "<tr><td>1</td>\n",
       "<td>0.0</td>\n",
       "<td>3644.0</td>\n",
       "<td>0.0</td>\n",
       "<td> (0.0/3644.0)</td></tr>\n",
       "<tr><td>Total</td>\n",
       "<td>52.0</td>\n",
       "<td>4777.0</td>\n",
       "<td>0.2346</td>\n",
       "<td> (1133.0/4829.0)</td></tr></table></div>"
      ],
      "text/plain": [
       "       0    1     Error    Rate\n",
       "-----  ---  ----  -------  ---------------\n",
       "0      52   1133  0.9561   (1133.0/1185.0)\n",
       "1      0    3644  0        (0.0/3644.0)\n",
       "Total  52   4777  0.2346   (1133.0/4829.0)"
      ]
     },
     "metadata": {},
     "output_type": "display_data"
    },
    {
     "data": {
      "text/plain": []
     },
     "execution_count": 65,
     "metadata": {},
     "output_type": "execute_result"
    }
   ],
   "source": [
    "gbm_model.confusion_matrix()"
   ]
  },
  {
   "cell_type": "code",
   "execution_count": 66,
   "metadata": {
    "collapsed": false
   },
   "outputs": [
    {
     "name": "stdout",
     "output_type": "stream",
     "text": [
      "Model Details\n",
      "=============\n",
      "H2OGradientBoostingEstimator :  Gradient Boosting Machine\n",
      "Model Key:  gbm10\n",
      "Model Summary: \n"
     ]
    },
    {
     "data": {
      "text/html": [
       "<div style=\"overflow:auto\"><table style=\"width:50%\"><tr><td><b></b></td>\n",
       "<td><b>number_of_trees</b></td>\n",
       "<td><b>number_of_internal_trees</b></td>\n",
       "<td><b>model_size_in_bytes</b></td>\n",
       "<td><b>min_depth</b></td>\n",
       "<td><b>max_depth</b></td>\n",
       "<td><b>mean_depth</b></td>\n",
       "<td><b>min_leaves</b></td>\n",
       "<td><b>max_leaves</b></td>\n",
       "<td><b>mean_leaves</b></td></tr>\n",
       "<tr><td></td>\n",
       "<td>10.0</td>\n",
       "<td>10.0</td>\n",
       "<td>5639.0</td>\n",
       "<td>5.0</td>\n",
       "<td>5.0</td>\n",
       "<td>5.0</td>\n",
       "<td>13.0</td>\n",
       "<td>20.0</td>\n",
       "<td>17.3</td></tr></table></div>"
      ],
      "text/plain": [
       "    number_of_trees    number_of_internal_trees    model_size_in_bytes    min_depth    max_depth    mean_depth    min_leaves    max_leaves    mean_leaves\n",
       "--  -----------------  --------------------------  ---------------------  -----------  -----------  ------------  ------------  ------------  -------------\n",
       "    10                 10                          5639                   5            5            5             13            20            17.3"
      ]
     },
     "metadata": {},
     "output_type": "display_data"
    },
    {
     "name": "stdout",
     "output_type": "stream",
     "text": [
      "\n",
      "\n",
      "ModelMetricsBinomial: gbm\n",
      "** Reported on train data. **\n",
      "\n",
      "MSE: 0.178292338632\n",
      "RMSE: 0.422246774566\n",
      "LogLoss: 0.539488017897\n",
      "Mean Per-Class Error: 0.417101807723\n",
      "AUC: 0.629769183028\n",
      "Gini: 0.259538366056\n",
      "Confusion Matrix (Act/Pred) for max f1 @ threshold = 0.646719054372: \n"
     ]
    },
    {
     "data": {
      "text/html": [
       "<div style=\"overflow:auto\"><table style=\"width:50%\"><tr><td><b></b></td>\n",
       "<td><b>0</b></td>\n",
       "<td><b>1</b></td>\n",
       "<td><b>Error</b></td>\n",
       "<td><b>Rate</b></td></tr>\n",
       "<tr><td>0</td>\n",
       "<td>52.0</td>\n",
       "<td>1133.0</td>\n",
       "<td>0.9561</td>\n",
       "<td> (1133.0/1185.0)</td></tr>\n",
       "<tr><td>1</td>\n",
       "<td>0.0</td>\n",
       "<td>3644.0</td>\n",
       "<td>0.0</td>\n",
       "<td> (0.0/3644.0)</td></tr>\n",
       "<tr><td>Total</td>\n",
       "<td>52.0</td>\n",
       "<td>4777.0</td>\n",
       "<td>0.2346</td>\n",
       "<td> (1133.0/4829.0)</td></tr></table></div>"
      ],
      "text/plain": [
       "       0    1     Error    Rate\n",
       "-----  ---  ----  -------  ---------------\n",
       "0      52   1133  0.9561   (1133.0/1185.0)\n",
       "1      0    3644  0        (0.0/3644.0)\n",
       "Total  52   4777  0.2346   (1133.0/4829.0)"
      ]
     },
     "metadata": {},
     "output_type": "display_data"
    },
    {
     "name": "stdout",
     "output_type": "stream",
     "text": [
      "Maximum Metrics: Maximum metrics at their respective thresholds\n",
      "\n"
     ]
    },
    {
     "data": {
      "text/html": [
       "<div style=\"overflow:auto\"><table style=\"width:50%\"><tr><td><b>metric</b></td>\n",
       "<td><b>threshold</b></td>\n",
       "<td><b>value</b></td>\n",
       "<td><b>idx</b></td></tr>\n",
       "<tr><td>max f1</td>\n",
       "<td>0.6467191</td>\n",
       "<td>0.8654554</td>\n",
       "<td>91.0</td></tr>\n",
       "<tr><td>max f2</td>\n",
       "<td>0.6467191</td>\n",
       "<td>0.9414561</td>\n",
       "<td>91.0</td></tr>\n",
       "<tr><td>max f0point5</td>\n",
       "<td>0.7426043</td>\n",
       "<td>0.8068959</td>\n",
       "<td>69.0</td></tr>\n",
       "<tr><td>max accuracy</td>\n",
       "<td>0.7063279</td>\n",
       "<td>0.7659971</td>\n",
       "<td>84.0</td></tr>\n",
       "<tr><td>max precision</td>\n",
       "<td>0.8973293</td>\n",
       "<td>1.0</td>\n",
       "<td>0.0</td></tr>\n",
       "<tr><td>max recall</td>\n",
       "<td>0.6467191</td>\n",
       "<td>1.0</td>\n",
       "<td>91.0</td></tr>\n",
       "<tr><td>max specificity</td>\n",
       "<td>0.8973293</td>\n",
       "<td>1.0</td>\n",
       "<td>0.0</td></tr>\n",
       "<tr><td>max absolute_mcc</td>\n",
       "<td>0.7233171</td>\n",
       "<td>0.1833520</td>\n",
       "<td>78.0</td></tr>\n",
       "<tr><td>max min_per_class_accuracy</td>\n",
       "<td>0.7547104</td>\n",
       "<td>0.5397914</td>\n",
       "<td>61.0</td></tr>\n",
       "<tr><td>max mean_per_class_accuracy</td>\n",
       "<td>0.7492397</td>\n",
       "<td>0.5828982</td>\n",
       "<td>62.0</td></tr></table></div>"
      ],
      "text/plain": [
       "metric                       threshold    value     idx\n",
       "---------------------------  -----------  --------  -----\n",
       "max f1                       0.646719     0.865455  91\n",
       "max f2                       0.646719     0.941456  91\n",
       "max f0point5                 0.742604     0.806896  69\n",
       "max accuracy                 0.706328     0.765997  84\n",
       "max precision                0.897329     1         0\n",
       "max recall                   0.646719     1         91\n",
       "max specificity              0.897329     1         0\n",
       "max absolute_mcc             0.723317     0.183352  78\n",
       "max min_per_class_accuracy   0.75471      0.539791  61\n",
       "max mean_per_class_accuracy  0.74924      0.582898  62"
      ]
     },
     "metadata": {},
     "output_type": "display_data"
    },
    {
     "name": "stdout",
     "output_type": "stream",
     "text": [
      "Gains/Lift Table: Avg response rate: 75.46 %\n",
      "\n"
     ]
    },
    {
     "data": {
      "text/html": [
       "<div style=\"overflow:auto\"><table style=\"width:50%\"><tr><td><b></b></td>\n",
       "<td><b>group</b></td>\n",
       "<td><b>cumulative_data_fraction</b></td>\n",
       "<td><b>lower_threshold</b></td>\n",
       "<td><b>lift</b></td>\n",
       "<td><b>cumulative_lift</b></td>\n",
       "<td><b>response_rate</b></td>\n",
       "<td><b>cumulative_response_rate</b></td>\n",
       "<td><b>capture_rate</b></td>\n",
       "<td><b>cumulative_capture_rate</b></td>\n",
       "<td><b>gain</b></td>\n",
       "<td><b>cumulative_gain</b></td></tr>\n",
       "<tr><td></td>\n",
       "<td>1</td>\n",
       "<td>0.0109754</td>\n",
       "<td>0.8740834</td>\n",
       "<td>1.3251921</td>\n",
       "<td>1.3251921</td>\n",
       "<td>1.0</td>\n",
       "<td>1.0</td>\n",
       "<td>0.0145445</td>\n",
       "<td>0.0145445</td>\n",
       "<td>32.5192097</td>\n",
       "<td>32.5192097</td></tr>\n",
       "<tr><td></td>\n",
       "<td>2</td>\n",
       "<td>0.0200870</td>\n",
       "<td>0.8386083</td>\n",
       "<td>1.3251921</td>\n",
       "<td>1.3251921</td>\n",
       "<td>1.0</td>\n",
       "<td>1.0</td>\n",
       "<td>0.0120746</td>\n",
       "<td>0.0266191</td>\n",
       "<td>32.5192097</td>\n",
       "<td>32.5192097</td></tr>\n",
       "<tr><td></td>\n",
       "<td>3</td>\n",
       "<td>0.0314765</td>\n",
       "<td>0.8300253</td>\n",
       "<td>1.3251921</td>\n",
       "<td>1.3251921</td>\n",
       "<td>1.0</td>\n",
       "<td>1.0</td>\n",
       "<td>0.0150933</td>\n",
       "<td>0.0417124</td>\n",
       "<td>32.5192097</td>\n",
       "<td>32.5192097</td></tr>\n",
       "<tr><td></td>\n",
       "<td>4</td>\n",
       "<td>0.0418306</td>\n",
       "<td>0.8264045</td>\n",
       "<td>1.3251921</td>\n",
       "<td>1.3251921</td>\n",
       "<td>1.0</td>\n",
       "<td>1.0</td>\n",
       "<td>0.0137212</td>\n",
       "<td>0.0554336</td>\n",
       "<td>32.5192097</td>\n",
       "<td>32.5192097</td></tr>\n",
       "<tr><td></td>\n",
       "<td>5</td>\n",
       "<td>0.0503210</td>\n",
       "<td>0.7983582</td>\n",
       "<td>1.2928703</td>\n",
       "<td>1.3197386</td>\n",
       "<td>0.9756098</td>\n",
       "<td>0.9958848</td>\n",
       "<td>0.0109769</td>\n",
       "<td>0.0664105</td>\n",
       "<td>29.2870338</td>\n",
       "<td>31.9738631</td></tr>\n",
       "<tr><td></td>\n",
       "<td>6</td>\n",
       "<td>0.1644233</td>\n",
       "<td>0.7775160</td>\n",
       "<td>1.0846854</td>\n",
       "<td>1.1566223</td>\n",
       "<td>0.8185118</td>\n",
       "<td>0.8727960</td>\n",
       "<td>0.1237651</td>\n",
       "<td>0.1901756</td>\n",
       "<td>8.4685364</td>\n",
       "<td>15.6622321</td></tr>\n",
       "<tr><td></td>\n",
       "<td>7</td>\n",
       "<td>0.2151584</td>\n",
       "<td>0.7665580</td>\n",
       "<td>1.1196521</td>\n",
       "<td>1.1479046</td>\n",
       "<td>0.8448980</td>\n",
       "<td>0.8662175</td>\n",
       "<td>0.0568057</td>\n",
       "<td>0.2469813</td>\n",
       "<td>11.9652098</td>\n",
       "<td>14.7904607</td></tr>\n",
       "<tr><td></td>\n",
       "<td>8</td>\n",
       "<td>0.3392007</td>\n",
       "<td>0.7598765</td>\n",
       "<td>1.0353755</td>\n",
       "<td>1.1067538</td>\n",
       "<td>0.7813022</td>\n",
       "<td>0.8351648</td>\n",
       "<td>0.1284303</td>\n",
       "<td>0.3754116</td>\n",
       "<td>3.5375461</td>\n",
       "<td>10.6753839</td></tr>\n",
       "<tr><td></td>\n",
       "<td>9</td>\n",
       "<td>0.5011390</td>\n",
       "<td>0.7569835</td>\n",
       "<td>1.0133822</td>\n",
       "<td>1.0765817</td>\n",
       "<td>0.7647059</td>\n",
       "<td>0.8123967</td>\n",
       "<td>0.1641054</td>\n",
       "<td>0.5395170</td>\n",
       "<td>1.3382192</td>\n",
       "<td>7.6581678</td></tr>\n",
       "<tr><td></td>\n",
       "<td>10</td>\n",
       "<td>0.6289087</td>\n",
       "<td>0.7492397</td>\n",
       "<td>1.0180568</td>\n",
       "<td>1.0646917</td>\n",
       "<td>0.7682334</td>\n",
       "<td>0.8034244</td>\n",
       "<td>0.1300768</td>\n",
       "<td>0.6695939</td>\n",
       "<td>1.8056813</td>\n",
       "<td>6.4691708</td></tr>\n",
       "<tr><td></td>\n",
       "<td>11</td>\n",
       "<td>0.7492234</td>\n",
       "<td>0.7460779</td>\n",
       "<td>0.9830599</td>\n",
       "<td>1.0515828</td>\n",
       "<td>0.7418244</td>\n",
       "<td>0.7935323</td>\n",
       "<td>0.1182766</td>\n",
       "<td>0.7878705</td>\n",
       "<td>-1.6940114</td>\n",
       "<td>5.1582783</td></tr>\n",
       "<tr><td></td>\n",
       "<td>12</td>\n",
       "<td>0.9014289</td>\n",
       "<td>0.7426044</td>\n",
       "<td>0.9501717</td>\n",
       "<td>1.0344596</td>\n",
       "<td>0.7170068</td>\n",
       "<td>0.7806111</td>\n",
       "<td>0.1446213</td>\n",
       "<td>0.9324918</td>\n",
       "<td>-4.9828252</td>\n",
       "<td>3.4459624</td></tr>\n",
       "<tr><td></td>\n",
       "<td>13</td>\n",
       "<td>1.0</td>\n",
       "<td>0.2882167</td>\n",
       "<td>0.6848682</td>\n",
       "<td>1.0</td>\n",
       "<td>0.5168067</td>\n",
       "<td>0.7546076</td>\n",
       "<td>0.0675082</td>\n",
       "<td>1.0</td>\n",
       "<td>-31.5131816</td>\n",
       "<td>0.0</td></tr></table></div>"
      ],
      "text/plain": [
       "    group    cumulative_data_fraction    lower_threshold    lift      cumulative_lift    response_rate    cumulative_response_rate    capture_rate    cumulative_capture_rate    gain      cumulative_gain\n",
       "--  -------  --------------------------  -----------------  --------  -----------------  ---------------  --------------------------  --------------  -------------------------  --------  -----------------\n",
       "    1        0.0109754                   0.874083           1.32519   1.32519            1                1                           0.0145445       0.0145445                  32.5192   32.5192\n",
       "    2        0.020087                    0.838608           1.32519   1.32519            1                1                           0.0120746       0.0266191                  32.5192   32.5192\n",
       "    3        0.0314765                   0.830025           1.32519   1.32519            1                1                           0.0150933       0.0417124                  32.5192   32.5192\n",
       "    4        0.0418306                   0.826405           1.32519   1.32519            1                1                           0.0137212       0.0554336                  32.5192   32.5192\n",
       "    5        0.050321                    0.798358           1.29287   1.31974            0.97561          0.995885                    0.0109769       0.0664105                  29.287    31.9739\n",
       "    6        0.164423                    0.777516           1.08469   1.15662            0.818512         0.872796                    0.123765        0.190176                   8.46854   15.6622\n",
       "    7        0.215158                    0.766558           1.11965   1.1479             0.844898         0.866218                    0.0568057       0.246981                   11.9652   14.7905\n",
       "    8        0.339201                    0.759877           1.03538   1.10675            0.781302         0.835165                    0.12843         0.375412                   3.53755   10.6754\n",
       "    9        0.501139                    0.756984           1.01338   1.07658            0.764706         0.812397                    0.164105        0.539517                   1.33822   7.65817\n",
       "    10       0.628909                    0.74924            1.01806   1.06469            0.768233         0.803424                    0.130077        0.669594                   1.80568   6.46917\n",
       "    11       0.749223                    0.746078           0.98306   1.05158            0.741824         0.793532                    0.118277        0.78787                    -1.69401  5.15828\n",
       "    12       0.901429                    0.742604           0.950172  1.03446            0.717007         0.780611                    0.144621        0.932492                   -4.98283  3.44596\n",
       "    13       1                           0.288217           0.684868  1                  0.516807         0.754608                    0.0675082       1                          -31.5132  0"
      ]
     },
     "metadata": {},
     "output_type": "display_data"
    },
    {
     "name": "stdout",
     "output_type": "stream",
     "text": [
      "\n",
      "\n",
      "ModelMetricsBinomial: gbm\n",
      "** Reported on validation data. **\n",
      "\n",
      "MSE: 0.179408753089\n",
      "RMSE: 0.423566704415\n",
      "LogLoss: 0.544453845588\n",
      "Mean Per-Class Error: 0.485139319548\n",
      "AUC: 0.516889325433\n",
      "Gini: 0.0337786508655\n",
      "Confusion Matrix (Act/Pred) for max f1 @ threshold = 0.435075931487: \n"
     ]
    },
    {
     "data": {
      "text/html": [
       "<div style=\"overflow:auto\"><table style=\"width:50%\"><tr><td><b></b></td>\n",
       "<td><b>0</b></td>\n",
       "<td><b>1</b></td>\n",
       "<td><b>Error</b></td>\n",
       "<td><b>Rate</b></td></tr>\n",
       "<tr><td>0</td>\n",
       "<td>0.0</td>\n",
       "<td>379.0</td>\n",
       "<td>1.0</td>\n",
       "<td> (379.0/379.0)</td></tr>\n",
       "<tr><td>1</td>\n",
       "<td>0.0</td>\n",
       "<td>1233.0</td>\n",
       "<td>0.0</td>\n",
       "<td> (0.0/1233.0)</td></tr>\n",
       "<tr><td>Total</td>\n",
       "<td>0.0</td>\n",
       "<td>1612.0</td>\n",
       "<td>0.2351</td>\n",
       "<td> (379.0/1612.0)</td></tr></table></div>"
      ],
      "text/plain": [
       "       0    1     Error    Rate\n",
       "-----  ---  ----  -------  --------------\n",
       "0      0    379   1        (379.0/379.0)\n",
       "1      0    1233  0        (0.0/1233.0)\n",
       "Total  0    1612  0.2351   (379.0/1612.0)"
      ]
     },
     "metadata": {},
     "output_type": "display_data"
    },
    {
     "name": "stdout",
     "output_type": "stream",
     "text": [
      "Maximum Metrics: Maximum metrics at their respective thresholds\n",
      "\n"
     ]
    },
    {
     "data": {
      "text/html": [
       "<div style=\"overflow:auto\"><table style=\"width:50%\"><tr><td><b>metric</b></td>\n",
       "<td><b>threshold</b></td>\n",
       "<td><b>value</b></td>\n",
       "<td><b>idx</b></td></tr>\n",
       "<tr><td>max f1</td>\n",
       "<td>0.4350759</td>\n",
       "<td>0.8667838</td>\n",
       "<td>63.0</td></tr>\n",
       "<tr><td>max f2</td>\n",
       "<td>0.4350759</td>\n",
       "<td>0.9420844</td>\n",
       "<td>63.0</td></tr>\n",
       "<tr><td>max f0point5</td>\n",
       "<td>0.6698231</td>\n",
       "<td>0.8046512</td>\n",
       "<td>58.0</td></tr>\n",
       "<tr><td>max accuracy</td>\n",
       "<td>0.6467191</td>\n",
       "<td>0.7655087</td>\n",
       "<td>59.0</td></tr>\n",
       "<tr><td>max precision</td>\n",
       "<td>0.8887874</td>\n",
       "<td>1.0</td>\n",
       "<td>0.0</td></tr>\n",
       "<tr><td>max recall</td>\n",
       "<td>0.4350759</td>\n",
       "<td>1.0</td>\n",
       "<td>63.0</td></tr>\n",
       "<tr><td>max specificity</td>\n",
       "<td>0.8887874</td>\n",
       "<td>1.0</td>\n",
       "<td>0.0</td></tr>\n",
       "<tr><td>max absolute_mcc</td>\n",
       "<td>0.6698231</td>\n",
       "<td>0.0745529</td>\n",
       "<td>58.0</td></tr>\n",
       "<tr><td>max min_per_class_accuracy</td>\n",
       "<td>0.7569835</td>\n",
       "<td>0.5125710</td>\n",
       "<td>36.0</td></tr>\n",
       "<tr><td>max mean_per_class_accuracy</td>\n",
       "<td>0.7569835</td>\n",
       "<td>0.5148607</td>\n",
       "<td>36.0</td></tr></table></div>"
      ],
      "text/plain": [
       "metric                       threshold    value      idx\n",
       "---------------------------  -----------  ---------  -----\n",
       "max f1                       0.435076     0.866784   63\n",
       "max f2                       0.435076     0.942084   63\n",
       "max f0point5                 0.669823     0.804651   58\n",
       "max accuracy                 0.646719     0.765509   59\n",
       "max precision                0.888787     1          0\n",
       "max recall                   0.435076     1          63\n",
       "max specificity              0.888787     1          0\n",
       "max absolute_mcc             0.669823     0.0745529  58\n",
       "max min_per_class_accuracy   0.756984     0.512571   36\n",
       "max mean_per_class_accuracy  0.756984     0.514861   36"
      ]
     },
     "metadata": {},
     "output_type": "display_data"
    },
    {
     "name": "stdout",
     "output_type": "stream",
     "text": [
      "Gains/Lift Table: Avg response rate: 76.49 %\n",
      "\n"
     ]
    },
    {
     "data": {
      "text/html": [
       "<div style=\"overflow:auto\"><table style=\"width:50%\"><tr><td><b></b></td>\n",
       "<td><b>group</b></td>\n",
       "<td><b>cumulative_data_fraction</b></td>\n",
       "<td><b>lower_threshold</b></td>\n",
       "<td><b>lift</b></td>\n",
       "<td><b>cumulative_lift</b></td>\n",
       "<td><b>response_rate</b></td>\n",
       "<td><b>cumulative_response_rate</b></td>\n",
       "<td><b>capture_rate</b></td>\n",
       "<td><b>cumulative_capture_rate</b></td>\n",
       "<td><b>gain</b></td>\n",
       "<td><b>cumulative_gain</b></td></tr>\n",
       "<tr><td></td>\n",
       "<td>1</td>\n",
       "<td>0.0105459</td>\n",
       "<td>0.8347839</td>\n",
       "<td>0.8459520</td>\n",
       "<td>0.8459520</td>\n",
       "<td>0.6470588</td>\n",
       "<td>0.6470588</td>\n",
       "<td>0.0089213</td>\n",
       "<td>0.0089213</td>\n",
       "<td>-15.4047994</td>\n",
       "<td>-15.4047994</td></tr>\n",
       "<tr><td></td>\n",
       "<td>2</td>\n",
       "<td>0.0229529</td>\n",
       "<td>0.8157155</td>\n",
       "<td>1.2420114</td>\n",
       "<td>1.0600381</td>\n",
       "<td>0.95</td>\n",
       "<td>0.8108108</td>\n",
       "<td>0.0154096</td>\n",
       "<td>0.0243309</td>\n",
       "<td>24.2011354</td>\n",
       "<td>6.0038140</td></tr>\n",
       "<tr><td></td>\n",
       "<td>3</td>\n",
       "<td>0.0303970</td>\n",
       "<td>0.8064694</td>\n",
       "<td>1.0894836</td>\n",
       "<td>1.0672493</td>\n",
       "<td>0.8333333</td>\n",
       "<td>0.8163265</td>\n",
       "<td>0.0081103</td>\n",
       "<td>0.0324412</td>\n",
       "<td>8.9483644</td>\n",
       "<td>6.7249284</td></tr>\n",
       "<tr><td></td>\n",
       "<td>4</td>\n",
       "<td>0.0403226</td>\n",
       "<td>0.7981604</td>\n",
       "<td>1.0622466</td>\n",
       "<td>1.0660178</td>\n",
       "<td>0.8125</td>\n",
       "<td>0.8153846</td>\n",
       "<td>0.0105434</td>\n",
       "<td>0.0429846</td>\n",
       "<td>6.2246553</td>\n",
       "<td>6.6017843</td></tr>\n",
       "<tr><td></td>\n",
       "<td>5</td>\n",
       "<td>0.0545906</td>\n",
       "<td>0.7928328</td>\n",
       "<td>1.2505377</td>\n",
       "<td>1.1142446</td>\n",
       "<td>0.9565217</td>\n",
       "<td>0.8522727</td>\n",
       "<td>0.0178427</td>\n",
       "<td>0.0608273</td>\n",
       "<td>25.0537748</td>\n",
       "<td>11.4244636</td></tr>\n",
       "<tr><td></td>\n",
       "<td>6</td>\n",
       "<td>0.1805211</td>\n",
       "<td>0.7775160</td>\n",
       "<td>0.9918058</td>\n",
       "<td>1.0288320</td>\n",
       "<td>0.7586207</td>\n",
       "<td>0.7869416</td>\n",
       "<td>0.1248986</td>\n",
       "<td>0.1857259</td>\n",
       "<td>-0.8194200</td>\n",
       "<td>2.8831977</td></tr>\n",
       "<tr><td></td>\n",
       "<td>7</td>\n",
       "<td>0.2034739</td>\n",
       "<td>0.7753779</td>\n",
       "<td>0.9186997</td>\n",
       "<td>1.0164085</td>\n",
       "<td>0.7027027</td>\n",
       "<td>0.7774390</td>\n",
       "<td>0.0210868</td>\n",
       "<td>0.2068127</td>\n",
       "<td>-8.1300278</td>\n",
       "<td>1.6408522</td></tr>\n",
       "<tr><td></td>\n",
       "<td>8</td>\n",
       "<td>0.3548387</td>\n",
       "<td>0.7598765</td>\n",
       "<td>1.0126840</td>\n",
       "<td>1.0148197</td>\n",
       "<td>0.7745902</td>\n",
       "<td>0.7762238</td>\n",
       "<td>0.1532847</td>\n",
       "<td>0.3600973</td>\n",
       "<td>1.2683978</td>\n",
       "<td>1.4819730</td></tr>\n",
       "<tr><td></td>\n",
       "<td>9</td>\n",
       "<td>0.5055831</td>\n",
       "<td>0.7569835</td>\n",
       "<td>1.0114712</td>\n",
       "<td>1.0138213</td>\n",
       "<td>0.7736626</td>\n",
       "<td>0.7754601</td>\n",
       "<td>0.1524736</td>\n",
       "<td>0.5125710</td>\n",
       "<td>1.1471235</td>\n",
       "<td>1.3821345</td></tr>\n",
       "<tr><td></td>\n",
       "<td>10</td>\n",
       "<td>0.6290323</td>\n",
       "<td>0.7492397</td>\n",
       "<td>0.9723231</td>\n",
       "<td>1.0056772</td>\n",
       "<td>0.7437186</td>\n",
       "<td>0.7692308</td>\n",
       "<td>0.1200324</td>\n",
       "<td>0.6326034</td>\n",
       "<td>-2.7676908</td>\n",
       "<td>0.5677210</td></tr>\n",
       "<tr><td></td>\n",
       "<td>11</td>\n",
       "<td>0.7456576</td>\n",
       "<td>0.7460779</td>\n",
       "<td>0.9874894</td>\n",
       "<td>1.0028325</td>\n",
       "<td>0.7553191</td>\n",
       "<td>0.7670549</td>\n",
       "<td>0.1151663</td>\n",
       "<td>0.7477697</td>\n",
       "<td>-1.2510569</td>\n",
       "<td>0.2832532</td></tr>\n",
       "<tr><td></td>\n",
       "<td>12</td>\n",
       "<td>0.9088089</td>\n",
       "<td>0.7426044</td>\n",
       "<td>1.0041477</td>\n",
       "<td>1.0030686</td>\n",
       "<td>0.7680608</td>\n",
       "<td>0.7672355</td>\n",
       "<td>0.1638281</td>\n",
       "<td>0.9115977</td>\n",
       "<td>0.4147663</td>\n",
       "<td>0.3068628</td></tr>\n",
       "<tr><td></td>\n",
       "<td>13</td>\n",
       "<td>1.0</td>\n",
       "<td>0.4350759</td>\n",
       "<td>0.9694181</td>\n",
       "<td>1.0</td>\n",
       "<td>0.7414966</td>\n",
       "<td>0.7648883</td>\n",
       "<td>0.0884023</td>\n",
       "<td>1.0</td>\n",
       "<td>-3.0581900</td>\n",
       "<td>0.0</td></tr></table></div>"
      ],
      "text/plain": [
       "    group    cumulative_data_fraction    lower_threshold    lift      cumulative_lift    response_rate    cumulative_response_rate    capture_rate    cumulative_capture_rate    gain      cumulative_gain\n",
       "--  -------  --------------------------  -----------------  --------  -----------------  ---------------  --------------------------  --------------  -------------------------  --------  -----------------\n",
       "    1        0.0105459                   0.834784           0.845952  0.845952           0.647059         0.647059                    0.00892133      0.00892133                 -15.4048  -15.4048\n",
       "    2        0.0229529                   0.815716           1.24201   1.06004            0.95             0.810811                    0.0154096       0.0243309                  24.2011   6.00381\n",
       "    3        0.030397                    0.806469           1.08948   1.06725            0.833333         0.816327                    0.0081103       0.0324412                  8.94836   6.72493\n",
       "    4        0.0403226                   0.79816            1.06225   1.06602            0.8125           0.815385                    0.0105434       0.0429846                  6.22466   6.60178\n",
       "    5        0.0545906                   0.792833           1.25054   1.11424            0.956522         0.852273                    0.0178427       0.0608273                  25.0538   11.4245\n",
       "    6        0.180521                    0.777516           0.991806  1.02883            0.758621         0.786942                    0.124899        0.185726                   -0.81942  2.8832\n",
       "    7        0.203474                    0.775378           0.9187    1.01641            0.702703         0.777439                    0.0210868       0.206813                   -8.13003  1.64085\n",
       "    8        0.354839                    0.759877           1.01268   1.01482            0.77459          0.776224                    0.153285        0.360097                   1.2684    1.48197\n",
       "    9        0.505583                    0.756984           1.01147   1.01382            0.773663         0.77546                     0.152474        0.512571                   1.14712   1.38213\n",
       "    10       0.629032                    0.74924            0.972323  1.00568            0.743719         0.769231                    0.120032        0.632603                   -2.76769  0.567721\n",
       "    11       0.745658                    0.746078           0.987489  1.00283            0.755319         0.767055                    0.115166        0.74777                    -1.25106  0.283253\n",
       "    12       0.908809                    0.742604           1.00415   1.00307            0.768061         0.767235                    0.163828        0.911598                   0.414766  0.306863\n",
       "    13       1                           0.435076           0.969418  1                  0.741497         0.764888                    0.0884023       1                          -3.05819  0"
      ]
     },
     "metadata": {},
     "output_type": "display_data"
    },
    {
     "name": "stdout",
     "output_type": "stream",
     "text": [
      "\n",
      "Scoring History: \n"
     ]
    },
    {
     "data": {
      "text/html": [
       "<div style=\"overflow:auto\"><table style=\"width:50%\"><tr><td><b></b></td>\n",
       "<td><b>timestamp</b></td>\n",
       "<td><b>duration</b></td>\n",
       "<td><b>number_of_trees</b></td>\n",
       "<td><b>training_rmse</b></td>\n",
       "<td><b>training_logloss</b></td>\n",
       "<td><b>training_auc</b></td>\n",
       "<td><b>training_lift</b></td>\n",
       "<td><b>training_classification_error</b></td>\n",
       "<td><b>validation_rmse</b></td>\n",
       "<td><b>validation_logloss</b></td>\n",
       "<td><b>validation_auc</b></td>\n",
       "<td><b>validation_lift</b></td>\n",
       "<td><b>validation_classification_error</b></td></tr>\n",
       "<tr><td></td>\n",
       "<td>2017-01-11 11:30:06</td>\n",
       "<td> 0.021 sec</td>\n",
       "<td>0.0</td>\n",
       "<td>0.4303196</td>\n",
       "<td>0.5572164</td>\n",
       "<td>0.5</td>\n",
       "<td>1.0</td>\n",
       "<td>0.2453924</td>\n",
       "<td>0.4241932</td>\n",
       "<td>0.5456676</td>\n",
       "<td>0.5</td>\n",
       "<td>1.0</td>\n",
       "<td>0.2351117</td></tr>\n",
       "<tr><td></td>\n",
       "<td>2017-01-11 11:30:06</td>\n",
       "<td> 0.047 sec</td>\n",
       "<td>1.0</td>\n",
       "<td>0.4296750</td>\n",
       "<td>0.5557783</td>\n",
       "<td>0.5481050</td>\n",
       "<td>1.2770033</td>\n",
       "<td>0.2433216</td>\n",
       "<td>0.4240096</td>\n",
       "<td>0.5452718</td>\n",
       "<td>0.5144787</td>\n",
       "<td>1.0023250</td>\n",
       "<td>0.2351117</td></tr>\n",
       "<tr><td></td>\n",
       "<td>2017-01-11 11:30:06</td>\n",
       "<td> 0.077 sec</td>\n",
       "<td>2.0</td>\n",
       "<td>0.4291571</td>\n",
       "<td>0.5546757</td>\n",
       "<td>0.5499353</td>\n",
       "<td>1.2770033</td>\n",
       "<td>0.2433216</td>\n",
       "<td>0.4239788</td>\n",
       "<td>0.5452193</td>\n",
       "<td>0.5102845</td>\n",
       "<td>1.0056772</td>\n",
       "<td>0.2351117</td></tr>\n",
       "<tr><td></td>\n",
       "<td>2017-01-11 11:30:06</td>\n",
       "<td> 0.108 sec</td>\n",
       "<td>3.0</td>\n",
       "<td>0.4287301</td>\n",
       "<td>0.5537799</td>\n",
       "<td>0.5514084</td>\n",
       "<td>1.2770033</td>\n",
       "<td>0.2433216</td>\n",
       "<td>0.4239850</td>\n",
       "<td>0.5452405</td>\n",
       "<td>0.5077091</td>\n",
       "<td>0.9684299</td>\n",
       "<td>0.2351117</td></tr>\n",
       "<tr><td></td>\n",
       "<td>2017-01-11 11:30:06</td>\n",
       "<td> 0.137 sec</td>\n",
       "<td>4.0</td>\n",
       "<td>0.4283833</td>\n",
       "<td>0.5530480</td>\n",
       "<td>0.5514359</td>\n",
       "<td>1.2786941</td>\n",
       "<td>0.2433216</td>\n",
       "<td>0.4240916</td>\n",
       "<td>0.5454477</td>\n",
       "<td>0.5075422</td>\n",
       "<td>1.0056772</td>\n",
       "<td>0.2351117</td></tr>\n",
       "<tr><td></td>\n",
       "<td>2017-01-11 11:30:06</td>\n",
       "<td> 0.168 sec</td>\n",
       "<td>5.0</td>\n",
       "<td>0.4262929</td>\n",
       "<td>0.5483729</td>\n",
       "<td>0.5910947</td>\n",
       "<td>1.3251921</td>\n",
       "<td>0.2350383</td>\n",
       "<td>0.4237468</td>\n",
       "<td>0.5447306</td>\n",
       "<td>0.5141534</td>\n",
       "<td>1.0056772</td>\n",
       "<td>0.2351117</td></tr>\n",
       "<tr><td></td>\n",
       "<td>2017-01-11 11:30:06</td>\n",
       "<td> 0.206 sec</td>\n",
       "<td>6.0</td>\n",
       "<td>0.4258334</td>\n",
       "<td>0.5473350</td>\n",
       "<td>0.5999396</td>\n",
       "<td>1.3251921</td>\n",
       "<td>0.2346241</td>\n",
       "<td>0.4239161</td>\n",
       "<td>0.5450882</td>\n",
       "<td>0.5109179</td>\n",
       "<td>0.7690473</td>\n",
       "<td>0.2351117</td></tr>\n",
       "<tr><td></td>\n",
       "<td>2017-01-11 11:30:06</td>\n",
       "<td> 0.250 sec</td>\n",
       "<td>7.0</td>\n",
       "<td>0.4242403</td>\n",
       "<td>0.5439365</td>\n",
       "<td>0.6058840</td>\n",
       "<td>1.3251921</td>\n",
       "<td>0.2346241</td>\n",
       "<td>0.4236696</td>\n",
       "<td>0.5446264</td>\n",
       "<td>0.5102727</td>\n",
       "<td>0.7690473</td>\n",
       "<td>0.2351117</td></tr>\n",
       "<tr><td></td>\n",
       "<td>2017-01-11 11:30:06</td>\n",
       "<td> 0.290 sec</td>\n",
       "<td>8.0</td>\n",
       "<td>0.4239245</td>\n",
       "<td>0.5431717</td>\n",
       "<td>0.6171001</td>\n",
       "<td>1.3251921</td>\n",
       "<td>0.2346241</td>\n",
       "<td>0.4237246</td>\n",
       "<td>0.5447200</td>\n",
       "<td>0.5152940</td>\n",
       "<td>0.7690473</td>\n",
       "<td>0.2351117</td></tr>\n",
       "<tr><td></td>\n",
       "<td>2017-01-11 11:30:06</td>\n",
       "<td> 0.334 sec</td>\n",
       "<td>9.0</td>\n",
       "<td>0.4226861</td>\n",
       "<td>0.5405404</td>\n",
       "<td>0.6183451</td>\n",
       "<td>1.3251921</td>\n",
       "<td>0.2344171</td>\n",
       "<td>0.4234680</td>\n",
       "<td>0.5442229</td>\n",
       "<td>0.5176394</td>\n",
       "<td>0.8459520</td>\n",
       "<td>0.2351117</td></tr>\n",
       "<tr><td></td>\n",
       "<td>2017-01-11 11:30:06</td>\n",
       "<td> 0.379 sec</td>\n",
       "<td>10.0</td>\n",
       "<td>0.4222468</td>\n",
       "<td>0.5394880</td>\n",
       "<td>0.6297692</td>\n",
       "<td>1.3251921</td>\n",
       "<td>0.2346241</td>\n",
       "<td>0.4235667</td>\n",
       "<td>0.5444538</td>\n",
       "<td>0.5168893</td>\n",
       "<td>0.8459520</td>\n",
       "<td>0.2351117</td></tr></table></div>"
      ],
      "text/plain": [
       "    timestamp            duration    number_of_trees    training_rmse    training_logloss    training_auc    training_lift    training_classification_error    validation_rmse    validation_logloss    validation_auc    validation_lift    validation_classification_error\n",
       "--  -------------------  ----------  -----------------  ---------------  ------------------  --------------  ---------------  -------------------------------  -----------------  --------------------  ----------------  -----------------  ---------------------------------\n",
       "    2017-01-11 11:30:06  0.021 sec   0                  0.43032          0.557216            0.5             1                0.245392                         0.424193           0.545668              0.5               1                  0.235112\n",
       "    2017-01-11 11:30:06  0.047 sec   1                  0.429675         0.555778            0.548105        1.277            0.243322                         0.42401            0.545272              0.514479          1.00232            0.235112\n",
       "    2017-01-11 11:30:06  0.077 sec   2                  0.429157         0.554676            0.549935        1.277            0.243322                         0.423979           0.545219              0.510284          1.00568            0.235112\n",
       "    2017-01-11 11:30:06  0.108 sec   3                  0.42873          0.55378             0.551408        1.277            0.243322                         0.423985           0.545241              0.507709          0.96843            0.235112\n",
       "    2017-01-11 11:30:06  0.137 sec   4                  0.428383         0.553048            0.551436        1.27869          0.243322                         0.424092           0.545448              0.507542          1.00568            0.235112\n",
       "    2017-01-11 11:30:06  0.168 sec   5                  0.426293         0.548373            0.591095        1.32519          0.235038                         0.423747           0.544731              0.514153          1.00568            0.235112\n",
       "    2017-01-11 11:30:06  0.206 sec   6                  0.425833         0.547335            0.59994         1.32519          0.234624                         0.423916           0.545088              0.510918          0.769047           0.235112\n",
       "    2017-01-11 11:30:06  0.250 sec   7                  0.42424          0.543937            0.605884        1.32519          0.234624                         0.42367            0.544626              0.510273          0.769047           0.235112\n",
       "    2017-01-11 11:30:06  0.290 sec   8                  0.423924         0.543172            0.6171          1.32519          0.234624                         0.423725           0.54472               0.515294          0.769047           0.235112\n",
       "    2017-01-11 11:30:06  0.334 sec   9                  0.422686         0.54054             0.618345        1.32519          0.234417                         0.423468           0.544223              0.517639          0.845952           0.235112\n",
       "    2017-01-11 11:30:06  0.379 sec   10                 0.422247         0.539488            0.629769        1.32519          0.234624                         0.423567           0.544454              0.516889          0.845952           0.235112"
      ]
     },
     "metadata": {},
     "output_type": "display_data"
    },
    {
     "name": "stdout",
     "output_type": "stream",
     "text": [
      "Variable Importances: \n"
     ]
    },
    {
     "data": {
      "text/html": [
       "<div style=\"overflow:auto\"><table style=\"width:50%\"><tr><td><b>variable</b></td>\n",
       "<td><b>relative_importance</b></td>\n",
       "<td><b>scaled_importance</b></td>\n",
       "<td><b>percentage</b></td></tr>\n",
       "<tr><td>C1</td>\n",
       "<td>1764.7327881</td>\n",
       "<td>1.0</td>\n",
       "<td>1.0</td></tr></table></div>"
      ],
      "text/plain": [
       "variable    relative_importance    scaled_importance    percentage\n",
       "----------  ---------------------  -------------------  ------------\n",
       "C1          1764.73                1                    1"
      ]
     },
     "metadata": {},
     "output_type": "display_data"
    },
    {
     "data": {
      "text/plain": [
       "<bound method ?.recall of >"
      ]
     },
     "execution_count": 66,
     "metadata": {},
     "output_type": "execute_result"
    }
   ],
   "source": [
    "gbm_model.recall"
   ]
  },
  {
   "cell_type": "code",
   "execution_count": 67,
   "metadata": {
    "collapsed": false
   },
   "outputs": [],
   "source": [
    "fpr, tpr = gbm_model.roc(valid=True)\n",
    "roc_valid = gbm_model.roc(valid=True)\n",
    "roc_train= gbm_model.roc()"
   ]
  },
  {
   "cell_type": "code",
   "execution_count": 68,
   "metadata": {
    "collapsed": false
   },
   "outputs": [
    {
     "data": {
      "text/plain": [
       "[<matplotlib.lines.Line2D at 0x1245b7f0>]"
      ]
     },
     "execution_count": 68,
     "metadata": {},
     "output_type": "execute_result"
    },
    {
     "data": {
      "image/png": "[encoded data removed]",
      "text/plain": [
       "<matplotlib.figure.Figure at 0x1215b898>"
      ]
     },
     "metadata": {},
     "output_type": "display_data"
    }
   ],
   "source": [
    "plt.plot(roc_valid[0],roc_valid[1])\n",
    "plt.plot(roc_train[0],roc_train[1])\n",
    "plt.plot(np.arange(0.0,1.1,0.1),np.arange(0.0,1.1,0.1))"
   ]
  },
  {
   "cell_type": "markdown",
   "metadata": {
    "collapsed": true
   },
   "source": [
    "# include Description column"
   ]
  },
  {
   "cell_type": "code",
   "execution_count": 69,
   "metadata": {
    "collapsed": false
   },
   "outputs": [],
   "source": [
    "des_df = pd.read_csv('D:/marco/vr_chat-master/Marco/train_yn.csv')"
   ]
  },
  {
   "cell_type": "code",
   "execution_count": 74,
   "metadata": {
    "collapsed": false
   },
   "outputs": [
    {
     "name": "stdout",
     "output_type": "stream",
     "text": [
      "['description' 'entity' 'numeric' 'person' 'location']\n",
      "[0, 1, 2, 3, 4]\n"
     ]
    }
   ],
   "source": [
    "print des_df['query_type'].unique()\n",
    "print range(0,len(des_df['query_type'].unique()))"
   ]
  },
  {
   "cell_type": "code",
   "execution_count": 85,
   "metadata": {
    "collapsed": false
   },
   "outputs": [],
   "source": [
    "des_df=des_df.replace(des_df['query_type'].unique(),range(0,len(des_df['query_type'].unique())))\n",
    "# des_df['query_type']"
   ]
  },
  {
   "cell_type": "code",
   "execution_count": 92,
   "metadata": {
    "collapsed": false
   },
   "outputs": [
    {
     "name": "stdout",
     "output_type": "stream",
     "text": [
      "Parse progress: |█████████████████████████████████████████████████████████| 100%\n"
     ]
    }
   ],
   "source": [
    "hdf=h2o.H2OFrame.cbind(hdf, h2o.H2OFrame(list(des_df['query_type'])))\n"
   ]
  },
  {
   "cell_type": "code",
   "execution_count": 93,
   "metadata": {
    "collapsed": false
   },
   "outputs": [],
   "source": [
    "hdf_train, hdf_validate=hdf.split_frame(ratios=[0.75], seed =1)"
   ]
  },
  {
   "cell_type": "code",
   "execution_count": 94,
   "metadata": {
    "collapsed": true
   },
   "outputs": [],
   "source": [
    "from h2o.estimators.naive_bayes import H2ONaiveBayesEstimator\n",
    "from h2o.estimators.gbm import H2OGradientBoostingEstimator"
   ]
  },
  {
   "cell_type": "code",
   "execution_count": 95,
   "metadata": {
    "collapsed": false
   },
   "outputs": [
    {
     "name": "stdout",
     "output_type": "stream",
     "text": [
      "gbm Model Build progress: |███████████████████████████████████████████████| 100%\n"
     ]
    }
   ],
   "source": [
    "gbm_model = H2OGradientBoostingEstimator(ntrees=10,seed =1, model_id = 'gbm10')\n",
    "gbm_model.train(x = hdf.col_names[0], y = hdf.col_names[1], training_frame=hdf_train, validation_frame=hdf_validate)"
   ]
  },
  {
   "cell_type": "code",
   "execution_count": 96,
   "metadata": {
    "collapsed": false
   },
   "outputs": [
    {
     "name": "stdout",
     "output_type": "stream",
     "text": [
      "AUC:  0.629769183028\n",
      "accuracy:  [[0.7063278899952814, 0.765997100849037]]\n"
     ]
    },
    {
     "data": {
      "image/png": "[encoded data removed]",
      "text/plain": [
       "<matplotlib.figure.Figure at 0x11fecda0>"
      ]
     },
     "metadata": {},
     "output_type": "display_data"
    }
   ],
   "source": [
    "print \"AUC: \", gbm_model.auc()\n",
    "print \"accuracy: \", gbm_model.accuracy()\n",
    "gbm_model.plot()"
   ]
  },
  {
   "cell_type": "code",
   "execution_count": 98,
   "metadata": {
    "collapsed": true
   },
   "outputs": [],
   "source": [
    "fpr, tpr = gbm_model.roc(valid=True)\n",
    "roc_valid = gbm_model.roc(valid=True)\n",
    "roc_train= gbm_model.roc()"
   ]
  },
  {
   "cell_type": "code",
   "execution_count": 99,
   "metadata": {
    "collapsed": false
   },
   "outputs": [
    {
     "data": {
      "text/plain": [
       "[<matplotlib.lines.Line2D at 0xefee2e8>]"
      ]
     },
     "execution_count": 99,
     "metadata": {},
     "output_type": "execute_result"
    },
    {
     "data": {
      "image/png": "[encoded data removed]",
      "text/plain": [
       "<matplotlib.figure.Figure at 0xf1605c0>"
      ]
     },
     "metadata": {},
     "output_type": "display_data"
    }
   ],
   "source": [
    "plt.plot(roc_valid[0],roc_valid[1])\n",
    "plt.plot(roc_train[0],roc_train[1])\n",
    "plt.plot(np.arange(0.0,1.1,0.1),np.arange(0.0,1.1,0.1))"
   ]
  }
 ],
 "metadata": {
  "anaconda-cloud": {},
  "kernelspec": {
   "display_name": "Python 2",
   "language": "python",
   "name": "python2"
  },
  "language_info": {
   "codemirror_mode": {
    "name": "ipython",
    "version": 2
   },
   "file_extension": ".py",
   "mimetype": "text/x-python",
   "name": "python",
   "nbconvert_exporter": "python",
   "pygments_lexer": "ipython2",
   "version": "2.7.11"
  }
 },
 "nbformat": 4,
 "nbformat_minor": 1
}
