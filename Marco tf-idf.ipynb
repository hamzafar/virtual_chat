{
 "cells": [
  {
   "cell_type": "code",
   "execution_count": 1,
   "metadata": {
    "collapsed": true
   },
   "outputs": [],
   "source": [
    "import pandas as pd\n",
    "import nltk\n",
    "import string\n",
    "import re\n",
    "import h2o\n",
    "import matplotlib.pyplot as plt\n",
    "%matplotlib inline\n",
    "import numpy as np"
   ]
  },
  {
   "cell_type": "markdown",
   "metadata": {},
   "source": [
    "http://www.cs.duke.edu/courses/spring14/compsci290/assignments/lab02.html"
   ]
  },
  {
   "cell_type": "code",
   "execution_count": 2,
   "metadata": {
    "collapsed": false
   },
   "outputs": [
    {
     "data": {
      "text/html": [
       "<div>\n",
       "<table border=\"1\" class=\"dataframe\">\n",
       "  <thead>\n",
       "    <tr style=\"text-align: right;\">\n",
       "      <th></th>\n",
       "      <th>passages</th>\n",
       "      <th>query</th>\n",
       "      <th>query_id</th>\n",
       "      <th>query_type</th>\n",
       "      <th>answers_yn</th>\n",
       "    </tr>\n",
       "  </thead>\n",
       "  <tbody>\n",
       "    <tr>\n",
       "      <th>0</th>\n",
       "      <td>[Row(is_selected=0, passage_text=u'In his youn...</td>\n",
       "      <td>was ronald reagan a democrat</td>\n",
       "      <td>19700</td>\n",
       "      <td>description</td>\n",
       "      <td>Yes</td>\n",
       "    </tr>\n",
       "    <tr>\n",
       "      <th>1</th>\n",
       "      <td>[Row(is_selected=0, passage_text=u'So, in the ...</td>\n",
       "      <td>do game shows pay their contestants</td>\n",
       "      <td>19749</td>\n",
       "      <td>description</td>\n",
       "      <td>Yes</td>\n",
       "    </tr>\n",
       "    <tr>\n",
       "      <th>2</th>\n",
       "      <td>[Row(is_selected=0, passage_text=u'Even though...</td>\n",
       "      <td>does peanut butter contain cholesterol</td>\n",
       "      <td>19761</td>\n",
       "      <td>description</td>\n",
       "      <td>No</td>\n",
       "    </tr>\n",
       "    <tr>\n",
       "      <th>3</th>\n",
       "      <td>[Row(is_selected=0, passage_text=u'When turnin...</td>\n",
       "      <td>can you take left hand lane to turn right on a...</td>\n",
       "      <td>19762</td>\n",
       "      <td>description</td>\n",
       "      <td>No</td>\n",
       "    </tr>\n",
       "    <tr>\n",
       "      <th>4</th>\n",
       "      <td>[Row(is_selected=0, passage_text=u'Assault on ...</td>\n",
       "      <td>is armed assault a felony</td>\n",
       "      <td>19774</td>\n",
       "      <td>description</td>\n",
       "      <td>Yes</td>\n",
       "    </tr>\n",
       "  </tbody>\n",
       "</table>\n",
       "</div>"
      ],
      "text/plain": [
       "                                            passages  \\\n",
       "0  [Row(is_selected=0, passage_text=u'In his youn...   \n",
       "1  [Row(is_selected=0, passage_text=u'So, in the ...   \n",
       "2  [Row(is_selected=0, passage_text=u'Even though...   \n",
       "3  [Row(is_selected=0, passage_text=u'When turnin...   \n",
       "4  [Row(is_selected=0, passage_text=u'Assault on ...   \n",
       "\n",
       "                                               query  query_id   query_type  \\\n",
       "0                       was ronald reagan a democrat     19700  description   \n",
       "1                do game shows pay their contestants     19749  description   \n",
       "2             does peanut butter contain cholesterol     19761  description   \n",
       "3  can you take left hand lane to turn right on a...     19762  description   \n",
       "4                          is armed assault a felony     19774  description   \n",
       "\n",
       "  answers_yn  \n",
       "0        Yes  \n",
       "1        Yes  \n",
       "2         No  \n",
       "3         No  \n",
       "4        Yes  "
      ]
     },
     "execution_count": 2,
     "metadata": {},
     "output_type": "execute_result"
    }
   ],
   "source": [
    "tmp_df = pd.read_csv('D:/marco/vr_chat-master/Marco/train_yn.csv')\n",
    "tmp_df.head()"
   ]
  },
  {
   "cell_type": "code",
   "execution_count": 3,
   "metadata": {
    "collapsed": true
   },
   "outputs": [],
   "source": [
    "from nltk.corpus import stopwords \n",
    "\n",
    "stop_words = set(stopwords.words('english'))\n",
    "\n",
    "from sklearn.feature_extraction.text import TfidfVectorizer\n",
    "from sklearn.feature_extraction.text import TfidfTransformer\n",
    "from nltk.stem.porter import PorterStemmer\n",
    "\n",
    "from nltk.stem.porter import *\n"
   ]
  },
  {
   "cell_type": "code",
   "execution_count": 4,
   "metadata": {
    "collapsed": false
   },
   "outputs": [],
   "source": [
    "def tf_cln(sent = tmp_df.iloc[0][0],cln=True):\n",
    "\n",
    "    # sent = tmp_df.iloc[0][0]\n",
    "    \n",
    "    lowers= sent.lower()\n",
    "    # print lower\n",
    "    no_punctuation = lowers.translate(None, string.punctuation)\n",
    "    slt_sent = re.findall(r'passagetext(.*?)url',no_punctuation)\n",
    "    \n",
    "    if(cln==True):\n",
    "        slt_sent = re.findall(r'passage_text(.*?)url',sent)\n",
    "#         print slt_sent\n",
    "    else:\n",
    "        slt_sent = sent\n",
    "        \n",
    "    token = nltk.word_tokenize(str(slt_sent))\n",
    "    filtered_sentence = [w for w in token if not w in stop_words]\n",
    "#     print filtered_sentence\n",
    "\n",
    "    for i in filtered_sentence:\n",
    "        if re.findall(r'^\\W.*',str(i)):\n",
    "    #         print re.findall(r'^\\W',i)\n",
    "            stop_words.add(i)\n",
    "        \n",
    "#     for i in re.findall(r'\\W',str(filtered_sentence)):\n",
    "#         stop_words.add(i)\n",
    "#         print i\n",
    "\n",
    "    stop_words.add('``')\n",
    "    filtered_sentence = [w for w in token if not w in stop_words]\n",
    "\n",
    "    tf = nltk.FreqDist(filtered_sentence)\n",
    "    \n",
    "    return dict(tf)"
   ]
  },
  {
   "cell_type": "code",
   "execution_count": 5,
   "metadata": {
    "collapsed": false
   },
   "outputs": [],
   "source": [
    "def get_tf_idf(dic):\n",
    "    transformer = TfidfTransformer(smooth_idf=False)\n",
    "    tf_idf=transformer.fit_transform(dic.values())\n",
    "    return tf_idf.toarray().tolist()"
   ]
  },
  {
   "cell_type": "code",
   "execution_count": 6,
   "metadata": {
    "collapsed": false
   },
   "outputs": [],
   "source": [
    "lst_tfidf_psg=[]\n",
    "for i in tmp_df.iloc[:,0]:\n",
    "    lst_tfidf_psg.append(get_tf_idf(tf_cln(i)))"
   ]
  },
  {
   "cell_type": "code",
   "execution_count": 7,
   "metadata": {
    "collapsed": false
   },
   "outputs": [],
   "source": [
    "lst_tfidf_qry = []\n",
    "for i in tmp_df.iloc[:,1]:\n",
    "    lst_tfidf_qry.append(get_tf_idf(tf_cln(i,False)))"
   ]
  },
  {
   "cell_type": "code",
   "execution_count": 8,
   "metadata": {
    "collapsed": false
   },
   "outputs": [],
   "source": [
    "tmp_df = tmp_df.replace(tmp_df['query_type'].unique(),range(0,len(tmp_df['query_type'].unique())))\n",
    "tmp_df['passages'] = lst_tfidf_psg\n",
    "tmp_df['query'] = lst_tfidf_qry\n",
    "tmp_df = tmp_df.replace(['yes', 'no'], ['Yes', 'No'])\n",
    "tmp_df = tmp_df.replace(['Yes', 'No'], ['1', '0'])"
   ]
  },
  {
   "cell_type": "code",
   "execution_count": 9,
   "metadata": {
    "collapsed": false
   },
   "outputs": [],
   "source": [
    "del(tmp_df['query_id'])"
   ]
  },
  {
   "cell_type": "code",
   "execution_count": 10,
   "metadata": {
    "collapsed": false
   },
   "outputs": [
    {
     "data": {
      "text/html": [
       "<div>\n",
       "<table border=\"1\" class=\"dataframe\">\n",
       "  <thead>\n",
       "    <tr style=\"text-align: right;\">\n",
       "      <th></th>\n",
       "      <th>passages</th>\n",
       "      <th>query</th>\n",
       "      <th>query_type</th>\n",
       "      <th>answers_yn</th>\n",
       "    </tr>\n",
       "  </thead>\n",
       "  <tbody>\n",
       "    <tr>\n",
       "      <th>0</th>\n",
       "      <td>[[0.034523833988, 0.069047667976, 0.0345238339...</td>\n",
       "      <td>[[0.57735026919, 0.57735026919, 0.57735026919]]</td>\n",
       "      <td>0</td>\n",
       "      <td>1</td>\n",
       "    </tr>\n",
       "    <tr>\n",
       "      <th>1</th>\n",
       "      <td>[[0.0283410100633, 0.510138181139, 0.170046060...</td>\n",
       "      <td>[[0.5, 0.5, 0.5, 0.5]]</td>\n",
       "      <td>0</td>\n",
       "      <td>1</td>\n",
       "    </tr>\n",
       "    <tr>\n",
       "      <th>2</th>\n",
       "      <td>[[0.0436020720197, 0.0872041440394, 0.08720414...</td>\n",
       "      <td>[[0.5, 0.5, 0.5, 0.5]]</td>\n",
       "      <td>0</td>\n",
       "      <td>0</td>\n",
       "    </tr>\n",
       "    <tr>\n",
       "      <th>3</th>\n",
       "      <td>[[0.025515518154, 0.025515518154, 0.0637887953...</td>\n",
       "      <td>[[0.333333333333, 0.333333333333, 0.3333333333...</td>\n",
       "      <td>0</td>\n",
       "      <td>0</td>\n",
       "    </tr>\n",
       "    <tr>\n",
       "      <th>4</th>\n",
       "      <td>[[0.0286534127531, 0.0286534127531, 0.02865341...</td>\n",
       "      <td>[[0.57735026919, 0.57735026919, 0.57735026919]]</td>\n",
       "      <td>0</td>\n",
       "      <td>1</td>\n",
       "    </tr>\n",
       "  </tbody>\n",
       "</table>\n",
       "</div>"
      ],
      "text/plain": [
       "                                            passages  \\\n",
       "0  [[0.034523833988, 0.069047667976, 0.0345238339...   \n",
       "1  [[0.0283410100633, 0.510138181139, 0.170046060...   \n",
       "2  [[0.0436020720197, 0.0872041440394, 0.08720414...   \n",
       "3  [[0.025515518154, 0.025515518154, 0.0637887953...   \n",
       "4  [[0.0286534127531, 0.0286534127531, 0.02865341...   \n",
       "\n",
       "                                               query  query_type answers_yn  \n",
       "0    [[0.57735026919, 0.57735026919, 0.57735026919]]           0          1  \n",
       "1                             [[0.5, 0.5, 0.5, 0.5]]           0          1  \n",
       "2                             [[0.5, 0.5, 0.5, 0.5]]           0          0  \n",
       "3  [[0.333333333333, 0.333333333333, 0.3333333333...           0          0  \n",
       "4    [[0.57735026919, 0.57735026919, 0.57735026919]]           0          1  "
      ]
     },
     "execution_count": 10,
     "metadata": {},
     "output_type": "execute_result"
    }
   ],
   "source": [
    "tmp_df.head()"
   ]
  },
  {
   "cell_type": "code",
   "execution_count": 106,
   "metadata": {
    "collapsed": false
   },
   "outputs": [
    {
     "data": {
      "text/plain": [
       "[[0.034523833987986266,\n",
       "  0.06904766797597253,\n",
       "  0.034523833987986266,\n",
       "  0.034523833987986266,\n",
       "  0.034523833987986266,\n",
       "  0.06904766797597253,\n",
       "  0.034523833987986266,\n",
       "  0.034523833987986266,\n",
       "  0.06904766797597253,\n",
       "  0.034523833987986266,\n",
       "  0.034523833987986266,\n",
       "  0.034523833987986266,\n",
       "  0.10357150196395881,\n",
       "  0.10357150196395881,\n",
       "  0.31071450589187644,\n",
       "  0.034523833987986266,\n",
       "  0.034523833987986266,\n",
       "  0.034523833987986266,\n",
       "  0.034523833987986266,\n",
       "  0.06904766797597253,\n",
       "  0.034523833987986266,\n",
       "  0.034523833987986266,\n",
       "  0.06904766797597253,\n",
       "  0.10357150196395881,\n",
       "  0.034523833987986266,\n",
       "  0.034523833987986266,\n",
       "  0.034523833987986266,\n",
       "  0.034523833987986266,\n",
       "  0.034523833987986266,\n",
       "  0.20714300392791762,\n",
       "  0.034523833987986266,\n",
       "  0.034523833987986266,\n",
       "  0.034523833987986266,\n",
       "  0.034523833987986266,\n",
       "  0.034523833987986266,\n",
       "  0.034523833987986266,\n",
       "  0.034523833987986266,\n",
       "  0.034523833987986266,\n",
       "  0.034523833987986266,\n",
       "  0.034523833987986266,\n",
       "  0.034523833987986266,\n",
       "  0.034523833987986266,\n",
       "  0.034523833987986266,\n",
       "  0.06904766797597253,\n",
       "  0.034523833987986266,\n",
       "  0.034523833987986266,\n",
       "  0.06904766797597253,\n",
       "  0.034523833987986266,\n",
       "  0.034523833987986266,\n",
       "  0.034523833987986266,\n",
       "  0.034523833987986266,\n",
       "  0.034523833987986266,\n",
       "  0.034523833987986266,\n",
       "  0.06904766797597253,\n",
       "  0.034523833987986266,\n",
       "  0.06904766797597253,\n",
       "  0.034523833987986266,\n",
       "  0.034523833987986266,\n",
       "  0.034523833987986266,\n",
       "  0.10357150196395881,\n",
       "  0.06904766797597253,\n",
       "  0.17261916993993134,\n",
       "  0.034523833987986266,\n",
       "  0.034523833987986266,\n",
       "  0.034523833987986266,\n",
       "  0.10357150196395881,\n",
       "  0.06904766797597253,\n",
       "  0.034523833987986266,\n",
       "  0.10357150196395881,\n",
       "  0.034523833987986266,\n",
       "  0.034523833987986266,\n",
       "  0.06904766797597253,\n",
       "  0.034523833987986266,\n",
       "  0.034523833987986266,\n",
       "  0.034523833987986266,\n",
       "  0.034523833987986266,\n",
       "  0.034523833987986266,\n",
       "  0.034523833987986266,\n",
       "  0.06904766797597253,\n",
       "  0.10357150196395881,\n",
       "  0.034523833987986266,\n",
       "  0.06904766797597253,\n",
       "  0.034523833987986266,\n",
       "  0.06904766797597253,\n",
       "  0.06904766797597253,\n",
       "  0.034523833987986266,\n",
       "  0.10357150196395881,\n",
       "  0.034523833987986266,\n",
       "  0.06904766797597253,\n",
       "  0.034523833987986266,\n",
       "  0.06904766797597253,\n",
       "  0.034523833987986266,\n",
       "  0.034523833987986266,\n",
       "  0.034523833987986266,\n",
       "  0.13809533595194506,\n",
       "  0.06904766797597253,\n",
       "  0.06904766797597253,\n",
       "  0.034523833987986266,\n",
       "  0.034523833987986266,\n",
       "  0.034523833987986266,\n",
       "  0.06904766797597253,\n",
       "  0.10357150196395881,\n",
       "  0.06904766797597253,\n",
       "  0.06904766797597253,\n",
       "  0.034523833987986266,\n",
       "  0.06904766797597253,\n",
       "  0.034523833987986266,\n",
       "  0.034523833987986266,\n",
       "  0.034523833987986266,\n",
       "  0.06904766797597253,\n",
       "  0.034523833987986266,\n",
       "  0.034523833987986266,\n",
       "  0.034523833987986266,\n",
       "  0.20714300392791762,\n",
       "  0.10357150196395881,\n",
       "  0.034523833987986266,\n",
       "  0.034523833987986266,\n",
       "  0.034523833987986266,\n",
       "  0.034523833987986266,\n",
       "  0.06904766797597253,\n",
       "  0.5178575098197941,\n",
       "  0.034523833987986266,\n",
       "  0.10357150196395881,\n",
       "  0.034523833987986266,\n",
       "  0.034523833987986266,\n",
       "  0.10357150196395881,\n",
       "  0.034523833987986266,\n",
       "  0.034523833987986266,\n",
       "  0.034523833987986266,\n",
       "  0.034523833987986266,\n",
       "  0.034523833987986266,\n",
       "  0.034523833987986266,\n",
       "  0.17261916993993134,\n",
       "  0.034523833987986266,\n",
       "  0.10357150196395881,\n",
       "  0.06904766797597253,\n",
       "  0.06904766797597253,\n",
       "  0.034523833987986266,\n",
       "  0.034523833987986266,\n",
       "  0.034523833987986266,\n",
       "  0.034523833987986266,\n",
       "  0.034523833987986266,\n",
       "  0.034523833987986266,\n",
       "  0.10357150196395881,\n",
       "  0.06904766797597253,\n",
       "  0.034523833987986266,\n",
       "  0.034523833987986266,\n",
       "  0.06904766797597253,\n",
       "  0.034523833987986266,\n",
       "  0.034523833987986266,\n",
       "  0.034523833987986266,\n",
       "  0.06904766797597253,\n",
       "  0.034523833987986266,\n",
       "  0.06904766797597253,\n",
       "  0.034523833987986266,\n",
       "  0.034523833987986266,\n",
       "  0.034523833987986266,\n",
       "  0.034523833987986266,\n",
       "  0.034523833987986266,\n",
       "  0.034523833987986266,\n",
       "  0.034523833987986266,\n",
       "  0.034523833987986266,\n",
       "  0.10357150196395881,\n",
       "  0.034523833987986266,\n",
       "  0.034523833987986266,\n",
       "  0.034523833987986266,\n",
       "  0.034523833987986266,\n",
       "  0.13809533595194506,\n",
       "  0.034523833987986266,\n",
       "  0.034523833987986266,\n",
       "  0.034523833987986266]]"
      ]
     },
     "execution_count": 106,
     "metadata": {},
     "output_type": "execute_result"
    }
   ],
   "source": [
    "tmp_df.iloc[0,0].tolist()"
   ]
  },
  {
   "cell_type": "code",
   "execution_count": 12,
   "metadata": {
    "collapsed": false
   },
   "outputs": [
    {
     "name": "stdout",
     "output_type": "stream",
     "text": [
      "Checking whether there is an H2O instance running at http://localhost:54321. connected.\n"
     ]
    },
    {
     "data": {
      "text/html": [
       "<div style=\"overflow:auto\"><table style=\"width:50%\"><tr><td>H2O cluster uptime:</td>\n",
       "<td>08 secs</td></tr>\n",
       "<tr><td>H2O cluster version:</td>\n",
       "<td>3.10.0.10</td></tr>\n",
       "<tr><td>H2O cluster version age:</td>\n",
       "<td>2 months and 10 days </td></tr>\n",
       "<tr><td>H2O cluster name:</td>\n",
       "<td>H2O_from_python_user_e0xgs4</td></tr>\n",
       "<tr><td>H2O cluster total nodes:</td>\n",
       "<td>1</td></tr>\n",
       "<tr><td>H2O cluster free memory:</td>\n",
       "<td>896 Mb</td></tr>\n",
       "<tr><td>H2O cluster total cores:</td>\n",
       "<td>2</td></tr>\n",
       "<tr><td>H2O cluster allowed cores:</td>\n",
       "<td>2</td></tr>\n",
       "<tr><td>H2O cluster status:</td>\n",
       "<td>accepting new members, healthy</td></tr>\n",
       "<tr><td>H2O connection url:</td>\n",
       "<td>http://localhost:54321</td></tr>\n",
       "<tr><td>H2O connection proxy:</td>\n",
       "<td>None</td></tr>\n",
       "<tr><td>Python version:</td>\n",
       "<td>2.7.11 final</td></tr></table></div>"
      ],
      "text/plain": [
       "--------------------------  ------------------------------\n",
       "H2O cluster uptime:         08 secs\n",
       "H2O cluster version:        3.10.0.10\n",
       "H2O cluster version age:    2 months and 10 days\n",
       "H2O cluster name:           H2O_from_python_user_e0xgs4\n",
       "H2O cluster total nodes:    1\n",
       "H2O cluster free memory:    896 Mb\n",
       "H2O cluster total cores:    2\n",
       "H2O cluster allowed cores:  2\n",
       "H2O cluster status:         accepting new members, healthy\n",
       "H2O connection url:         http://localhost:54321\n",
       "H2O connection proxy:\n",
       "Python version:             2.7.11 final\n",
       "--------------------------  ------------------------------"
      ]
     },
     "metadata": {},
     "output_type": "display_data"
    }
   ],
   "source": [
    "h2o.init()"
   ]
  },
  {
   "cell_type": "code",
   "execution_count": 94,
   "metadata": {
    "collapsed": true
   },
   "outputs": [],
   "source": [
    "h2o.H2OFrame?"
   ]
  },
  {
   "cell_type": "code",
   "execution_count": 13,
   "metadata": {
    "collapsed": false
   },
   "outputs": [
    {
     "ename": "ValueError",
     "evalue": "`python_obj` is not a list of flat lists!",
     "output_type": "error",
     "traceback": [
      "\u001b[1;31m---------------------------------------------------------------------------\u001b[0m",
      "\u001b[1;31mValueError\u001b[0m                                Traceback (most recent call last)",
      "\u001b[1;32m<ipython-input-13-c03f268024b0>\u001b[0m in \u001b[0;36m<module>\u001b[1;34m()\u001b[0m\n\u001b[1;32m----> 1\u001b[1;33m \u001b[0mhdf_tf\u001b[0m\u001b[1;33m=\u001b[0m\u001b[0mh2o\u001b[0m\u001b[1;33m.\u001b[0m\u001b[0mH2OFrame\u001b[0m\u001b[1;33m(\u001b[0m\u001b[0mtmp_df\u001b[0m\u001b[1;33m[\u001b[0m\u001b[0mtmp_df\u001b[0m\u001b[1;33m.\u001b[0m\u001b[0mcolumns\u001b[0m\u001b[1;33m[\u001b[0m\u001b[1;36m0\u001b[0m\u001b[1;33m:\u001b[0m\u001b[1;36m3\u001b[0m\u001b[1;33m]\u001b[0m\u001b[1;33m]\u001b[0m\u001b[1;33m)\u001b[0m\u001b[1;33m\u001b[0m\u001b[0m\n\u001b[0m\u001b[0;32m      2\u001b[0m \u001b[0mhdf_target\u001b[0m \u001b[1;33m=\u001b[0m \u001b[0mh2o\u001b[0m\u001b[1;33m.\u001b[0m\u001b[0mH2OFrame\u001b[0m\u001b[1;33m(\u001b[0m\u001b[0mpd\u001b[0m\u001b[1;33m.\u001b[0m\u001b[0mDataFrame\u001b[0m\u001b[1;33m(\u001b[0m\u001b[0mtmp_df\u001b[0m\u001b[1;33m.\u001b[0m\u001b[0manswers_yn\u001b[0m\u001b[1;33m)\u001b[0m\u001b[1;33m)\u001b[0m\u001b[1;33m\u001b[0m\u001b[0m\n\u001b[0;32m      3\u001b[0m \u001b[0mhdf\u001b[0m \u001b[1;33m=\u001b[0m \u001b[0mh2o\u001b[0m\u001b[1;33m.\u001b[0m\u001b[0mH2OFrame\u001b[0m\u001b[1;33m.\u001b[0m\u001b[0mcbind\u001b[0m\u001b[1;33m(\u001b[0m\u001b[0mhdf_tf\u001b[0m\u001b[1;33m,\u001b[0m\u001b[0mh2o\u001b[0m\u001b[1;33m.\u001b[0m\u001b[0mH2OFrame\u001b[0m\u001b[1;33m.\u001b[0m\u001b[0masfactor\u001b[0m\u001b[1;33m(\u001b[0m\u001b[0mhdf_target\u001b[0m\u001b[1;33m)\u001b[0m\u001b[1;33m)\u001b[0m\u001b[1;33m\u001b[0m\u001b[0m\n",
      "\u001b[1;32mD:\\DATO\\Anaconda2\\envs\\gl-env\\lib\\site-packages\\h2o\\frame.pyc\u001b[0m in \u001b[0;36m__init__\u001b[1;34m(self, python_obj)\u001b[0m\n\u001b[0;32m     61\u001b[0m         \u001b[0mself\u001b[0m\u001b[1;33m.\u001b[0m\u001b[0m_ex\u001b[0m\u001b[1;33m.\u001b[0m\u001b[0m_children\u001b[0m \u001b[1;33m=\u001b[0m \u001b[0mNone\u001b[0m\u001b[1;33m\u001b[0m\u001b[0m\n\u001b[0;32m     62\u001b[0m         \u001b[1;32mif\u001b[0m \u001b[0mpython_obj\u001b[0m \u001b[1;32mis\u001b[0m \u001b[1;32mnot\u001b[0m \u001b[0mNone\u001b[0m\u001b[1;33m:\u001b[0m\u001b[1;33m\u001b[0m\u001b[0m\n\u001b[1;32m---> 63\u001b[1;33m             \u001b[0mself\u001b[0m\u001b[1;33m.\u001b[0m\u001b[0m_upload_python_object\u001b[0m\u001b[1;33m(\u001b[0m\u001b[0mpython_obj\u001b[0m\u001b[1;33m)\u001b[0m\u001b[1;33m\u001b[0m\u001b[0m\n\u001b[0m\u001b[0;32m     64\u001b[0m \u001b[1;33m\u001b[0m\u001b[0m\n\u001b[0;32m     65\u001b[0m     \u001b[1;33m@\u001b[0m\u001b[0mstaticmethod\u001b[0m\u001b[1;33m\u001b[0m\u001b[0m\n",
      "\u001b[1;32mD:\\DATO\\Anaconda2\\envs\\gl-env\\lib\\site-packages\\h2o\\frame.pyc\u001b[0m in \u001b[0;36m_upload_python_object\u001b[1;34m(self, python_obj, destination_frame, header, separator, column_names, column_types, na_strings)\u001b[0m\n\u001b[0;32m    144\u001b[0m                      \u001b[0m_handle_python_dicts\u001b[0m \u001b[1;32mif\u001b[0m \u001b[0mis_type\u001b[0m\u001b[1;33m(\u001b[0m\u001b[0mpython_obj\u001b[0m\u001b[1;33m,\u001b[0m \u001b[0mdict\u001b[0m\u001b[1;33m)\u001b[0m \u001b[1;32melse\u001b[0m\u001b[1;33m\u001b[0m\u001b[0m\n\u001b[0;32m    145\u001b[0m                      _handle_python_lists)\n\u001b[1;32m--> 146\u001b[1;33m         \u001b[0mcol_header\u001b[0m\u001b[1;33m,\u001b[0m \u001b[0mdata_to_write\u001b[0m \u001b[1;33m=\u001b[0m \u001b[0mprocessor\u001b[0m\u001b[1;33m(\u001b[0m\u001b[0mpython_obj\u001b[0m\u001b[1;33m,\u001b[0m \u001b[0mheader\u001b[0m\u001b[1;33m)\u001b[0m\u001b[1;33m\u001b[0m\u001b[0m\n\u001b[0m\u001b[0;32m    147\u001b[0m         \u001b[1;32mif\u001b[0m \u001b[0mcol_header\u001b[0m \u001b[1;32mis\u001b[0m \u001b[0mNone\u001b[0m \u001b[1;32mor\u001b[0m \u001b[0mdata_to_write\u001b[0m \u001b[1;32mis\u001b[0m \u001b[0mNone\u001b[0m\u001b[1;33m:\u001b[0m\u001b[1;33m\u001b[0m\u001b[0m\n\u001b[0;32m    148\u001b[0m             \u001b[1;32mraise\u001b[0m \u001b[0mH2OValueError\u001b[0m\u001b[1;33m(\u001b[0m\u001b[1;34m\"No data to write\"\u001b[0m\u001b[1;33m)\u001b[0m\u001b[1;33m\u001b[0m\u001b[0m\n",
      "\u001b[1;32mD:\\DATO\\Anaconda2\\envs\\gl-env\\lib\\site-packages\\h2o\\utils\\shared_utils.pyc\u001b[0m in \u001b[0;36m_handle_pandas_data_frame\u001b[1;34m(python_obj, header)\u001b[0m\n\u001b[0;32m    139\u001b[0m \u001b[1;33m\u001b[0m\u001b[0m\n\u001b[0;32m    140\u001b[0m \u001b[1;32mdef\u001b[0m \u001b[0m_handle_pandas_data_frame\u001b[0m\u001b[1;33m(\u001b[0m\u001b[0mpython_obj\u001b[0m\u001b[1;33m,\u001b[0m \u001b[0mheader\u001b[0m\u001b[1;33m)\u001b[0m\u001b[1;33m:\u001b[0m\u001b[1;33m\u001b[0m\u001b[0m\n\u001b[1;32m--> 141\u001b[1;33m     \u001b[0mdata\u001b[0m \u001b[1;33m=\u001b[0m \u001b[0m_handle_python_lists\u001b[0m\u001b[1;33m(\u001b[0m\u001b[0mpython_obj\u001b[0m\u001b[1;33m.\u001b[0m\u001b[0mas_matrix\u001b[0m\u001b[1;33m(\u001b[0m\u001b[1;33m)\u001b[0m\u001b[1;33m.\u001b[0m\u001b[0mtolist\u001b[0m\u001b[1;33m(\u001b[0m\u001b[1;33m)\u001b[0m\u001b[1;33m,\u001b[0m \u001b[1;33m-\u001b[0m\u001b[1;36m1\u001b[0m\u001b[1;33m)\u001b[0m\u001b[1;33m[\u001b[0m\u001b[1;36m1\u001b[0m\u001b[1;33m]\u001b[0m\u001b[1;33m\u001b[0m\u001b[0m\n\u001b[0m\u001b[0;32m    142\u001b[0m     \u001b[1;32mreturn\u001b[0m \u001b[0mlist\u001b[0m\u001b[1;33m(\u001b[0m\u001b[0mpython_obj\u001b[0m\u001b[1;33m.\u001b[0m\u001b[0mcolumns\u001b[0m\u001b[1;33m)\u001b[0m\u001b[1;33m,\u001b[0m \u001b[0mdata\u001b[0m\u001b[1;33m\u001b[0m\u001b[0m\n\u001b[0;32m    143\u001b[0m \u001b[1;33m\u001b[0m\u001b[0m\n",
      "\u001b[1;32mD:\\DATO\\Anaconda2\\envs\\gl-env\\lib\\site-packages\\h2o\\utils\\shared_utils.pyc\u001b[0m in \u001b[0;36m_handle_python_lists\u001b[1;34m(python_obj, check_header)\u001b[0m\n\u001b[0;32m     95\u001b[0m     \u001b[1;31m# convert all inputs to lol\u001b[0m\u001b[1;33m\u001b[0m\u001b[1;33m\u001b[0m\u001b[0m\n\u001b[0;32m     96\u001b[0m     \u001b[1;32mif\u001b[0m \u001b[0m_is_list_of_lists\u001b[0m\u001b[1;33m(\u001b[0m\u001b[0mpython_obj\u001b[0m\u001b[1;33m)\u001b[0m\u001b[1;33m:\u001b[0m  \u001b[1;31m# do we have a list of lists: [[...], ..., [...]] ?\u001b[0m\u001b[1;33m\u001b[0m\u001b[0m\n\u001b[1;32m---> 97\u001b[1;33m         \u001b[0mncols\u001b[0m \u001b[1;33m=\u001b[0m \u001b[0m_check_lists_of_lists\u001b[0m\u001b[1;33m(\u001b[0m\u001b[0mpython_obj\u001b[0m\u001b[1;33m)\u001b[0m  \u001b[1;31m# must be a list of flat lists, raise ValueError if not\u001b[0m\u001b[1;33m\u001b[0m\u001b[0m\n\u001b[0m\u001b[0;32m     98\u001b[0m     \u001b[1;32melif\u001b[0m \u001b[0misinstance\u001b[0m\u001b[1;33m(\u001b[0m\u001b[0mpython_obj\u001b[0m\u001b[1;33m,\u001b[0m \u001b[1;33m(\u001b[0m\u001b[0mlist\u001b[0m\u001b[1;33m,\u001b[0m \u001b[0mtuple\u001b[0m\u001b[1;33m)\u001b[0m\u001b[1;33m)\u001b[0m\u001b[1;33m:\u001b[0m  \u001b[1;31m# single list\u001b[0m\u001b[1;33m\u001b[0m\u001b[0m\n\u001b[0;32m     99\u001b[0m         \u001b[0mncols\u001b[0m \u001b[1;33m=\u001b[0m \u001b[1;36m1\u001b[0m\u001b[1;33m\u001b[0m\u001b[0m\n",
      "\u001b[1;32mD:\\DATO\\Anaconda2\\envs\\gl-env\\lib\\site-packages\\h2o\\utils\\shared_utils.pyc\u001b[0m in \u001b[0;36m_check_lists_of_lists\u001b[1;34m(python_obj)\u001b[0m\n\u001b[0;32m     88\u001b[0m             \u001b[1;31m# in fact, we must have a list of flat lists!\u001b[0m\u001b[1;33m\u001b[0m\u001b[1;33m\u001b[0m\u001b[0m\n\u001b[0;32m     89\u001b[0m             \u001b[1;32mif\u001b[0m \u001b[0misinstance\u001b[0m\u001b[1;33m(\u001b[0m\u001b[0mll\u001b[0m\u001b[1;33m,\u001b[0m \u001b[1;33m(\u001b[0m\u001b[0mtuple\u001b[0m\u001b[1;33m,\u001b[0m \u001b[0mlist\u001b[0m\u001b[1;33m)\u001b[0m\u001b[1;33m)\u001b[0m\u001b[1;33m:\u001b[0m\u001b[1;33m\u001b[0m\u001b[0m\n\u001b[1;32m---> 90\u001b[1;33m                 \u001b[1;32mraise\u001b[0m \u001b[0mValueError\u001b[0m\u001b[1;33m(\u001b[0m\u001b[1;34m\"`python_obj` is not a list of flat lists!\"\u001b[0m\u001b[1;33m)\u001b[0m\u001b[1;33m\u001b[0m\u001b[0m\n\u001b[0m\u001b[0;32m     91\u001b[0m     \u001b[1;32mreturn\u001b[0m \u001b[0mmost_cols\u001b[0m\u001b[1;33m\u001b[0m\u001b[0m\n\u001b[0;32m     92\u001b[0m \u001b[1;33m\u001b[0m\u001b[0m\n",
      "\u001b[1;31mValueError\u001b[0m: `python_obj` is not a list of flat lists!"
     ]
    }
   ],
   "source": [
    "hdf_tf=h2o.H2OFrame(tmp_df[tmp_df.columns[0:3]])\n",
    "hdf_target = h2o.H2OFrame(pd.DataFrame(tmp_df.answers_yn))\n",
    "hdf = h2o.H2OFrame.cbind(hdf_tf,h2o.H2OFrame.asfactor(hdf_target))"
   ]
  },
  {
   "cell_type": "code",
   "execution_count": 93,
   "metadata": {
    "collapsed": false
   },
   "outputs": [
    {
     "ename": "NameError",
     "evalue": "name 'hdf' is not defined",
     "output_type": "error",
     "traceback": [
      "\u001b[1;31m---------------------------------------------------------------------------\u001b[0m",
      "\u001b[1;31mNameError\u001b[0m                                 Traceback (most recent call last)",
      "\u001b[1;32m<ipython-input-93-4eecfa342eb8>\u001b[0m in \u001b[0;36m<module>\u001b[1;34m()\u001b[0m\n\u001b[1;32m----> 1\u001b[1;33m \u001b[0mhdf\u001b[0m\u001b[1;33m.\u001b[0m\u001b[0mhead\u001b[0m\u001b[1;33m(\u001b[0m\u001b[1;36m1\u001b[0m\u001b[1;33m)\u001b[0m\u001b[1;33m\u001b[0m\u001b[0m\n\u001b[0m",
      "\u001b[1;31mNameError\u001b[0m: name 'hdf' is not defined"
     ]
    }
   ],
   "source": [
    "hdf.head(1)"
   ]
  },
  {
   "cell_type": "code",
   "execution_count": null,
   "metadata": {
    "collapsed": true
   },
   "outputs": [],
   "source": [
    "hdf_train, hdf_validate=hdf.split_frame(ratios=[0.75], seed =5010)"
   ]
  },
  {
   "cell_type": "code",
   "execution_count": null,
   "metadata": {
    "collapsed": true
   },
   "outputs": [],
   "source": [
    "from h2o.estimators.naive_bayes import H2ONaiveBayesEstimator\n",
    "from h2o.estimators.gbm import H2OGradientBoostingEstimator\n",
    "from h2o.estimators.deeplearning import H2ODeepLearningEstimator"
   ]
  },
  {
   "cell_type": "code",
   "execution_count": null,
   "metadata": {
    "collapsed": true
   },
   "outputs": [],
   "source": []
  }
 ],
 "metadata": {
  "kernelspec": {
   "display_name": "Python 2",
   "language": "python",
   "name": "python2"
  },
  "language_info": {
   "codemirror_mode": {
    "name": "ipython",
    "version": 2
   },
   "file_extension": ".py",
   "mimetype": "text/x-python",
   "name": "python",
   "nbconvert_exporter": "python",
   "pygments_lexer": "ipython2",
   "version": "2.7.11"
  }
 },
 "nbformat": 4,
 "nbformat_minor": 0
}
